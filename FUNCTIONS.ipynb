{
 "cells": [
  {
   "cell_type": "markdown",
   "metadata": {},
   "source": [
    "<h1 style=\"color:rgb(199, 0, 57)\"> Working with FUNCTION </h1>\n",
    "\n",
    "<b> Author: ***** </b> <br>\n",
    "Language: Python <br>\n",
    "Version: 1.0.0 <br>\n",
    "Date: 09-Sept-2020<br>"
   ]
  },
  {
   "cell_type": "markdown",
   "metadata": {},
   "source": [
    "<h3 style=\"color:RGB(65, 105, 225); font-size: 14pt\">* Variable (Tuple) </h3>"
   ]
  },
  {
   "cell_type": "code",
   "execution_count": 2,
   "metadata": {},
   "outputs": [
    {
     "name": "stdout",
     "output_type": "stream",
     "text": [
      "a = (1, 2, 3) tuple\n"
     ]
    }
   ],
   "source": [
    "a = 1, 2, 3\n",
    "\n",
    "print(f\"{a = } {type(a).__name__}\")"
   ]
  },
  {
   "cell_type": "markdown",
   "metadata": {},
   "source": [
    "<h3 style=\"color:RGB(65, 105, 225); font-size: 14pt\">* Variable (Tuple unpack and print) </h3>"
   ]
  },
  {
   "cell_type": "code",
   "execution_count": 20,
   "metadata": {},
   "outputs": [
    {
     "name": "stdout",
     "output_type": "stream",
     "text": [
      "1 (2, 3)\n",
      "1 2 3\n"
     ]
    }
   ],
   "source": [
    "a, b = 1, (2, 3)\n",
    "\n",
    "print(a, b)\n",
    "print(a, *b)"
   ]
  },
  {
   "cell_type": "markdown",
   "metadata": {},
   "source": [
    "<h3 style=\"color:RGB(65, 105, 225); font-size: 14pt\">* Variable (Tuple unpack and store in another variable) </h3>"
   ]
  },
  {
   "cell_type": "code",
   "execution_count": 19,
   "metadata": {},
   "outputs": [
    {
     "name": "stdout",
     "output_type": "stream",
     "text": [
      "1 2 3\n",
      "x = 1, y = 2, z = 3\n"
     ]
    }
   ],
   "source": [
    "a, b = 1, (2, 3)\n",
    "\n",
    "x, y, z = a, *b\n",
    "\n",
    "print(f\"{x} {y} {z}\")\n",
    "print(f\"{x = }, {y = }, {z = }\")"
   ]
  },
  {
   "cell_type": "markdown",
   "metadata": {},
   "source": [
    "<h3 style=\"color:RGB(65, 105, 225); font-size: 14pt\">* Variable Unpacking </h3>"
   ]
  },
  {
   "cell_type": "code",
   "execution_count": null,
   "metadata": {},
   "outputs": [],
   "source": []
  },
  {
   "cell_type": "markdown",
   "metadata": {},
   "source": [
    "<h3 style=\"color:RGB(65, 105, 225); font-size: 14pt\">* Variable Unpacking </h3>"
   ]
  },
  {
   "cell_type": "code",
   "execution_count": null,
   "metadata": {},
   "outputs": [],
   "source": []
  },
  {
   "cell_type": "markdown",
   "metadata": {},
   "source": [
    "<h3 style=\"color:RGB(65, 105, 225); font-size: 14pt\">* Variable Unpacking </h3>"
   ]
  },
  {
   "cell_type": "code",
   "execution_count": null,
   "metadata": {},
   "outputs": [],
   "source": []
  },
  {
   "cell_type": "markdown",
   "metadata": {},
   "source": [
    "<h3 style=\"color:RGB(65, 105, 225); font-size: 14pt\">* Function without parameters </h3>"
   ]
  },
  {
   "cell_type": "code",
   "execution_count": null,
   "metadata": {},
   "outputs": [],
   "source": [
    "def fn() :\n",
    "    print(f\"Hello World!\")\n",
    "\n",
    "fn1()"
   ]
  },
  {
   "cell_type": "markdown",
   "metadata": {},
   "source": [
    "<h3 style=\"color:RGB(65, 105, 225); font-size: 14pt\">* Function with parameters </h3>"
   ]
  },
  {
   "cell_type": "code",
   "execution_count": null,
   "metadata": {},
   "outputs": [],
   "source": [
    "def fn(a: int, b: int) -> int:\n",
    "    print(a + b)\n",
    "\n",
    "fn(int(input(\"First value: \")), int(input(\"Second value: \")))"
   ]
  },
  {
   "cell_type": "markdown",
   "metadata": {},
   "source": [
    "<h3 style=\"color:RGB(65, 105, 225); font-size: 14pt\">* Tuple Unpacking </h3>"
   ]
  },
  {
   "cell_type": "code",
   "execution_count": null,
   "metadata": {},
   "outputs": [],
   "source": [
    "x = 10, 20, 30\n",
    "\n",
    "def fn(a: int, b: int, c: int):\n",
    "    print(a + b + c)\n",
    "    \n",
    "fn(*x)"
   ]
  },
  {
   "cell_type": "markdown",
   "metadata": {},
   "source": [
    "<h3 style=\"color:RGB(65, 105, 225); font-size: 14pt\">* Tuple Unpacking </h3>"
   ]
  },
  {
   "cell_type": "code",
   "execution_count": null,
   "metadata": {},
   "outputs": [],
   "source": [
    "x = (10, 20, 30, 40, 50)\n",
    "\n",
    "def fn(a: int,*b: int) -> object:\n",
    "    print(f\"{a = } {type(a).__name__},  {b = } {type(b).__name__}\")\n",
    "    \n",
    "fn(x, 77, 78, 79)\n",
    "print()\n",
    "fn(*x, 77, 78, 79)"
   ]
  },
  {
   "cell_type": "markdown",
   "metadata": {},
   "source": [
    "<h3 style=\"color:RGB(65, 105, 225); font-size: 14pt\">* List Unpacking </h3>"
   ]
  },
  {
   "cell_type": "code",
   "execution_count": null,
   "metadata": {},
   "outputs": [],
   "source": [
    "x = [10, 20, 30, 40, 50]\n",
    "\n",
    "def fn(a: int,*b: int) -> object:\n",
    "    print(f\"{a = } {type(a).__name__},  {b = } {type(b).__name__}\")\n",
    "    \n",
    "fn(x, 77, 78, 79)\n",
    "print()\n",
    "fn(*x, 77, 78, 79)"
   ]
  },
  {
   "cell_type": "markdown",
   "metadata": {},
   "source": [
    "<h3 style=\"color:RGB(65, 105, 225); font-size: 14pt\">* Set Unpacking </h3>"
   ]
  },
  {
   "cell_type": "code",
   "execution_count": null,
   "metadata": {},
   "outputs": [],
   "source": [
    "x = {10, 20, 30, 40, 50}\n",
    "\n",
    "def fn(a: int,*b: int) -> object:\n",
    "    print(f\"{a = } {type(a).__name__},  {b = } {type(b).__name__}\")\n",
    "    \n",
    "fn(x, 77, 78, 79)\n",
    "print()\n",
    "fn(*x, 77, 78, 79)"
   ]
  },
  {
   "cell_type": "markdown",
   "metadata": {},
   "source": [
    "<h3 style=\"color:RGB(65, 105, 225); font-size: 14pt\">* List comprehension Unpacking </h3>"
   ]
  },
  {
   "cell_type": "code",
   "execution_count": null,
   "metadata": {},
   "outputs": [],
   "source": [
    "def fn(a: int,*b: int) -> object:\n",
    "    print(f\"{a = } {type(a).__name__},  {b = } {type(b).__name__}\")\n",
    "    \n",
    "fn([i for i in range(1, 4)], 77, 78, 79)\n",
    "print()\n",
    "fn(*[i for i in range(1, 4)], 77, 78, 79)"
   ]
  },
  {
   "cell_type": "markdown",
   "metadata": {},
   "source": [
    "<h3 style=\"color:RGB(65, 105, 225); font-size: 14pt\">* TODO </h3>"
   ]
  },
  {
   "cell_type": "code",
   "execution_count": null,
   "metadata": {},
   "outputs": [],
   "source": []
  },
  {
   "cell_type": "markdown",
   "metadata": {},
   "source": [
    "<h3 style=\"color:RGB(65, 105, 225); font-size: 14pt\">* TODO </h3>"
   ]
  },
  {
   "cell_type": "code",
   "execution_count": null,
   "metadata": {},
   "outputs": [],
   "source": []
  },
  {
   "cell_type": "markdown",
   "metadata": {},
   "source": [
    "<h3 style=\"color:RGB(65, 105, 225); font-size: 14pt\">* TODO </h3>"
   ]
  },
  {
   "cell_type": "code",
   "execution_count": null,
   "metadata": {},
   "outputs": [],
   "source": []
  },
  {
   "cell_type": "markdown",
   "metadata": {},
   "source": [
    "<h3 style=\"color:RGB(65, 105, 225); font-size: 14pt\">* TODO </h3>"
   ]
  },
  {
   "cell_type": "code",
   "execution_count": null,
   "metadata": {},
   "outputs": [],
   "source": []
  },
  {
   "cell_type": "markdown",
   "metadata": {},
   "source": [
    "<h3 style=\"color:RGB(65, 105, 225); font-size: 14pt\">* TODO </h3>"
   ]
  },
  {
   "cell_type": "code",
   "execution_count": null,
   "metadata": {},
   "outputs": [],
   "source": []
  },
  {
   "cell_type": "markdown",
   "metadata": {},
   "source": [
    "<h3 style=\"color:RGB(65, 105, 225); font-size: 14pt\">* TODO </h3>"
   ]
  },
  {
   "cell_type": "code",
   "execution_count": null,
   "metadata": {},
   "outputs": [],
   "source": []
  },
  {
   "cell_type": "markdown",
   "metadata": {},
   "source": [
    "<h3 style=\"color:RGB(65, 105, 225); font-size: 14pt\">* TODO </h3>"
   ]
  },
  {
   "cell_type": "code",
   "execution_count": null,
   "metadata": {},
   "outputs": [],
   "source": []
  },
  {
   "cell_type": "markdown",
   "metadata": {},
   "source": [
    "<h3 style=\"color:RGB(65, 105, 225); font-size: 14pt\">* TODO </h3>"
   ]
  },
  {
   "cell_type": "code",
   "execution_count": null,
   "metadata": {},
   "outputs": [],
   "source": []
  },
  {
   "cell_type": "markdown",
   "metadata": {},
   "source": [
    "<h3 style=\"color:RGB(65, 105, 225); font-size: 14pt\">* TODO </h3>"
   ]
  },
  {
   "cell_type": "code",
   "execution_count": null,
   "metadata": {},
   "outputs": [],
   "source": []
  },
  {
   "cell_type": "markdown",
   "metadata": {},
   "source": [
    "<h3 style=\"color:RGB(65, 105, 225); font-size: 14pt\">* All function in one List object </h3>"
   ]
  },
  {
   "cell_type": "code",
   "execution_count": 29,
   "metadata": {},
   "outputs": [
    {
     "name": "stdout",
     "output_type": "stream",
     "text": [
      "i = <function add at 0x0000022DD6E8F160>\n",
      "i = <function multiply at 0x0000022DD6E8F280>\n",
      "i = <function divide at 0x0000022DD6E8F820>\n",
      "i = <function subtract at 0x0000022DD6E8F790>\n"
     ]
    }
   ],
   "source": [
    "allFunctions = []\n",
    "\n",
    "def add(x: int,  y: int) -> object:\n",
    "    return x + y\n",
    "\n",
    "def multiply(x: int,  y: int) -> object:\n",
    "    return x * y\n",
    "\n",
    "def divide(x: int,  y: int) -> object:\n",
    "    return x / y\n",
    "\n",
    "def subtract(x: int,  y: int) -> object:\n",
    "    return x - y\n",
    "\n",
    "allFunctions.append(add)\n",
    "allFunctions.append(multiply)\n",
    "allFunctions.append(divide)\n",
    "allFunctions.append(subtract)\n",
    "\n",
    "\n",
    "for i in allFunctions:\n",
    "    print(f\"{i = }\")"
   ]
  },
  {
   "cell_type": "markdown",
   "metadata": {},
   "source": [
    "<h3 style=\"color:RGB(65, 105, 225); font-size: 14pt\">* Call function from one List object </h3>"
   ]
  },
  {
   "cell_type": "code",
   "execution_count": 31,
   "metadata": {},
   "outputs": [
    {
     "name": "stdout",
     "output_type": "stream",
     "text": [
      "x = 3\n"
     ]
    }
   ],
   "source": [
    "allFunctions = []\n",
    "\n",
    "def add(x: int,  y: int) -> object:\n",
    "    return x + y\n",
    "\n",
    "def multiply(x: int,  y: int) -> object:\n",
    "    return x * y\n",
    "\n",
    "def divide(x: int,  y: int) -> object:\n",
    "    return x / y\n",
    "\n",
    "def subtract(x: int,  y: int) -> object:\n",
    "    return x - y\n",
    "\n",
    "allFunctions.append(add)\n",
    "allFunctions.append(multiply)\n",
    "allFunctions.append(divide)\n",
    "allFunctions.append(subtract)\n",
    "\n",
    "x = allFunctions[0](1, 2)\n",
    "print(f\"{x = }\")"
   ]
  },
  {
   "cell_type": "markdown",
   "metadata": {},
   "source": [
    "<h3 style=\"color:RGB(65, 105, 225); font-size: 14pt\">* TODO </h3>"
   ]
  },
  {
   "cell_type": "code",
   "execution_count": null,
   "metadata": {},
   "outputs": [],
   "source": []
  },
  {
   "cell_type": "markdown",
   "metadata": {},
   "source": [
    "<h3 style=\"color:RGB(65, 105, 225); font-size: 14pt\">* TODO </h3>"
   ]
  },
  {
   "cell_type": "code",
   "execution_count": null,
   "metadata": {},
   "outputs": [],
   "source": []
  },
  {
   "cell_type": "markdown",
   "metadata": {},
   "source": [
    "<h3 style=\"color:RGB(65, 105, 225); font-size: 14pt\">* TODO </h3>"
   ]
  },
  {
   "cell_type": "code",
   "execution_count": null,
   "metadata": {},
   "outputs": [],
   "source": []
  },
  {
   "cell_type": "markdown",
   "metadata": {},
   "source": [
    "<h3 style=\"color:RGB(65, 105, 225); font-size: 14pt\">* TODO </h3>"
   ]
  },
  {
   "cell_type": "code",
   "execution_count": null,
   "metadata": {},
   "outputs": [],
   "source": []
  },
  {
   "cell_type": "markdown",
   "metadata": {},
   "source": [
    "<h3 style=\"color:RGB(65, 105, 225); font-size: 14pt\">* TODO </h3>"
   ]
  },
  {
   "cell_type": "code",
   "execution_count": null,
   "metadata": {},
   "outputs": [],
   "source": []
  },
  {
   "cell_type": "markdown",
   "metadata": {},
   "source": [
    "<h3 style=\"color:RGB(65, 105, 225); font-size: 14pt\">* TODO </h3>"
   ]
  },
  {
   "cell_type": "code",
   "execution_count": null,
   "metadata": {},
   "outputs": [],
   "source": []
  },
  {
   "cell_type": "markdown",
   "metadata": {},
   "source": [
    "<h3 style=\"color:RGB(65, 105, 225); font-size: 14pt\">* TODO </h3>"
   ]
  },
  {
   "cell_type": "code",
   "execution_count": null,
   "metadata": {},
   "outputs": [],
   "source": []
  },
  {
   "cell_type": "markdown",
   "metadata": {},
   "source": [
    "<h3 style=\"color:RGB(65, 105, 225); font-size: 14pt\">* TODO </h3>"
   ]
  },
  {
   "cell_type": "code",
   "execution_count": null,
   "metadata": {},
   "outputs": [],
   "source": []
  },
  {
   "cell_type": "markdown",
   "metadata": {},
   "source": [
    "<h3 style=\"color:RGB(65, 105, 225); font-size: 14pt\">* TODO </h3>"
   ]
  },
  {
   "cell_type": "code",
   "execution_count": null,
   "metadata": {},
   "outputs": [],
   "source": []
  },
  {
   "cell_type": "markdown",
   "metadata": {},
   "source": [
    "<h3 style=\"color:RGB(65, 105, 225); font-size: 14pt\">* TODO </h3>"
   ]
  },
  {
   "cell_type": "code",
   "execution_count": null,
   "metadata": {},
   "outputs": [],
   "source": []
  }
 ],
 "metadata": {
  "kernelspec": {
   "display_name": "Python 3",
   "language": "python",
   "name": "python3"
  },
  "language_info": {
   "codemirror_mode": {
    "name": "ipython",
    "version": 3
   },
   "file_extension": ".py",
   "mimetype": "text/x-python",
   "name": "python",
   "nbconvert_exporter": "python",
   "pygments_lexer": "ipython3",
   "version": "3.8.5"
  }
 },
 "nbformat": 4,
 "nbformat_minor": 4
}
