{
 "cells": [
  {
   "cell_type": "markdown",
   "metadata": {},
   "source": [
    "<h1 style=\"color:rgb(199, 0, 57)\"> Working with FUNCTION </h1>\n",
    "\n",
    "<b> Author: ***** </b> <br>\n",
    "Language: Python <br>\n",
    "Version: 1.0.0 <br>\n",
    "Date: 09-Sept-2020<br>"
   ]
  },
  {
   "cell_type": "markdown",
   "metadata": {},
   "source": [
    "<p style=\"color:RGB(65, 105, 225); font-size: 14pt\">* Tuple unpack </p>"
   ]
  },
  {
   "cell_type": "code",
   "execution_count": null,
   "metadata": {},
   "outputs": [],
   "source": [
    "a = 1, 2, 3\n",
    "\n",
    "print(a)\n",
    "print(*a)"
   ]
  },
  {
   "cell_type": "markdown",
   "metadata": {},
   "source": [
    "<p style=\"color:RGB(65, 105, 225); font-size: 14pt\">* List Unpacking </p>"
   ]
  },
  {
   "cell_type": "code",
   "execution_count": null,
   "metadata": {},
   "outputs": [],
   "source": [
    "a = [1, 2, 3]\n",
    "\n",
    "print(a)\n",
    "print(*a)"
   ]
  },
  {
   "cell_type": "markdown",
   "metadata": {},
   "source": [
    "<p style=\"color:RGB(65, 105, 225); font-size: 14pt\">* Tuple unpack </p>"
   ]
  },
  {
   "cell_type": "code",
   "execution_count": null,
   "metadata": {},
   "outputs": [],
   "source": [
    "a, b = 1, (2, 3)\n",
    "\n",
    "print(a, *b)"
   ]
  },
  {
   "cell_type": "markdown",
   "metadata": {},
   "source": [
    "<p style=\"color:RGB(65, 105, 225); font-size: 14pt\">* Tuple unpack </p>"
   ]
  },
  {
   "cell_type": "code",
   "execution_count": null,
   "metadata": {},
   "outputs": [],
   "source": [
    "a, b = 1, (2, 3)\n",
    "\n",
    "x, y, z = a, *b\n",
    "\n",
    "print(x, y, z)"
   ]
  },
  {
   "cell_type": "markdown",
   "metadata": {},
   "source": [
    "<p style=\"color:RGB(65, 105, 225); font-size: 14pt\">* SET Unpacking </p>"
   ]
  },
  {
   "cell_type": "code",
   "execution_count": null,
   "metadata": {},
   "outputs": [],
   "source": [
    "a = {1, 2, 3}\n",
    "\n",
    "x, y, z = *a\n",
    "print(x, y, z)"
   ]
  },
  {
   "cell_type": "markdown",
   "metadata": {},
   "source": [
    "<p style=\"color:RGB(65, 105, 225); font-size: 14pt\">* Variable Unpacking </p>"
   ]
  },
  {
   "cell_type": "code",
   "execution_count": null,
   "metadata": {},
   "outputs": [],
   "source": []
  },
  {
   "cell_type": "markdown",
   "metadata": {},
   "source": [
    "<p style=\"color:RGB(65, 105, 225); font-size: 14pt\">* Function without parameters </p>"
   ]
  },
  {
   "cell_type": "code",
   "execution_count": null,
   "metadata": {},
   "outputs": [],
   "source": [
    "def fn() :\n",
    "    print(f\"Hello World!\")\n",
    "\n",
    "fn1()"
   ]
  },
  {
   "cell_type": "markdown",
   "metadata": {},
   "source": [
    "<p style=\"color:RGB(65, 105, 225); font-size: 14pt\">* Function with parameters </p>"
   ]
  },
  {
   "cell_type": "code",
   "execution_count": null,
   "metadata": {},
   "outputs": [],
   "source": [
    "def fn(a: int, b: int) -> int:\n",
    "    print(a + b)\n",
    "\n",
    "fn(int(input(\"First value: \")), int(input(\"Second value: \")))"
   ]
  },
  {
   "cell_type": "markdown",
   "metadata": {},
   "source": [
    "<p style=\"color:RGB(65, 105, 225); font-size: 14pt\">* Tuple Unpacking </p>"
   ]
  },
  {
   "cell_type": "code",
   "execution_count": null,
   "metadata": {},
   "outputs": [],
   "source": [
    "x = 10, 20, 30\n",
    "\n",
    "def fn(a: int, b: int, c: int):\n",
    "    print(a + b + c)\n",
    "    \n",
    "fn(*x)"
   ]
  },
  {
   "cell_type": "markdown",
   "metadata": {},
   "source": [
    "<p style=\"color:RGB(65, 105, 225); font-size: 14pt\">* Tuple Unpacking </p>"
   ]
  },
  {
   "cell_type": "code",
   "execution_count": null,
   "metadata": {},
   "outputs": [],
   "source": [
    "x = (10, 20, 30, 40, 50)\n",
    "\n",
    "def fn(a: int,*b: int) -> object:\n",
    "    print(a, b)\n",
    "    \n",
    "fn(x, 77, 78, 79)\n",
    "print()\n",
    "fn(*x, 77, 78, 79)"
   ]
  },
  {
   "cell_type": "markdown",
   "metadata": {},
   "source": [
    "<p style=\"color:RGB(65, 105, 225); font-size: 14pt\">* List Unpacking </p>"
   ]
  },
  {
   "cell_type": "code",
   "execution_count": null,
   "metadata": {},
   "outputs": [],
   "source": [
    "x = [10, 20, 30, 40, 50]\n",
    "\n",
    "def fn(a: int,*b: int) -> object:\n",
    "    print(a, b)\n",
    "    \n",
    "fn(x, 77, 78, 79)\n",
    "print()\n",
    "fn(*x, 77, 78, 79)"
   ]
  },
  {
   "cell_type": "markdown",
   "metadata": {},
   "source": [
    "<p style=\"color:RGB(65, 105, 225); font-size: 14pt\">* Set Unpacking </p>"
   ]
  },
  {
   "cell_type": "code",
   "execution_count": null,
   "metadata": {},
   "outputs": [],
   "source": [
    "x = {10, 20, 30, 40, 50}\n",
    "\n",
    "def fn(a: int,*b: int) -> object:\n",
    "    print(a, b)\n",
    "    \n",
    "fn(x, 77, 78, 79)\n",
    "print()\n",
    "fn(*x, 77, 78, 79)"
   ]
  },
  {
   "cell_type": "markdown",
   "metadata": {},
   "source": [
    "<p style=\"color:RGB(65, 105, 225); font-size: 14pt\">* List comprehension Unpacking </p>"
   ]
  },
  {
   "cell_type": "code",
   "execution_count": null,
   "metadata": {},
   "outputs": [],
   "source": [
    "def fn(a: int,*b: int) -> object:\n",
    "    print(a, b)\n",
    "    \n",
    "fn([1, 2, 3], 77, 78, 79)\n",
    "print()\n",
    "fn(*[1, 2, 3], 77, 78, 79)"
   ]
  },
  {
   "cell_type": "markdown",
   "metadata": {},
   "source": [
    "<p style=\"color:RGB(65, 105, 225); font-size: 14pt\">* List comprehension Unpacking </p>"
   ]
  },
  {
   "cell_type": "code",
   "execution_count": null,
   "metadata": {},
   "outputs": [],
   "source": [
    "def fn(a: int,*b: int) -> None:\n",
    "    print(a, b)\n",
    "    \n",
    "fn([i for i in range(1, 4)], 77, 78, 79)\n",
    "print()\n",
    "fn(*[i for i in range(1, 4)], 77, 78, 79)"
   ]
  },
  {
   "cell_type": "markdown",
   "metadata": {},
   "source": [
    "<p style=\"color:RGB(65, 105, 225); font-size: 14pt\">* Return DICT </p>"
   ]
  },
  {
   "cell_type": "code",
   "execution_count": null,
   "metadata": {},
   "outputs": [],
   "source": [
    "def fn(x: int, y: int) -> dict:\n",
    "    return {\"result\": x + y}\n",
    "\n",
    "d = fn(5, 6)\n",
    "print(d)"
   ]
  },
  {
   "cell_type": "markdown",
   "metadata": {},
   "source": [
    "<p style=\"color:RGB(65, 105, 225); font-size: 14pt\">* TODO </p>"
   ]
  },
  {
   "cell_type": "code",
   "execution_count": 3,
   "metadata": {},
   "outputs": [
    {
     "name": "stdout",
     "output_type": "stream",
     "text": [
      "Length is:  1\n",
      "(1, 2, 3)\n",
      "--------------------\n",
      "Length is:  3\n",
      "1\n",
      "2\n",
      "3\n",
      "--------------------\n",
      "Length is:  3\n",
      "4\n",
      "5\n",
      "6\n",
      "--------------------\n"
     ]
    }
   ],
   "source": [
    "def fn(*data):\n",
    "    print(\"Length is: \", len(data))\n",
    "    for i in data:\n",
    "        print(i)\n",
    "    print(\"-\" * 20)\n",
    "    \n",
    "x = 1, 2, 3\n",
    "\n",
    "fn(x)\n",
    "fn(*x)\n",
    "fn(4, 5, 6)"
   ]
  },
  {
   "cell_type": "markdown",
   "metadata": {},
   "source": [
    "<p style=\"color:RGB(65, 105, 225); font-size: 14pt\">* TODO </p>"
   ]
  },
  {
   "cell_type": "code",
   "execution_count": 2,
   "metadata": {},
   "outputs": [
    {
     "name": "stdout",
     "output_type": "stream",
     "text": [
      "((1, 2, 3),)\n",
      "(1, 2, 3)\n"
     ]
    }
   ],
   "source": [
    "def fn(a, b, c):\n",
    "    print(a, b, c)\n",
    "\n",
    "\n",
    "x = 1, 2, 3\n",
    "fn(*x)\n",
    "\n",
    "\n",
    "def fn(*data):\n",
    "    print(data)\n",
    "    for i in data:\n",
    "        print(i)\n",
    "\n",
    "\n",
    "x = 1, 2, 3\n",
    "fn(x)"
   ]
  },
  {
   "cell_type": "markdown",
   "metadata": {},
   "source": [
    "<p style=\"color:RGB(65, 105, 225); font-size: 14pt\">* TODO </p>"
   ]
  },
  {
   "cell_type": "code",
   "execution_count": null,
   "metadata": {},
   "outputs": [],
   "source": []
  },
  {
   "cell_type": "markdown",
   "metadata": {},
   "source": [
    "<p style=\"color:RGB(65, 105, 225); font-size: 14pt\">* TODO </p>"
   ]
  },
  {
   "cell_type": "code",
   "execution_count": null,
   "metadata": {},
   "outputs": [],
   "source": []
  },
  {
   "cell_type": "markdown",
   "metadata": {},
   "source": [
    "<p style=\"color:RGB(65, 105, 225); font-size: 14pt\">* TODO </p>"
   ]
  },
  {
   "cell_type": "code",
   "execution_count": null,
   "metadata": {},
   "outputs": [],
   "source": []
  },
  {
   "cell_type": "markdown",
   "metadata": {},
   "source": [
    "<p style=\"color:RGB(65, 105, 225); font-size: 14pt\">* TODO </p>"
   ]
  },
  {
   "cell_type": "code",
   "execution_count": null,
   "metadata": {},
   "outputs": [],
   "source": []
  },
  {
   "cell_type": "markdown",
   "metadata": {},
   "source": [
    "<p style=\"color:RGB(65, 105, 225); font-size: 14pt\">* TODO </p>"
   ]
  },
  {
   "cell_type": "code",
   "execution_count": null,
   "metadata": {},
   "outputs": [],
   "source": []
  },
  {
   "cell_type": "markdown",
   "metadata": {},
   "source": [
    "<p style=\"color:RGB(65, 105, 225); font-size: 14pt\">* Function in one List object </p>"
   ]
  },
  {
   "cell_type": "code",
   "execution_count": null,
   "metadata": {},
   "outputs": [],
   "source": [
    "allFunctions = []\n",
    "\n",
    "def add(x: int,  y: int) -> object:\n",
    "    return x + y\n",
    "\n",
    "def multiply(x: int,  y: int) -> object:\n",
    "    return x * y\n",
    "\n",
    "def divide(x: int,  y: int) -> object:\n",
    "    return x / y\n",
    "\n",
    "def subtract(x: int,  y: int) -> object:\n",
    "    return x - y\n",
    "\n",
    "allFunctions.append(add)\n",
    "allFunctions.append(multiply)\n",
    "allFunctions.append(divide)\n",
    "allFunctions.append(subtract)\n",
    "\n",
    "\n",
    "for i in allFunctions:\n",
    "    print(i)"
   ]
  },
  {
   "cell_type": "markdown",
   "metadata": {},
   "source": [
    "<p style=\"color:RGB(65, 105, 225); font-size: 14pt\">* Call function from one List object </p>"
   ]
  },
  {
   "cell_type": "code",
   "execution_count": null,
   "metadata": {},
   "outputs": [],
   "source": [
    "allFunctions = []\n",
    "\n",
    "def add(x: int,  y: int) -> object:\n",
    "    return x + y\n",
    "\n",
    "def multiply(x: int,  y: int) -> object:\n",
    "    return x * y\n",
    "\n",
    "def divide(x: int,  y: int) -> object:\n",
    "    return x / y\n",
    "\n",
    "def subtract(x: int,  y: int) -> object:\n",
    "    return x - y\n",
    "\n",
    "allFunctions.append(add)\n",
    "allFunctions.append(multiply)\n",
    "allFunctions.append(divide)\n",
    "allFunctions.append(subtract)\n",
    "\n",
    "x = allFunctions[0](1, 2)\n",
    "print(x)"
   ]
  },
  {
   "cell_type": "markdown",
   "metadata": {},
   "source": [
    "<p style=\"color:RGB(65, 105, 225); font-size: 14pt\">* Sum of n numbers </p>"
   ]
  },
  {
   "cell_type": "code",
   "execution_count": null,
   "metadata": {},
   "outputs": [],
   "source": [
    "def fn(n):\n",
    "    sm = n * (n + 1) // 2\n",
    "    return sm\n",
    "\n",
    "print(fn(12345))"
   ]
  },
  {
   "cell_type": "markdown",
   "metadata": {},
   "source": [
    "<p style=\"color:RGB(65, 105, 225); font-size: 14pt\">* TODO </p>"
   ]
  },
  {
   "cell_type": "code",
   "execution_count": null,
   "metadata": {},
   "outputs": [],
   "source": []
  },
  {
   "cell_type": "markdown",
   "metadata": {},
   "source": [
    "<p style=\"color:RGB(65, 105, 225); font-size: 14pt\">* TODO </p>"
   ]
  },
  {
   "cell_type": "code",
   "execution_count": null,
   "metadata": {},
   "outputs": [],
   "source": []
  },
  {
   "cell_type": "markdown",
   "metadata": {},
   "source": [
    "<p style=\"color:RGB(65, 105, 225); font-size: 14pt\">* TODO </p>"
   ]
  },
  {
   "cell_type": "code",
   "execution_count": null,
   "metadata": {},
   "outputs": [],
   "source": []
  },
  {
   "cell_type": "markdown",
   "metadata": {},
   "source": [
    "<p style=\"color:RGB(65, 105, 225); font-size: 14pt\">* TODO </p>"
   ]
  },
  {
   "cell_type": "code",
   "execution_count": null,
   "metadata": {},
   "outputs": [],
   "source": []
  },
  {
   "cell_type": "markdown",
   "metadata": {},
   "source": [
    "<p style=\"color:RGB(65, 105, 225); font-size: 14pt\">* TODO </p>"
   ]
  },
  {
   "cell_type": "code",
   "execution_count": null,
   "metadata": {},
   "outputs": [],
   "source": []
  },
  {
   "cell_type": "markdown",
   "metadata": {},
   "source": [
    "<p style=\"color:RGB(65, 105, 225); font-size: 14pt\">* TODO </p>"
   ]
  },
  {
   "cell_type": "code",
   "execution_count": null,
   "metadata": {},
   "outputs": [],
   "source": []
  },
  {
   "cell_type": "markdown",
   "metadata": {},
   "source": [
    "<p style=\"color:RGB(65, 105, 225); font-size: 14pt\">* TODO </p>"
   ]
  },
  {
   "cell_type": "code",
   "execution_count": null,
   "metadata": {},
   "outputs": [],
   "source": []
  },
  {
   "cell_type": "markdown",
   "metadata": {},
   "source": [
    "<p style=\"color:RGB(65, 105, 225); font-size: 14pt\">* TODO </p>"
   ]
  },
  {
   "cell_type": "code",
   "execution_count": null,
   "metadata": {},
   "outputs": [],
   "source": []
  },
  {
   "cell_type": "markdown",
   "metadata": {},
   "source": [
    "<p style=\"color:RGB(65, 105, 225); font-size: 14pt\">* TODO </p>"
   ]
  },
  {
   "cell_type": "code",
   "execution_count": null,
   "metadata": {},
   "outputs": [],
   "source": []
  }
 ],
 "metadata": {
  "kernelspec": {
   "display_name": "Python 3",
   "language": "python",
   "name": "python3"
  },
  "language_info": {
   "codemirror_mode": {
    "name": "ipython",
    "version": 3
   },
   "file_extension": ".py",
   "mimetype": "text/x-python",
   "name": "python",
   "nbconvert_exporter": "python",
   "pygments_lexer": "ipython3",
   "version": "3.8.5"
  }
 },
 "nbformat": 4,
 "nbformat_minor": 4
}
