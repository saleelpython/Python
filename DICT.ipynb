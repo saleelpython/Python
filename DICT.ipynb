{
 "cells": [
  {
   "cell_type": "markdown",
   "metadata": {},
   "source": [
    "<h1 style=\"color:rgb(199, 0, 57)\"> Working with DICT </h1>\n",
    "\n",
    "<b> Author: ***** </b> <br>\n",
    "Language: Python <br>\n",
    "Version: 1.0.0 <br>\n",
    "Date: 24-Aug-2020<br>"
   ]
  },
  {
   "cell_type": "markdown",
   "metadata": {},
   "source": [
    "<p style=\"color:RGB(65, 105, 225); font-size: 14pt\">* TODO </p>"
   ]
  },
  {
   "cell_type": "code",
   "execution_count": 2,
   "metadata": {},
   "outputs": [],
   "source": [
    "month = {'Jan': 1, 'Feb': 2, 'Mar': 3, 'Apr': 4, 'May': 5, 'Jun': 6, 'Jul': 7, 'Aug': 8, 'Sep': 9, \n",
    "         'Oct': 10, 'Nov': 11, 'Dec': 12}\n",
    "\n",
    "monthName = {1: \"January\", 2: \"February\", 3: \"March\", 4: \"April\", 5: \"May\", 6: \"June\", 7: \"July\", 8: \"August\", 9: \"September\",\n",
    "             10: \"October\", 11: \"November\", 12: \"December\"}\n",
    "\n",
    "dayOfWeek = {1:\"Monday\",  2: \"Tuesday\",  3: \"Wednesday\",  4: \"Thursday\",  5: \"Friday\",  6: \"Saturday\",  7: \"Sunday\"}"
   ]
  },
  {
   "cell_type": "markdown",
   "metadata": {},
   "source": [
    "<p style=\"color:RGB(65, 105, 225); font-size: 14pt\">* Get all person from person dict() </p>"
   ]
  },
  {
   "cell_type": "code",
   "execution_count": 4,
   "metadata": {},
   "outputs": [
    {
     "name": "stdout",
     "output_type": "stream",
     "text": [
      "i={'index': 0, 'name': 'Aurelia Gonzales', 'isActive': False, 'registered': '2015-02-11T04:22:39+0000', 'age': 20, 'gender': 'female', 'eyeColor': 'green'}\n",
      "------------------------------------------------------------------------------------------------------------------------\n",
      "i={'index': 1, 'name': 'Kitty Snow', 'isActive': False, 'registered': '2018-01-23T04:46:15+0000', 'age': 38, 'gender': 'female', 'eyeColor': 'blue'}\n",
      "------------------------------------------------------------------------------------------------------------------------\n",
      "i={'index': 2, 'name': 'Hays Wise', 'isActive': False, 'registered': '2015-02-23T10:22:15+0000', 'age': 24, 'gender': 'male', 'eyeColor': 'green'}\n",
      "------------------------------------------------------------------------------------------------------------------------\n",
      "i={'index': 3, 'name': 'Karyn Rhodes', 'isActive': True, 'registered': '2014-03-11T03:02:33+0000', 'age': 39, 'gender': 'female', 'eyeColor': 'green'}\n",
      "------------------------------------------------------------------------------------------------------------------------\n"
     ]
    }
   ],
   "source": [
    "person =  [ \n",
    "            { \"index\": 0, \"name\": \"Aurelia Gonzales\", \"isActive\": False, \"registered\": \"2015-02-11T04:22:39+0000\", \"age\": 20, \"gender\": \"female\", \"eyeColor\": \"green\" },\n",
    "            { \"index\": 1, \"name\": \"Kitty Snow\", \"isActive\": False, \"registered\": \"2018-01-23T04:46:15+0000\", \"age\": 38, \"gender\": \"female\", \"eyeColor\": \"blue\"},\n",
    "            { \"index\": 2, \"name\": \"Hays Wise\", \"isActive\": False, \"registered\": \"2015-02-23T10:22:15+0000\", \"age\": 24, \"gender\": \"male\", \"eyeColor\": \"green\"},\n",
    "            { \"index\": 3, \"name\": \"Karyn Rhodes\", \"isActive\":True, \"registered\": \"2014-03-11T03:02:33+0000\", \"age\": 39, \"gender\": \"female\", \"eyeColor\": \"green\"}\n",
    "]\n",
    "for i in person:\n",
    "    print(f\"{i=}\")\n",
    "    print(\"-\" * 120)"
   ]
  },
  {
   "cell_type": "markdown",
   "metadata": {},
   "source": [
    "<p style=\"color:RGB(65, 105, 225); font-size: 14pt\">* Count char in the string using <span style=\"color:RGB(165, 170, 2); font-size: 14pt\">Method 1</span> </p>"
   ]
  },
  {
   "cell_type": "code",
   "execution_count": 2,
   "metadata": {},
   "outputs": [
    {
     "name": "stdout",
     "output_type": "stream",
     "text": [
      "Enter string: saleel bagde sharmin bagde vrushali bagde ruhan bagde\n",
      "{'s': 3, 'a': 8, 'l': 3, 'e': 6, ' ': 7, 'b': 4, 'g': 4, 'd': 4, 'h': 3, 'r': 3, 'm': 1, 'i': 2, 'n': 2, 'v': 1, 'u': 2}\n"
     ]
    }
   ],
   "source": [
    "# <editor-fold desc=\"Count same char in a string DiCT()\">\n",
    "x = input(\"Enter string: \")\n",
    "_dict = dict();\n",
    "\n",
    "for i in x:\n",
    "    _dict.setdefault(i, x.count(i))\n",
    "print(_dict)\n",
    "\n",
    "# </editor-fold>"
   ]
  },
  {
   "cell_type": "markdown",
   "metadata": {},
   "source": [
    "<p style=\"color:RGB(65, 105, 225); font-size: 14pt\">* Count char in the string using <span style=\"color:RGB(165, 170, 2); font-size: 14pt\">Method 2</span> </p>"
   ]
  },
  {
   "cell_type": "code",
   "execution_count": 1,
   "metadata": {},
   "outputs": [
    {
     "name": "stdout",
     "output_type": "stream",
     "text": [
      "Enter string: sharmin bagde\n",
      "_dict={'s': 1, 'h': 1, 'a': 2, 'r': 1, 'm': 1, 'i': 1, 'n': 1, ' ': 1, 'b': 1, 'g': 1, 'd': 1, 'e': 1}\n"
     ]
    }
   ],
   "source": [
    "# <editor-fold desc=\"Count same char in a string DiCT()- Method 2\">\n",
    "x = input(\"Enter string: \")\n",
    "_dict = dict()\n",
    "\n",
    "for i in x:\n",
    "    _dict[i] = x.count(i)\n",
    "\n",
    "print(f\"{_dict=}\")\n",
    "# </editor-fold>"
   ]
  },
  {
   "cell_type": "markdown",
   "metadata": {},
   "source": [
    "<p style=\"color:RGB(65, 105, 225); font-size: 14pt\">* TODO </p>"
   ]
  },
  {
   "cell_type": "code",
   "execution_count": null,
   "metadata": {},
   "outputs": [],
   "source": []
  },
  {
   "cell_type": "markdown",
   "metadata": {},
   "source": [
    "<p style=\"color:RGB(65, 105, 225); font-size: 14pt\">* TODO </p>"
   ]
  },
  {
   "cell_type": "code",
   "execution_count": null,
   "metadata": {},
   "outputs": [],
   "source": []
  },
  {
   "cell_type": "markdown",
   "metadata": {},
   "source": [
    "<p style=\"color:RGB(65, 105, 225); font-size: 14pt\">* TODO </p>"
   ]
  },
  {
   "cell_type": "code",
   "execution_count": null,
   "metadata": {},
   "outputs": [],
   "source": []
  },
  {
   "cell_type": "markdown",
   "metadata": {},
   "source": [
    "<p style=\"color:RGB(65, 105, 225); font-size: 14pt\">* TODO </p>"
   ]
  },
  {
   "cell_type": "code",
   "execution_count": null,
   "metadata": {},
   "outputs": [],
   "source": []
  },
  {
   "cell_type": "markdown",
   "metadata": {},
   "source": [
    "<p style=\"color:RGB(65, 105, 225); font-size: 14pt\">* TODO </p>"
   ]
  },
  {
   "cell_type": "code",
   "execution_count": null,
   "metadata": {},
   "outputs": [],
   "source": []
  },
  {
   "cell_type": "markdown",
   "metadata": {},
   "source": [
    "<p style=\"color:RGB(65, 105, 225); font-size: 14pt\">* TODO </p>"
   ]
  },
  {
   "cell_type": "code",
   "execution_count": null,
   "metadata": {},
   "outputs": [],
   "source": []
  },
  {
   "cell_type": "markdown",
   "metadata": {},
   "source": [
    "<p style=\"color:RGB(65, 105, 225); font-size: 14pt\">* TODO </p>"
   ]
  },
  {
   "cell_type": "code",
   "execution_count": null,
   "metadata": {},
   "outputs": [],
   "source": []
  },
  {
   "cell_type": "markdown",
   "metadata": {},
   "source": [
    "<p style=\"color:RGB(65, 105, 225); font-size: 14pt\">* TODO </p>"
   ]
  },
  {
   "cell_type": "code",
   "execution_count": null,
   "metadata": {},
   "outputs": [],
   "source": []
  },
  {
   "cell_type": "markdown",
   "metadata": {},
   "source": [
    "<p style=\"color:RGB(65, 105, 225); font-size: 14pt\">* TODO </p>"
   ]
  },
  {
   "cell_type": "code",
   "execution_count": null,
   "metadata": {},
   "outputs": [],
   "source": []
  },
  {
   "cell_type": "markdown",
   "metadata": {},
   "source": [
    "<p style=\"color:RGB(65, 105, 225); font-size: 14pt\">* TODO </p>"
   ]
  },
  {
   "cell_type": "code",
   "execution_count": null,
   "metadata": {},
   "outputs": [],
   "source": []
  }
 ],
 "metadata": {
  "kernelspec": {
   "display_name": "Python 3",
   "language": "python",
   "name": "python3"
  },
  "language_info": {
   "codemirror_mode": {
    "name": "ipython",
    "version": 3
   },
   "file_extension": ".py",
   "mimetype": "text/x-python",
   "name": "python",
   "nbconvert_exporter": "python",
   "pygments_lexer": "ipython3",
   "version": "3.9.0"
  }
 },
 "nbformat": 4,
 "nbformat_minor": 4
}
