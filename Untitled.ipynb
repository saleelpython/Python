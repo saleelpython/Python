{
 "cells": [
  {
   "cell_type": "code",
   "execution_count": 3,
   "metadata": {},
   "outputs": [
    {
     "name": "stdout",
     "output_type": "stream",
     "text": [
      "<bound method NDFrame.head of      1  2017  Hyderabad  2017-04-05          Sunrisers Hyderabad  Royal Challengers Bangalore Royal Challengers Bangalore.1  field  normal  0        Sunrisers Hyderabad.1  35  0.1     Yuvraj Singh  Rajiv Gandhi International Stadium, Uppal            AY Dandekar       NJ Llong  Unnamed: 17\n",
      "0    2  2017       Pune  2017-04-06               Mumbai Indians       Rising Pune Supergiant        Rising Pune Supergiant  field  normal  0       Rising Pune Supergiant   0    7        SPD Smith    Maharashtra Cricket Association Stadium         A Nand Kishore         S Ravi          NaN\n",
      "1    3  2017     Rajkot  2017-04-07                Gujarat Lions        Kolkata Knight Riders         Kolkata Knight Riders  field  normal  0        Kolkata Knight Riders   0   10          CA Lynn     Saurashtra Cricket Association Stadium            Nitin Menon      CK Nandan          NaN\n",
      "2    4  2017     Indore  2017-04-08       Rising Pune Supergiant              Kings XI Punjab               Kings XI Punjab  field  normal  0              Kings XI Punjab   0    6       GJ Maxwell                     Holkar Cricket Stadium           AK Chaudhary  C Shamshuddin          NaN\n",
      "3    5  2017  Bangalore  2017-04-08  Royal Challengers Bangalore             Delhi Daredevils   Royal Challengers Bangalore    bat  normal  0  Royal Challengers Bangalore  15    0        KM Jadhav                      M Chinnaswamy Stadium                    NaN            NaN          NaN\n",
      "4    6  2017  Hyderabad  2017-04-09                Gujarat Lions          Sunrisers Hyderabad           Sunrisers Hyderabad  field  normal  0          Sunrisers Hyderabad   0    9      Rashid Khan  Rajiv Gandhi International Stadium, Uppal             A Deshmukh       NJ Llong          NaN\n",
      "5    7  2017     Mumbai  2017-04-09        Kolkata Knight Riders               Mumbai Indians                Mumbai Indians  field  normal  0               Mumbai Indians   0    4           N Rana                           Wankhede Stadium            Nitin Menon      CK Nandan          NaN\n",
      "6    8  2017     Indore  2017-04-10  Royal Challengers Bangalore              Kings XI Punjab   Royal Challengers Bangalore    bat  normal  0              Kings XI Punjab   0    8         AR Patel                     Holkar Cricket Stadium           AK Chaudhary  C Shamshuddin          NaN\n",
      "7    9  2017       Pune  2017-04-11             Delhi Daredevils       Rising Pune Supergiant        Rising Pune Supergiant  field  normal  0             Delhi Daredevils  97    0        SV Samson    Maharashtra Cricket Association Stadium            AY Dandekar         S Ravi          NaN\n",
      "8   10  2017     Mumbai  2017-04-12          Sunrisers Hyderabad               Mumbai Indians                Mumbai Indians  field  normal  0               Mumbai Indians   0    4        JJ Bumrah                           Wankhede Stadium            Nitin Menon      CK Nandan          NaN\n",
      "9   11  2017    Kolkata  2017-04-13              Kings XI Punjab        Kolkata Knight Riders         Kolkata Knight Riders  field  normal  0        Kolkata Knight Riders   0    8        SP Narine                               Eden Gardens             A Deshmukh       NJ Llong          NaN\n",
      "10  12  2017  Bangalore  2017-04-14  Royal Challengers Bangalore               Mumbai Indians                Mumbai Indians  field  normal  0               Mumbai Indians   0    4       KA Pollard                      M Chinnaswamy Stadium  KN Ananthapadmanabhan   AK Chaudhary          NaN\n",
      "11  13  2017     Rajkot  2017-04-14       Rising Pune Supergiant                Gujarat Lions                 Gujarat Lions  field  normal  0                Gujarat Lions   0    7           AJ Tye     Saurashtra Cricket Association Stadium         A Nand Kishore         S Ravi          NaN\n",
      "12  14  2017    Kolkata  2017-04-15        Kolkata Knight Riders          Sunrisers Hyderabad           Sunrisers Hyderabad  field  normal  0        Kolkata Knight Riders  17    0       RV Uthappa                               Eden Gardens            AY Dandekar       NJ Llong          NaN\n",
      "13  15  2017      Delhi  2017-04-15             Delhi Daredevils              Kings XI Punjab              Delhi Daredevils    bat  normal  0             Delhi Daredevils  51    0      CJ Anderson                           Feroz Shah Kotla               YC Barde    Nitin Menon          NaN\n",
      "14  16  2017     Mumbai  2017-04-16                Gujarat Lions               Mumbai Indians                Mumbai Indians  field  normal  0               Mumbai Indians   0    6           N Rana                           Wankhede Stadium         A Nand Kishore         S Ravi          NaN\n",
      "15  17  2017  Bangalore  2017-04-16       Rising Pune Supergiant  Royal Challengers Bangalore   Royal Challengers Bangalore  field  normal  0       Rising Pune Supergiant  27    0        BA Stokes                      M Chinnaswamy Stadium  KN Ananthapadmanabhan  C Shamshuddin          NaN\n",
      "16  18  2017      Delhi  2017-04-17             Delhi Daredevils        Kolkata Knight Riders              Delhi Daredevils    bat  normal  0        Kolkata Knight Riders   0    4  NM Coulter-Nile                           Feroz Shah Kotla            Nitin Menon      CK Nandan          NaN>\n"
     ]
    }
   ],
   "source": [
    "import pandas as pd\n",
    "import numpy as np\n",
    "\n",
    "pd.set_option('display.max_rows', None)\n",
    "pd.set_option('display.max_columns', None)\n",
    "pd.set_option('display.width', 1000)\n",
    "df = pd.read_csv(\"matches.csv\", header = 1, nrows = 17)\n",
    "\n",
    "print(df.head)"
   ]
  },
  {
   "cell_type": "code",
   "execution_count": null,
   "metadata": {},
   "outputs": [],
   "source": []
  }
 ],
 "metadata": {
  "celltoolbar": "Attachments",
  "kernelspec": {
   "display_name": "Python 3",
   "language": "python",
   "name": "python3"
  },
  "language_info": {
   "codemirror_mode": {
    "name": "ipython",
    "version": 3
   },
   "file_extension": ".py",
   "mimetype": "text/x-python",
   "name": "python",
   "nbconvert_exporter": "python",
   "pygments_lexer": "ipython3",
   "version": "3.8.6"
  }
 },
 "nbformat": 4,
 "nbformat_minor": 4
}
