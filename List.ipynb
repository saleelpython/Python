{
 "cells": [
  {
   "cell_type": "markdown",
   "metadata": {},
   "source": [
    "<h1 style=\"color:rgb(199, 0, 57)\"> Working with LIST </h1>\n",
    "\n",
    "<b> Author: ***** </b> <br>\n",
    "Language: Python <br>\n",
    "Version: 1.0.0 <br>\n",
    "Date: 24-Aug-2020<br>"
   ]
  },
  {
   "cell_type": "markdown",
   "metadata": {},
   "source": [
    "<p style=\"color:RGB(65, 105, 225); font-size: 14pt\">* list.append(x) - Add an item to the end of the list.</p>"
   ]
  },
  {
   "cell_type": "code",
   "execution_count": null,
   "metadata": {},
   "outputs": [],
   "source": [
    "my_list = [\"a\", \"b\"]\n",
    "my_list.append('c')\n",
    "\n",
    "print(f\"{my_list = }\")"
   ]
  },
  {
   "cell_type": "markdown",
   "metadata": {},
   "source": [
    "<p style=\"color:RGB(65, 105, 225); font-size: 14pt\">* list.insert(i, x) - Insert an item at a given position. </p>"
   ]
  },
  {
   "cell_type": "code",
   "execution_count": null,
   "metadata": {},
   "outputs": [],
   "source": [
    "my_list = [\"a\", \"b\"]\n",
    "my_list.insert(1, \"c\")\n",
    "\n",
    "print(f\"{my_list = }\")"
   ]
  },
  {
   "cell_type": "markdown",
   "metadata": {},
   "source": [
    "<p style=\"color:RGB(65, 105, 225); font-size: 14pt\">* list.append(x) - data using loop </p>"
   ]
  },
  {
   "cell_type": "code",
   "execution_count": null,
   "metadata": {},
   "outputs": [],
   "source": [
    "my_list = []\n",
    "x = 1\n",
    "\n",
    "while x <= 3:\n",
    "        my_list.append(input(\"Enter your name: \"))\n",
    "        x+=1\n",
    "print(f\"{my_list = }\")\n",
    "\n",
    "print(\"-\" * 127)\n",
    "\n",
    "my_list = [input(\"Enter your name: \") for i in range(1, 4)]\n",
    "print(f\"{my_list = }\")"
   ]
  },
  {
   "cell_type": "markdown",
   "metadata": {},
   "source": [
    "<p style=\"color:RGB(65, 105, 225); font-size: 14pt\">* list.index(x[, start[, end]]) - Return zero-based index in the list of the first item whose value is equal to (x).</p>"
   ]
  },
  {
   "cell_type": "code",
   "execution_count": null,
   "metadata": {},
   "outputs": [],
   "source": [
    "my_list = [\"cherry\", \"fig\", \"kiwi\", \"banana\", \"lime\", \"mango\", \"apple\", \"blackberry\", \"watermelon\", \"blueberry\", \"grapes\"]\n",
    "\n",
    "y = tuple((my_list.index(x), x) for x in my_list)\n",
    "\n",
    "for i in y:\n",
    "    print(f\"{i}\")"
   ]
  },
  {
   "cell_type": "markdown",
   "metadata": {},
   "source": [
    "<p style=\"color:RGB(65, 105, 225); font-size: 14pt\">* list.remove(x) - Remove the first item from the list whose value is equal to (x) </p>"
   ]
  },
  {
   "cell_type": "code",
   "execution_count": null,
   "metadata": {},
   "outputs": [],
   "source": [
    "my_list = [1, 3, 2, 4, 1, 3, 2]\n",
    "my_list.remove(int(input('Enter number: ')))\n",
    "\n",
    "print(f\"{my_list = }\")"
   ]
  },
  {
   "cell_type": "markdown",
   "metadata": {},
   "source": [
    "<p style=\"color:RGB(65, 105, 225); font-size: 14pt\">* list.count(x) - Return the number of times x appears in the list. </p>"
   ]
  },
  {
   "cell_type": "code",
   "execution_count": null,
   "metadata": {},
   "outputs": [],
   "source": [
    "my_list = [1, 3, 2, 4, 1, 3, 2]\n",
    "\n",
    "print(f\"{my_list.count(int(input('Enter number: '))) = }\")"
   ]
  },
  {
   "cell_type": "markdown",
   "metadata": {},
   "source": [
    "<p style=\"color:RGB(65, 105, 225); font-size: 14pt\">* list.sort(key=None, reverse=False) - Sort the items of the list in place. </p>"
   ]
  },
  {
   "cell_type": "code",
   "execution_count": 8,
   "metadata": {},
   "outputs": [
    {
     "name": "stdout",
     "output_type": "stream",
     "text": [
      "my_list = [4, 3, 3, 2, 2, 1, 1]\n"
     ]
    }
   ],
   "source": [
    "my_list = [1, 3, 2, 4, 1, 3, 2]\n",
    "my_list.sort(key=None, reverse=True)\n",
    "\n",
    "print(f\"{my_list = }\")"
   ]
  },
  {
   "cell_type": "markdown",
   "metadata": {},
   "source": [
    "<p style=\"color:RGB(65, 105, 225); font-size: 14pt\">* list.reverse() - Reverse the elements of the list in place. </p>"
   ]
  },
  {
   "cell_type": "code",
   "execution_count": null,
   "metadata": {},
   "outputs": [],
   "source": [
    "my_list = [1, 3, 2, 4, 1, 3, 2]\n",
    "my_list.reverse()\n",
    "\n",
    "print(f\"{my_list = }\")"
   ]
  },
  {
   "cell_type": "markdown",
   "metadata": {},
   "source": [
    "<p style=\"color:RGB(65, 105, 225); font-size: 14pt\">* TODO </p>"
   ]
  },
  {
   "cell_type": "code",
   "execution_count": null,
   "metadata": {},
   "outputs": [],
   "source": []
  },
  {
   "cell_type": "markdown",
   "metadata": {},
   "source": [
    "<p style=\"color:RGB(65, 105, 225); font-size: 14pt\">* TODO </p>"
   ]
  },
  {
   "cell_type": "code",
   "execution_count": null,
   "metadata": {},
   "outputs": [],
   "source": []
  },
  {
   "cell_type": "markdown",
   "metadata": {},
   "source": [
    "<p style=\"color:RGB(65, 105, 225); font-size: 14pt\">* TODO </p>"
   ]
  },
  {
   "cell_type": "code",
   "execution_count": null,
   "metadata": {},
   "outputs": [],
   "source": []
  },
  {
   "cell_type": "markdown",
   "metadata": {},
   "source": [
    "<p style=\"color:RGB(65, 105, 225); font-size: 14pt\">* TODO </p>"
   ]
  },
  {
   "cell_type": "code",
   "execution_count": null,
   "metadata": {},
   "outputs": [],
   "source": []
  },
  {
   "cell_type": "markdown",
   "metadata": {},
   "source": [
    "<p style=\"color:RGB(65, 105, 225); font-size: 14pt\">* TODO </p>"
   ]
  },
  {
   "cell_type": "code",
   "execution_count": null,
   "metadata": {},
   "outputs": [],
   "source": []
  },
  {
   "cell_type": "markdown",
   "metadata": {},
   "source": [
    "<p style=\"color:RGB(65, 105, 225); font-size: 14pt\">* TODO </p>"
   ]
  },
  {
   "cell_type": "code",
   "execution_count": null,
   "metadata": {},
   "outputs": [],
   "source": []
  },
  {
   "cell_type": "markdown",
   "metadata": {},
   "source": [
    "<p style=\"color:RGB(65, 105, 225); font-size: 14pt\">* TODO </p>"
   ]
  },
  {
   "cell_type": "code",
   "execution_count": null,
   "metadata": {},
   "outputs": [],
   "source": []
  },
  {
   "cell_type": "markdown",
   "metadata": {},
   "source": [
    "<p style=\"color:RGB(65, 105, 225); font-size: 14pt\">* TODO </p>"
   ]
  },
  {
   "cell_type": "code",
   "execution_count": null,
   "metadata": {},
   "outputs": [],
   "source": []
  },
  {
   "cell_type": "markdown",
   "metadata": {},
   "source": [
    "<p style=\"color:RGB(65, 105, 225); font-size: 14pt\">* TODO </p>"
   ]
  },
  {
   "cell_type": "code",
   "execution_count": null,
   "metadata": {},
   "outputs": [],
   "source": []
  },
  {
   "cell_type": "markdown",
   "metadata": {},
   "source": [
    "<p style=\"color:RGB(65, 105, 225); font-size: 14pt\">* TODO </p>"
   ]
  },
  {
   "cell_type": "code",
   "execution_count": null,
   "metadata": {},
   "outputs": [],
   "source": []
  },
  {
   "cell_type": "markdown",
   "metadata": {},
   "source": [
    "<p style=\"color:RGB(65, 105, 225); font-size: 14pt\">* TODO </p>"
   ]
  },
  {
   "cell_type": "code",
   "execution_count": null,
   "metadata": {},
   "outputs": [],
   "source": []
  },
  {
   "cell_type": "markdown",
   "metadata": {},
   "source": [
    "<p style=\"color:RGB(65, 105, 225); font-size: 14pt\">* TODO </p>"
   ]
  },
  {
   "cell_type": "code",
   "execution_count": null,
   "metadata": {},
   "outputs": [],
   "source": []
  },
  {
   "cell_type": "markdown",
   "metadata": {},
   "source": [
    "<p style=\"color:RGB(65, 105, 225); font-size: 14pt\">* TODO </p>"
   ]
  },
  {
   "cell_type": "code",
   "execution_count": null,
   "metadata": {},
   "outputs": [],
   "source": []
  },
  {
   "cell_type": "markdown",
   "metadata": {},
   "source": [
    "<p style=\"color:RGB(65, 105, 225); font-size: 14pt\">* TODO </p>"
   ]
  },
  {
   "cell_type": "code",
   "execution_count": null,
   "metadata": {},
   "outputs": [],
   "source": []
  },
  {
   "cell_type": "markdown",
   "metadata": {},
   "source": [
    "<p style=\"color:RGB(65, 105, 225); font-size: 14pt\">* TODO </p>"
   ]
  },
  {
   "cell_type": "code",
   "execution_count": null,
   "metadata": {},
   "outputs": [],
   "source": []
  },
  {
   "cell_type": "markdown",
   "metadata": {},
   "source": [
    "<p style=\"color:RGB(65, 105, 225); font-size: 14pt\">* TODO </p>"
   ]
  },
  {
   "cell_type": "code",
   "execution_count": null,
   "metadata": {},
   "outputs": [],
   "source": []
  },
  {
   "cell_type": "markdown",
   "metadata": {},
   "source": [
    "<p style=\"color:RGB(65, 105, 225); font-size: 14pt\">* TODO </p>"
   ]
  },
  {
   "cell_type": "code",
   "execution_count": null,
   "metadata": {},
   "outputs": [],
   "source": []
  },
  {
   "cell_type": "markdown",
   "metadata": {},
   "source": [
    "<p style=\"color:RGB(65, 105, 225); font-size: 14pt\">* TODO </p>"
   ]
  },
  {
   "cell_type": "code",
   "execution_count": null,
   "metadata": {},
   "outputs": [],
   "source": []
  },
  {
   "cell_type": "markdown",
   "metadata": {},
   "source": [
    "<p style=\"color:RGB(65, 105, 225); font-size: 14pt\">Declare </p>"
   ]
  },
  {
   "cell_type": "code",
   "execution_count": null,
   "metadata": {},
   "outputs": [],
   "source": [
    "fruit1 = [\"orange\", \"grapes\", \"apple\",\"cherry\", \"banana\", \"mango\"]\n",
    "\n",
    "fruit2 = [\"apple\", \"kiwi\", \"blackberry\",\"orange\", \"lime\", \"jackfruit\"]\n",
    "\n",
    "fruit3 = [\"cherry\", \"fig\", \"kiwi\", \"banana\", \"lime\", \"mango\", \"apple\", \"blackberry\", \"watermelon\", \"blueberry\", \"grapes\",\n",
    "          \"strawberry\", \"jackfruit\", \"Apple\", \"Watermelon\", \"Orange\", \"Pear\", \"Cherry\", \"Strawberry\", \"Nectarine\",\n",
    "          \"Grape\", \"Mango\", \"Blueberry\",  \"Pomegranate\", \"Carambola\", \"Plum\", \"Banana\", \"Raspberry\", \"Mandarin\", \"Jackfruit\",\n",
    "          \"Papaya\", \"Kiwi\", \"Pineapple\", \"Lime\", \"Lemon\", 'Apricot', \"Grapefruit\", \"Melon\", \"Coconut\", \"Avocado\", \"Peach\"]\n",
    "\n",
    "fruit4 = [(1, \"Cherry\"), (2, \"Fig\"), (3, \"Kiwi\"), (4, \"Banana\"), (5, \"Lime\"), (6, \"Mango\"), (7, \"Apple\"), (8, \"Blackberry\"),\n",
    "          (9, \"Watermelon\"), (10, \"Blueberry\"), (11, \"Grapes\"), (12, \"Strawberry\"), (13, \"Jackfruit\"), (14, \"Orange\"), (15,\n",
    "          \"Pear\"), (16, \"Pomegranate\"), (17, \"Plum\"),(18, \"Raspberry\"), (19, \"Papaya\"), (20, \"Pineapple\"), (21, \"Lime\"),\n",
    "          (22, \"Lemon\"), (23, \"Coconut\"), (24, \"Avocado\"), (25, \"Peach\")]\n",
    "\n",
    "vowels = ['a', 'e', 'i', 'o', 'u', 'A', 'E', 'I', 'O', 'U']\n",
    "\n",
    "vehicles = [(1, \"Van\", 4), (2, \"Taxi\", 4), (3, \"Police car\", 4), (4, \"Bus\", 6), (5, \"Ambulance\", 4), (6, \"Skateboard\", 2), (7,\n",
    "            \"Bicycle\", 2), (8, \"Mountain bike\", 2), (9, \"Scooter\", 2), (10, \"Motorcycle\", 2), (11, \"Fire engine\", 10), (12, \n",
    "            \"Crane\", 10), (13, \"Tractor\", 4), (14, \"Recycling truck\", 10), (15, \"Cement mixer\", 10), (16, \"Dump truck\", 10), \n",
    "            (17, \"Helicopter\", 0), (18, \"Airplane\", 9), (19, \"Rowboat\", 0), (20, \"Boat\", 0), (21, \"Train\", 0)]\n",
    "\n",
    "numbers = [345, 456, 234, 48, 123, 34, 86, 45, 885, 35, 86, 11, 36, 3, 89, 371, 2346, 3552, 2352, 1521, 6124, 162, 132, 623, \n",
    "           63, 68, 2334, 623, 4115, 25, 6, 35, 845, 84, 562, 451, 5123]"
   ]
  },
  {
   "cell_type": "markdown",
   "metadata": {},
   "source": [
    "<p style=\"color:RGB(65, 105, 225); font-size: 14pt\">* range slicing</p>\n",
    "    \n",
    "Syntax: <br><span style=\"color:RGB(0, 191, 255); font-size: 12pt\"> [ start: stop: step ]"
   ]
  },
  {
   "cell_type": "code",
   "execution_count": null,
   "metadata": {},
   "outputs": [],
   "source": [
    "fruit1 = [\"orange\", \"grapes\", \"apple\",\"cherry\", \"banana\", \"mango\"]\n",
    "fruit1 # All elements\n",
    "\n",
    "fruit1[1]\n",
    "fruit1[::2]"
   ]
  },
  {
   "cell_type": "markdown",
   "metadata": {},
   "source": [
    "<p style=\"color:RGB(65, 105, 225); font-size: 14pt\">* Difference in LIST comprehension </p>"
   ]
  },
  {
   "cell_type": "code",
   "execution_count": null,
   "metadata": {},
   "outputs": [],
   "source": [
    "a = [1, 2, 3, 4, 5]\n",
    "b = [1, 2, 3, 4]\n",
    "\n",
    "x = [i for i in a for j in b]\n",
    "y = [(i, j) for i in a for j in b]\n",
    "z = [[i for i in a] for j in b]\n",
    "\n",
    "print(f\"{x= }\")\n",
    "print()\n",
    "print(f\"{y= }\")\n",
    "print()\n",
    "print(f\"{z= }\")\n"
   ]
  },
  {
   "cell_type": "markdown",
   "metadata": {},
   "source": [
    "<p style=\"color:RGB(65, 105, 225); font-size: 14pt\">* Find duplicate number from LIST </p>"
   ]
  },
  {
   "cell_type": "code",
   "execution_count": null,
   "metadata": {},
   "outputs": [],
   "source": [
    "numbers = [345, 456, 234, 48, 123, 34, 86, 45, 885, 35, 86, 11, 36, 3, 89, 371, 2346, 3552, 2352, 1521, 6124, 162, \n",
    "           132, 623, 63, 68, 2334, 623, 4115, 25, 6, 35, 845, 84, 562, 451, 5123]\n",
    "\n",
    "x = [i for i in numbers if numbers.count(i) > 1]\n",
    "print()\n",
    "print(f\"{x = }\")\n",
    "print(\"-\" * 125)\n",
    "\n",
    "x = [i if numbers.count(i) > 1 else 'X' for i in numbers]\n",
    "print(f\"{x = }\")"
   ]
  },
  {
   "cell_type": "markdown",
   "metadata": {},
   "source": [
    "<p style=\"color:RGB(65, 105, 225); font-size: 14pt\">* Remove all matching item from the LIST whose value is equal to (x)</p>"
   ]
  },
  {
   "cell_type": "code",
   "execution_count": null,
   "metadata": {},
   "outputs": [],
   "source": [
    "my_list = [1, 3, 2, 4, 7, 8, 9, 7, 1, 3, 2, 1, 3]\n",
    "\n",
    "[my_list.remove(x) for x in my_list if my_list.count(x) >= 2]\n",
    "\n",
    "print(f\"After: {my_list = }\")"
   ]
  },
  {
   "cell_type": "markdown",
   "metadata": {},
   "source": [
    "<p style=\"color:RGB(65, 105, 225); font-size: 14pt\">* LIST comprehension --> (enter some names) </p>"
   ]
  },
  {
   "cell_type": "code",
   "execution_count": null,
   "metadata": {},
   "outputs": [],
   "source": [
    "userNames = [input(\"Enter user name: \") for i in range(3)]\n",
    "print()\n",
    "print(f\"Use Name: {userNames= }\")"
   ]
  },
  {
   "cell_type": "markdown",
   "metadata": {},
   "source": [
    "<p style=\"color:RGB(65, 105, 225); font-size: 14pt\">* Merge two list using LIST comprehension </p>"
   ]
  },
  {
   "cell_type": "code",
   "execution_count": null,
   "metadata": {},
   "outputs": [],
   "source": [
    "fruit1 = [\"orange\", \"grapes\", \"apple\",\"cherry\", \"banana\", \"mango\"]\n",
    "fruit2 = [\"apple\", \"kiwi\", \"blackberry\",\"orange\", \"lime\", \"jackfruit\"]\n",
    "\n",
    "x = [j for i in [fruit1, fruit2] for j in i]\n",
    "print()\n",
    "print(f\"{x = }\")\n"
   ]
  },
  {
   "cell_type": "markdown",
   "metadata": {},
   "source": [
    "<p style=\"color:RGB(65, 105, 225); font-size: 14pt\">* Tables using LIST comprehension </p>"
   ]
  },
  {
   "cell_type": "code",
   "execution_count": null,
   "metadata": {},
   "outputs": [],
   "source": [
    "x = [[i * j for i in range(1, 11)] for j in range(4, 8)]\n",
    "print(f\"{x= }\")"
   ]
  },
  {
   "cell_type": "markdown",
   "metadata": {},
   "source": [
    "<p style=\"color:RGB(65, 105, 225); font-size: 14pt\">* Find Vowels in string using LIST comprehension </p>"
   ]
  },
  {
   "cell_type": "code",
   "execution_count": null,
   "metadata": {},
   "outputs": [],
   "source": [
    "vowels = ['a', 'e', 'i', 'o', 'u', 'A', 'E', 'I', 'O', 'U']\n",
    "\n",
    "s = input(\"Enter string: \")\n",
    "\n",
    "x = [i for i in s if i in vowels]\n",
    "print(f\"{x= }\")\n",
    "\n",
    "#----------------------------------------------------------------------------\n",
    "\n",
    "x = [i for i in s if i not in vowels]\n",
    "print(f\"{x= }\")"
   ]
  },
  {
   "cell_type": "markdown",
   "metadata": {},
   "source": [
    "<p style=\"color:RGB(65, 105, 225); font-size: 14pt\">* Find LIST1 value in LIST2 and produce sum of them using LIST comprehension  with SUM function</p>"
   ]
  },
  {
   "cell_type": "code",
   "execution_count": null,
   "metadata": {},
   "outputs": [],
   "source": [
    "l1 = [1, 5, 8, 3, 1, 5, 8, 5, 3, 11, 35, 23, 54]\n",
    "l2 = [4, 5, 7, 1, 35, 7, 9, 3, 5, 82, 34, 45, 75, 86, 12, 5, 56, 65, 6, 89, 35, 23, 34, 36, 64, 63, 74, 34]\n",
    "\n",
    "x1 = [i for i in l1 if i in l2]\n",
    "x2 = sum([i for i in l1 if i in l2])\n",
    "\n",
    "print(f\"{x1= }\")\n",
    "print(f\"{x2= }\")"
   ]
  },
  {
   "cell_type": "markdown",
   "metadata": {},
   "source": [
    "<p style=\"color:RGB(65, 105, 225); font-size: 14pt\">* Example 1.0.  using LIST comprehension with IF</p>"
   ]
  },
  {
   "cell_type": "code",
   "execution_count": null,
   "metadata": {},
   "outputs": [],
   "source": [
    "fruit3 = [(1, \"Cherry\"), (2, \"Fig\"), (3, \"Kiwi\"), (4, \"Banana\"), (5, \"Lime\"), (6, \"Mango\"), (7, \"Apple\"), (8, \"Blackberry\"),\n",
    "          (9, \"Watermelon\"), (10, \"Blueberry\"), (11, \"Grapes\"), (12, \"Strawberry\"), (13, \"Jackfruit\"), (14, \"Orange\"), (15,\n",
    "          \"Pear\"), (16, \"Pomegranate\"), (17, \"Plum\"),(18, \"Raspberry\"), (19, \"Papaya\"), (20, \"Pineapple\"), (21, \"Lime\"),\n",
    "          (22, \"Lemon\"), (23, \"Coconut\"), (24, \"Avocado\"), (25, \"Peach\")]\n",
    "display = [2, 8, 6, 12, 5, 1, 24, 14, 12, 21, 7, 25]\n",
    "\n",
    "x = [j for i in display for j in fruit3 if j[0] == i ]\n",
    "\n",
    "print(f\"{x= }\")"
   ]
  },
  {
   "cell_type": "markdown",
   "metadata": {},
   "source": [
    "<p style=\"color:RGB(65, 105, 225); font-size: 14pt\">* Example 1.0.  using LIST comprehension with IF </p>"
   ]
  },
  {
   "cell_type": "code",
   "execution_count": null,
   "metadata": {},
   "outputs": [],
   "source": [
    "vehicles = [(1, \"Van\", 4), (2, \"Taxi\", 4), (3, \"Police car\", 4), (4, \"Bus\", 6), (5, \"Ambulance\", 4), (6, \"Skateboard\", 2), (7,\n",
    "            \"Bicycle\", 2), (8, \"Mountain bike\", 2), (9, \"Scooter\", 2), (10, \"Motorcycle\", 2), (11, \"Fire engine\", 10), (12,\n",
    "            \"Crane\", 10), (13, \"Tractor\", 4), (14, \"Recycling truck\", 10), (15, \"Cement mixer\", 10), (16, \"Dump truck\", 10),\n",
    "            (17, \"Helicopter\", 0), (18, \"Airplane\", 9), (19, \"Rowboat\", 0), (20, \"Boat\", 0), (21, \"Train\", 0)]\n",
    "a = [3, 2, 1,6, 5, 4, 11, 21]\n",
    "\n",
    "x = [j for i in a for j in vehicles if j[0] == i ]\n",
    "\n",
    "print(f\"{x= }\")"
   ]
  },
  {
   "cell_type": "markdown",
   "metadata": {},
   "source": [
    "<p style=\"color:RGB(65, 105, 225); font-size: 14pt\">* Example 2. using LIST comprehension  with IF ELSE </p>"
   ]
  },
  {
   "cell_type": "code",
   "execution_count": null,
   "metadata": {},
   "outputs": [],
   "source": [
    "vehicles = [(1, \"Van\", 4), (2, \"Taxi\", 4), (3, \"Police car\", 4), (4, \"Bus\", 6), (5, \"Ambulance\", 4), (6, \"Skateboard\", 2), (7,\n",
    "            \"Bicycle\", 2), (8, \"Mountain bike\", 2), (9, \"Scooter\", 2), (10, \"Motorcycle\", 2), (11, \"Fire engine\", 10), (12,\n",
    "            \"Crane\", 10), (13, \"Tractor\", 4), (14, \"Recycling truck\", 10), (15, \"Cement mixer\", 10), (16, \"Dump truck\", 10),\n",
    "            (17, \"Helicopter\", 0), (18, \"Airplane\", 9), (19, \"Rowboat\", 0), (20, \"Boat\", 0), (21, \"Train\", 0)]\n",
    "\n",
    "a = [3, 2, 1,6, 5, 4, 11, 21, 255 ]\n",
    "\n",
    "x = [j if j[0] == i else False for i in a for j in vehicles]\n",
    "\n",
    "print(f\"{x= }\")"
   ]
  },
  {
   "cell_type": "markdown",
   "metadata": {},
   "source": [
    "<p style=\"color:RGB(65, 105, 225); font-size: 14pt\">* Example 3. get all vehicles using LIST comprehension </p>"
   ]
  },
  {
   "cell_type": "code",
   "execution_count": null,
   "metadata": {},
   "outputs": [],
   "source": [
    "vehicles = [(1, \"Van\", 4), (2, \"Taxi\", 4), (3, \"Police car\", 4), (4, \"Bus\", 6), (5, \"Ambulance\", 4), (6, \"Skateboard\", 2), (7,\n",
    "            \"Bicycle\", 2), (8, \"Mountain bike\", 2), (9, \"Scooter\", 2), (10, \"Motorcycle\", 2), (11, \"Fire engine\", 10), (12,\n",
    "            \"Crane\", 10), (13, \"Tractor\", 4), (14, \"Recycling truck\", 10), (15, \"Cement mixer\", 10), (16, \"Dump truck\", 10),\n",
    "            (17, \"Helicopter\", 0), (18, \"Airplane\", 9), (19, \"Rowboat\", 0), (20, \"Boat\", 0), (21, \"Train\", 0)]\n",
    "\n",
    "while c := input(\"Do you to continue! \").lower() == 'y':\n",
    "        a = input(\"Enter vehicles type(no of vehicles): \")\n",
    "        x = [j for i in a for j in vehicles if j[2] == int(a)]\n",
    "        x.\n",
    "        if x == [] :\n",
    "            print('Vehicle not found!')\n",
    "        else:\n",
    "            print(f\"{x= }\")\n",
    "else:\n",
    "    print(\"Bye!\")"
   ]
  },
  {
   "cell_type": "markdown",
   "metadata": {},
   "source": [
    "<p style=\"color:RGB(65, 105, 225); font-size: 14pt\">* To convert first letter in upper and remaining in lower using LIST comprehension </p>"
   ]
  },
  {
   "cell_type": "code",
   "execution_count": null,
   "metadata": {},
   "outputs": [],
   "source": [
    "names = [\"amit\", \"raju\", \"baba\", \"DEEPAK\", \"sushant\" , \"ankit\", \"pankaj\" ,\"BOY\", \"bhavin\", \"anoop\", \"jERRY\", \"patil\", \"neeraj\"]\n",
    "\n",
    "x = [name[0].upper() + name[1:].lower() for name in names]\n",
    "\n",
    "print(f\"{x= }\")"
   ]
  },
  {
   "cell_type": "markdown",
   "metadata": {},
   "source": [
    "<p style=\"color:RGB(65, 105, 225); font-size: 14pt\">* TODO using LIST comprehension </p>"
   ]
  },
  {
   "cell_type": "code",
   "execution_count": null,
   "metadata": {},
   "outputs": [],
   "source": []
  },
  {
   "cell_type": "markdown",
   "metadata": {},
   "source": [
    "<p style=\"color:RGB(65, 105, 225); font-size: 14pt\">* TODO using LIST comprehension </p>"
   ]
  },
  {
   "cell_type": "code",
   "execution_count": null,
   "metadata": {},
   "outputs": [],
   "source": []
  }
 ],
 "metadata": {
  "kernelspec": {
   "display_name": "Python 3",
   "language": "python",
   "name": "python3"
  },
  "language_info": {
   "codemirror_mode": {
    "name": "ipython",
    "version": 3
   },
   "file_extension": ".py",
   "mimetype": "text/x-python",
   "name": "python",
   "nbconvert_exporter": "python",
   "pygments_lexer": "ipython3",
   "version": "3.8.5"
  }
 },
 "nbformat": 4,
 "nbformat_minor": 4
}
