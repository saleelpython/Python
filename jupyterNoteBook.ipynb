{
 "cells": [
  {
   "cell_type": "markdown",
   "metadata": {},
   "source": [
    "### Merge two DICT"
   ]
  },
  {
   "cell_type": "code",
   "execution_count": null,
   "metadata": {},
   "outputs": [],
   "source": [
    "d1 = {\"One\" : 1, \"Two\" : 2}\n",
    "d2 = {\"pen\":\"Three Pens\", \"Notebook\":\"12 notebooks\"}\n",
    "\n",
    "d1.update({\"One\" : 'Blackberry', \"Two\" : 'Mango', \"newKey\":'Banana'})\n",
    "x = {**d1, **d2}\n",
    "print(x)"
   ]
  },
  {
   "cell_type": "markdown",
   "metadata": {},
   "source": [
    "### pass **kwargs in function()"
   ]
  },
  {
   "cell_type": "code",
   "execution_count": null,
   "metadata": {},
   "outputs": [],
   "source": [
    "data = {\"a\":1001, \"b\":'saleel'}\n",
    "def fn(**kwargs):\n",
    "    print(kwargs)\n",
    "\n",
    "fn(**{\"a\":1001, \"b\":'saleel', \"c\":True})"
   ]
  },
  {
   "cell_type": "code",
   "execution_count": null,
   "metadata": {},
   "outputs": [],
   "source": [
    "data = {\"a\":1001, \"b\":'saleel', \"c\":True}\n",
    "print(data)"
   ]
  }
 ],
 "metadata": {
  "kernelspec": {
   "display_name": "Python 3",
   "language": "python",
   "name": "python3"
  },
  "language_info": {
   "codemirror_mode": {
    "name": "ipython",
    "version": 3
   },
   "file_extension": ".py",
   "mimetype": "text/x-python",
   "name": "python",
   "nbconvert_exporter": "python",
   "pygments_lexer": "ipython3",
   "version": "3.8.5"
  }
 },
 "nbformat": 4,
 "nbformat_minor": 4
}
