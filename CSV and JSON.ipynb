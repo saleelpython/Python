{
 "cells": [
  {
   "cell_type": "markdown",
   "metadata": {},
   "source": [
    "<h1 style=\"color:rgb(199, 0, 57)\"> Working with .CSV and JSON files </h1>\n",
    "\n",
    "<b> Author: ***** </b> <br>\n",
    "Language: Python- CSV/JSON file types <br>\n",
    "Version: 1.0.0 <br>\n",
    "Date: 09-Sept-2020<br>\n",
    "Modules <b>:  import csv/json"
   ]
  },
  {
   "cell_type": "markdown",
   "metadata": {},
   "source": [
    "<p style=\"color:RGB(65, 105, 225); font-size: 14pt\">* Example 1. </p>"
   ]
  },
  {
   "cell_type": "code",
   "execution_count": null,
   "metadata": {},
   "outputs": [],
   "source": [
    "with open(\"country-capitals.csv\", mode=\"r\") as fs:\n",
    "    data = csv.reader(fs)\n",
    "\n",
    "    for key, value in enumerate(data, start=1):\n",
    "        print(f\"{key = } {value = }\")"
   ]
  },
  {
   "cell_type": "markdown",
   "metadata": {},
   "source": [
    "<p style=\"color:RGB(65, 105, 225); font-size: 14pt\">* Example 2. </p>"
   ]
  },
  {
   "cell_type": "code",
   "execution_count": null,
   "metadata": {},
   "outputs": [],
   "source": [
    "import csv\n",
    "\n",
    "with open(\"country-capitals.csv\", mode=\"r\") as fs:\n",
    "    data = csv.reader(fs)\n",
    "    cnt = 1\n",
    "    for i in data:\n",
    "        print(f\"Document-{cnt} \")\n",
    "        print()\n",
    "        print(f\"CountryName: {i[0]}\")\n",
    "        print(f\"CapitalName: {i[1]}\")\n",
    "        print(f\"CapitalLatitude: {i[2]}\")\n",
    "        print(f\"CapitalLongitude: {i[3]}\")\n",
    "        print(f\"CountryCode: {i[4]}\")\n",
    "        print(f\"ContinentName: {i[5]}\")\n",
    "        print(\"-\" * 121)\n",
    "        cnt+=1"
   ]
  },
  {
   "cell_type": "markdown",
   "metadata": {},
   "source": [
    "<p style=\"color:RGB(65, 105, 225); font-size: 14pt\">* TODO </p>"
   ]
  },
  {
   "cell_type": "code",
   "execution_count": 1,
   "metadata": {},
   "outputs": [
    {
     "name": "stdout",
     "output_type": "stream",
     "text": [
      "Enter ContinentName: africa\n",
      "['Somaliland', 'Hargeisa', '9.55', '44.05', 'NULL', 'Africa', '']\n",
      "['Western Sahara', 'El-AaiÃºn', '27.153611', '-13.203333', 'EH', 'Africa', '']\n",
      "['Algeria', 'Algiers', '36.75', '3.05', 'DZ', 'Africa', '']\n",
      "['Angola', 'Luanda', '-8.833333333', '13.216667', 'AO', 'Africa', '']\n",
      "['Benin', 'Porto-Novo', '6.483333333', '2.616667', 'BJ', 'Africa', '']\n",
      "['Botswana', 'Gaborone', '-24.63333333', '25.9', 'BW', 'Africa', '']\n",
      "['Burkina Faso', 'Ouagadougou', '12.36666667', '-1.516667', 'BF', 'Africa', '']\n",
      "['Burundi', 'Bujumbura', '-3.366666667', '29.35', 'BI', 'Africa', '']\n",
      "['Cameroon', 'Yaounde', '3.866666667', '11.516667', 'CM', 'Africa', '']\n",
      "['Cape Verde', 'Praia', '14.91666667', '-23.516667', 'CV', 'Africa', '']\n",
      "['Central African Republic', 'Bangui', '4.366666667', '18.583333', 'CF', 'Africa', '']\n",
      "['Chad', \"N'Djamena\", '12.1', '15.033333', 'TD', 'Africa', '']\n",
      "['Comoros', 'Moroni', '-11.7', '43.233333', 'KM', 'Africa', '']\n",
      "['Democratic Republic of the Congo', 'Kinshasa', '-4.316666667', '15.3', 'CD', 'Africa', '']\n",
      "['Republic of Congo', 'Brazzaville', '-4.25', '15.283333', 'CG', 'Africa', '']\n",
      "[\"Cote d'Ivoire\", 'Yamoussoukro', '6.816666667', '-5.266667', 'CI', 'Africa', '']\n",
      "['Djibouti', 'Djibouti', '11.58333333', '43.15', 'DJ', 'Africa', '']\n",
      "['Egypt', 'Cairo', '30.05', '31.25', 'EG', 'Africa', '']\n",
      "['Equatorial Guinea', 'Malabo', '3.75', '8.783333', 'GQ', 'Africa', '']\n",
      "['Eritrea', 'Asmara', '15.33333333', '38.933333', 'ER', 'Africa', '']\n",
      "['Ethiopia', 'Addis Ababa', '9.033333333', '38.7', 'ET', 'Africa', '']\n",
      "['Gabon', 'Libreville', '0.383333333', '9.45', 'GA', 'Africa', '']\n",
      "['The Gambia', 'Banjul', '13.45', '-16.566667', 'GM', 'Africa', '']\n",
      "['Ghana', 'Accra', '5.55', '-0.216667', 'GH', 'Africa', '']\n",
      "['Guinea', 'Conakry', '9.5', '-13.7', 'GN', 'Africa', '']\n",
      "['Guinea-Bissau', 'Bissau', '11.85', '-15.583333', 'GW', 'Africa', '']\n",
      "['Kenya', 'Nairobi', '-1.283333333', '36.816667', 'KE', 'Africa', '']\n",
      "['Lesotho', 'Maseru', '-29.31666667', '27.483333', 'LS', 'Africa', '']\n",
      "['Liberia', 'Monrovia', '6.3', '-10.8', 'LR', 'Africa', '']\n",
      "['Libya', 'Tripoli', '32.88333333', '13.166667', 'LY', 'Africa', '']\n",
      "['Madagascar', 'Antananarivo', '-18.91666667', '47.516667', 'MG', 'Africa', '']\n",
      "['Malawi', 'Lilongwe', '-13.96666667', '33.783333', 'MW', 'Africa', '']\n",
      "['Mali', 'Bamako', '12.65', '-8', 'ML', 'Africa', '']\n",
      "['Mauritania', 'Nouakchott', '18.06666667', '-15.966667', 'MR', 'Africa', '']\n",
      "['Mauritius', 'Port Louis', '-20.15', '57.483333', 'MU', 'Africa', '']\n",
      "['Morocco', 'Rabat', '34.01666667', '-6.816667', 'MA', 'Africa', '']\n",
      "['Mozambique', 'Maputo', '-25.95', '32.583333', 'MZ', 'Africa', '']\n",
      "['Namibia', 'Windhoek', '-22.56666667', '17.083333', 'NA', 'Africa', '']\n",
      "['Niger', 'Niamey', '13.51666667', '2.116667', 'NE', 'Africa', '']\n",
      "['Nigeria', 'Abuja', '9.083333333', '7.533333', 'NG', 'Africa', '']\n",
      "['Rwanda', 'Kigali', '-1.95', '30.05', 'RW', 'Africa', '']\n",
      "['Saint Helena', 'Jamestown', '-15.93333333', '-5.716667', 'SH', 'Africa', '']\n",
      "['Sao Tome and Principe', 'Sao Tome', '0.333333333', '6.733333', 'ST', 'Africa', '']\n",
      "['Senegal', 'Dakar', '14.73333333', '-17.633333', 'SN', 'Africa', '']\n",
      "['Seychelles', 'Victoria', '-4.616666667', '55.45', 'SC', 'Africa', '']\n",
      "['Sierra Leone', 'Freetown', '8.483333333', '-13.233333', 'SL', 'Africa', '']\n",
      "['Somalia', 'Mogadishu', '2.066666667', '45.333333', 'SO', 'Africa', '']\n",
      "['South Africa', 'Pretoria', '-25.7', '28.216667', 'ZA', 'Africa', '']\n",
      "['South Sudan', 'Juba', '4.85', '31.616667', 'SS', 'Africa', '']\n",
      "['Sudan', 'Khartoum', '15.6', '32.533333', 'SD', 'Africa', '']\n",
      "['Swaziland', 'Mbabane', '-26.31666667', '31.133333', 'SZ', 'Africa', '']\n",
      "['Tanzania', 'Dar es Salaam', '-6.8', '39.283333', 'TZ', 'Africa', '']\n",
      "['Togo', 'Lome', '6.116666667', '1.216667', 'TG', 'Africa', '']\n",
      "['Tunisia', 'Tunis', '36.8', '10.183333', 'TN', 'Africa', '']\n",
      "['Uganda', 'Kampala', '0.316666667', '32.55', 'UG', 'Africa', '']\n",
      "['Zambia', 'Lusaka', '-15.41666667', '28.283333', 'ZM', 'Africa', '']\n",
      "['Zimbabwe', 'Harare', '-17.81666667', '31.033333', 'ZW', 'Africa', '']\n",
      "['British Indian Ocean Territory', 'Diego Garcia', '-7.3', '72.4', 'IO', 'Africa', '']\n"
     ]
    }
   ],
   "source": [
    "import csv\n",
    "\n",
    "with open(\"country-capitals.csv\", mode=\"r\") as fs:\n",
    "    data = csv.reader(fs)\n",
    "\n",
    "    ContinentName = input(\"Enter ContinentName: \")\n",
    "    [print(i) for i in data if i[5].lower() == ContinentName.lower()]"
   ]
  },
  {
   "cell_type": "markdown",
   "metadata": {},
   "source": [
    "<p style=\"color:RGB(65, 105, 225); font-size: 14pt\">* TODO </p>"
   ]
  },
  {
   "cell_type": "code",
   "execution_count": null,
   "metadata": {},
   "outputs": [],
   "source": []
  },
  {
   "cell_type": "markdown",
   "metadata": {},
   "source": [
    "<p style=\"color:RGB(65, 105, 225); font-size: 14pt\">* TODO </p>"
   ]
  },
  {
   "cell_type": "code",
   "execution_count": null,
   "metadata": {},
   "outputs": [],
   "source": []
  },
  {
   "cell_type": "markdown",
   "metadata": {},
   "source": [
    "<p style=\"color:RGB(65, 105, 225); font-size: 14pt\">* TODO </p>"
   ]
  },
  {
   "cell_type": "code",
   "execution_count": null,
   "metadata": {},
   "outputs": [],
   "source": []
  },
  {
   "cell_type": "markdown",
   "metadata": {},
   "source": [
    "<p style=\"color:RGB(65, 105, 225); font-size: 14pt\">* TODO </p>"
   ]
  },
  {
   "cell_type": "code",
   "execution_count": null,
   "metadata": {},
   "outputs": [],
   "source": []
  },
  {
   "cell_type": "markdown",
   "metadata": {},
   "source": [
    "<p style=\"color:RGB(65, 105, 225); font-size: 14pt\">* TODO </p>"
   ]
  },
  {
   "cell_type": "code",
   "execution_count": null,
   "metadata": {},
   "outputs": [],
   "source": []
  },
  {
   "cell_type": "markdown",
   "metadata": {},
   "source": [
    "<p style=\"color:RGB(65, 105, 225); font-size: 14pt\">* TODO </p>"
   ]
  },
  {
   "cell_type": "code",
   "execution_count": null,
   "metadata": {},
   "outputs": [],
   "source": []
  },
  {
   "cell_type": "markdown",
   "metadata": {},
   "source": [
    "<p style=\"color:RGB(65, 105, 225); font-size: 14pt\">* TODO </p>"
   ]
  },
  {
   "cell_type": "code",
   "execution_count": null,
   "metadata": {},
   "outputs": [],
   "source": []
  },
  {
   "cell_type": "markdown",
   "metadata": {},
   "source": [
    "<p style=\"color:RGB(65, 105, 225); font-size: 14pt\">* TODO </p>"
   ]
  },
  {
   "cell_type": "code",
   "execution_count": null,
   "metadata": {},
   "outputs": [],
   "source": []
  },
  {
   "cell_type": "markdown",
   "metadata": {},
   "source": [
    "<p style=\"color:RGB(65, 105, 225); font-size: 14pt\">* TODO </p>"
   ]
  },
  {
   "cell_type": "code",
   "execution_count": null,
   "metadata": {},
   "outputs": [],
   "source": []
  },
  {
   "cell_type": "markdown",
   "metadata": {},
   "source": [
    "<p style=\"color:RGB(65, 105, 225); font-size: 14pt\">* TODO </p>"
   ]
  },
  {
   "cell_type": "code",
   "execution_count": null,
   "metadata": {},
   "outputs": [],
   "source": []
  },
  {
   "cell_type": "markdown",
   "metadata": {},
   "source": [
    "<p style=\"color:RGB(65, 105, 225); font-size: 14pt\">* TODO </p>"
   ]
  },
  {
   "cell_type": "code",
   "execution_count": null,
   "metadata": {},
   "outputs": [],
   "source": []
  },
  {
   "cell_type": "markdown",
   "metadata": {},
   "source": [
    "<p style=\"color:RGB(65, 105, 225); font-size: 14pt\">* TODO </p>"
   ]
  },
  {
   "cell_type": "code",
   "execution_count": null,
   "metadata": {},
   "outputs": [],
   "source": []
  },
  {
   "cell_type": "markdown",
   "metadata": {},
   "source": [
    "<p style=\"color:RGB(65, 105, 225); font-size: 14pt\">* TODO </p>"
   ]
  },
  {
   "cell_type": "code",
   "execution_count": null,
   "metadata": {},
   "outputs": [],
   "source": []
  },
  {
   "cell_type": "markdown",
   "metadata": {},
   "source": [
    "<p style=\"color:RGB(65, 105, 225); font-size: 14pt\">* TODO </p>"
   ]
  },
  {
   "cell_type": "code",
   "execution_count": null,
   "metadata": {},
   "outputs": [],
   "source": []
  },
  {
   "cell_type": "markdown",
   "metadata": {},
   "source": [
    "<p style=\"color:RGB(65, 105, 225); font-size: 14pt\">* TODO </p>"
   ]
  },
  {
   "cell_type": "code",
   "execution_count": null,
   "metadata": {},
   "outputs": [],
   "source": []
  },
  {
   "cell_type": "markdown",
   "metadata": {},
   "source": [
    "<p style=\"color:RGB(65, 105, 225); font-size: 14pt\">* TODO </p>"
   ]
  },
  {
   "cell_type": "code",
   "execution_count": null,
   "metadata": {},
   "outputs": [],
   "source": []
  },
  {
   "cell_type": "markdown",
   "metadata": {},
   "source": [
    "<p style=\"color:RGB(65, 105, 225); font-size: 14pt\">* TODO </p>"
   ]
  },
  {
   "cell_type": "code",
   "execution_count": null,
   "metadata": {},
   "outputs": [],
   "source": []
  },
  {
   "cell_type": "markdown",
   "metadata": {},
   "source": [
    "<p style=\"color:RGB(65, 105, 225); font-size: 14pt\">* TODO </p>"
   ]
  },
  {
   "cell_type": "code",
   "execution_count": null,
   "metadata": {},
   "outputs": [],
   "source": []
  },
  {
   "cell_type": "markdown",
   "metadata": {},
   "source": [
    "<p style=\"color:RGB(65, 105, 225); font-size: 14pt\">* TODO </p>"
   ]
  },
  {
   "cell_type": "code",
   "execution_count": null,
   "metadata": {},
   "outputs": [],
   "source": []
  },
  {
   "cell_type": "markdown",
   "metadata": {},
   "source": [
    "<p style=\"color:RGB(65, 105, 225); font-size: 14pt\">* TODO </p>"
   ]
  },
  {
   "cell_type": "code",
   "execution_count": null,
   "metadata": {},
   "outputs": [],
   "source": []
  },
  {
   "cell_type": "markdown",
   "metadata": {},
   "source": [
    "<p style=\"color:RGB(65, 105, 225); font-size: 14pt\">* TODO </p>"
   ]
  },
  {
   "cell_type": "code",
   "execution_count": null,
   "metadata": {},
   "outputs": [],
   "source": []
  },
  {
   "cell_type": "markdown",
   "metadata": {},
   "source": [
    "<p style=\"color:RGB(65, 105, 225); font-size: 14pt\">* TODO </p>"
   ]
  },
  {
   "cell_type": "code",
   "execution_count": null,
   "metadata": {},
   "outputs": [],
   "source": []
  },
  {
   "cell_type": "markdown",
   "metadata": {},
   "source": [
    "<p style=\"color:RGB(65, 105, 225); font-size: 14pt\">* TODO </p>"
   ]
  },
  {
   "cell_type": "code",
   "execution_count": null,
   "metadata": {},
   "outputs": [],
   "source": []
  },
  {
   "cell_type": "markdown",
   "metadata": {},
   "source": [
    "<p style=\"color:RGB(65, 105, 225); font-size: 14pt\">* TODO </p>"
   ]
  },
  {
   "cell_type": "code",
   "execution_count": null,
   "metadata": {},
   "outputs": [],
   "source": []
  },
  {
   "cell_type": "markdown",
   "metadata": {},
   "source": [
    "<p style=\"color:RGB(65, 105, 225); font-size: 14pt\">* TODO </p>"
   ]
  },
  {
   "cell_type": "code",
   "execution_count": null,
   "metadata": {},
   "outputs": [],
   "source": []
  },
  {
   "cell_type": "markdown",
   "metadata": {},
   "source": [
    "<p style=\"color:RGB(65, 105, 225); font-size: 14pt\">* TODO </p>"
   ]
  },
  {
   "cell_type": "code",
   "execution_count": null,
   "metadata": {},
   "outputs": [],
   "source": []
  },
  {
   "cell_type": "markdown",
   "metadata": {},
   "source": [
    "<p style=\"color:RGB(65, 105, 225); font-size: 14pt\">* TODO </p>"
   ]
  },
  {
   "cell_type": "code",
   "execution_count": null,
   "metadata": {},
   "outputs": [],
   "source": []
  },
  {
   "cell_type": "markdown",
   "metadata": {},
   "source": [
    "<p style=\"color:RGB(65, 105, 225); font-size: 14pt\">* TODO </p>"
   ]
  },
  {
   "cell_type": "code",
   "execution_count": null,
   "metadata": {},
   "outputs": [],
   "source": []
  },
  {
   "cell_type": "markdown",
   "metadata": {},
   "source": [
    "<p style=\"color:RGB(65, 105, 225); font-size: 14pt\">* TODO </p>"
   ]
  },
  {
   "cell_type": "code",
   "execution_count": null,
   "metadata": {},
   "outputs": [],
   "source": []
  },
  {
   "cell_type": "markdown",
   "metadata": {},
   "source": [
    "<p style=\"color:RGB(65, 105, 225); font-size: 14pt\">* TODO </p>"
   ]
  },
  {
   "cell_type": "code",
   "execution_count": null,
   "metadata": {},
   "outputs": [],
   "source": []
  },
  {
   "cell_type": "markdown",
   "metadata": {},
   "source": [
    "<p style=\"color:RGB(65, 105, 225); font-size: 14pt\">* TODO </p>"
   ]
  },
  {
   "cell_type": "code",
   "execution_count": null,
   "metadata": {},
   "outputs": [],
   "source": []
  },
  {
   "cell_type": "markdown",
   "metadata": {},
   "source": [
    "<p style=\"color:RGB(65, 105, 225); font-size: 14pt\">* TODO </p>"
   ]
  },
  {
   "cell_type": "code",
   "execution_count": null,
   "metadata": {},
   "outputs": [],
   "source": []
  },
  {
   "cell_type": "markdown",
   "metadata": {},
   "source": [
    "<p style=\"color:RGB(65, 105, 225); font-size: 14pt\">* TODO </p>"
   ]
  },
  {
   "cell_type": "code",
   "execution_count": null,
   "metadata": {},
   "outputs": [],
   "source": []
  },
  {
   "cell_type": "markdown",
   "metadata": {},
   "source": [
    "<p style=\"color:RGB(65, 105, 225); font-size: 14pt\">* TODO </p>"
   ]
  },
  {
   "cell_type": "code",
   "execution_count": null,
   "metadata": {},
   "outputs": [],
   "source": []
  },
  {
   "cell_type": "markdown",
   "metadata": {},
   "source": [
    "<p style=\"color:RGB(65, 105, 225); font-size: 14pt\">* TODO </p>"
   ]
  },
  {
   "cell_type": "code",
   "execution_count": null,
   "metadata": {},
   "outputs": [],
   "source": []
  },
  {
   "cell_type": "markdown",
   "metadata": {},
   "source": [
    "<p style=\"color:RGB(65, 105, 225); font-size: 14pt\">* TODO </p>"
   ]
  },
  {
   "cell_type": "code",
   "execution_count": null,
   "metadata": {},
   "outputs": [],
   "source": []
  },
  {
   "cell_type": "markdown",
   "metadata": {},
   "source": [
    "<p style=\"color:RGB(65, 105, 225); font-size: 14pt\">* TODO </p>"
   ]
  },
  {
   "cell_type": "code",
   "execution_count": null,
   "metadata": {},
   "outputs": [],
   "source": []
  },
  {
   "cell_type": "markdown",
   "metadata": {},
   "source": [
    "<p style=\"color:RGB(65, 105, 225); font-size: 14pt\">* TODO </p>"
   ]
  },
  {
   "cell_type": "code",
   "execution_count": null,
   "metadata": {},
   "outputs": [],
   "source": []
  },
  {
   "cell_type": "markdown",
   "metadata": {},
   "source": [
    "<p style=\"color:RGB(65, 105, 225); font-size: 14pt\">* TODO </p>"
   ]
  },
  {
   "cell_type": "code",
   "execution_count": null,
   "metadata": {},
   "outputs": [],
   "source": []
  }
 ],
 "metadata": {
  "kernelspec": {
   "display_name": "Python 3",
   "language": "python",
   "name": "python3"
  },
  "language_info": {
   "codemirror_mode": {
    "name": "ipython",
    "version": 3
   },
   "file_extension": ".py",
   "mimetype": "text/x-python",
   "name": "python",
   "nbconvert_exporter": "python",
   "pygments_lexer": "ipython3",
   "version": "3.8.5"
  },
  "widgets": {
   "application/vnd.jupyter.widget-state+json": {
    "state": {},
    "version_major": 2,
    "version_minor": 0
   }
  }
 },
 "nbformat": 4,
 "nbformat_minor": 4
}
