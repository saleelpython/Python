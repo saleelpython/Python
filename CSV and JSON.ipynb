{
 "cells": [
  {
   "cell_type": "markdown",
   "metadata": {},
   "source": [
    "<h1 style=\"color:rgb(199, 0, 57)\"> Working with .CSV and JSON files </h1>\n",
    "\n",
    "<b> Author: ***** </b> <br>\n",
    "Language: Python- CSV/JSON file types <br>\n",
    "Version: 1.0.0 <br>\n",
    "Date: 09-Sept-2020<br>\n",
    "Modules <b>:  import csv/json"
   ]
  },
  {
   "cell_type": "markdown",
   "metadata": {},
   "source": [
    "<p style=\"color:RGB(65, 105, 225); font-size: 14pt\">* Example 1. Read CSV file </p>"
   ]
  },
  {
   "cell_type": "code",
   "execution_count": null,
   "metadata": {},
   "outputs": [],
   "source": [
    "import csv\n",
    "with open(\"country-capitals.csv\", mode=\"r\") as fs:\n",
    "    data = csv.reader(fs)\n",
    "    for i in data:\n",
    "        print(i)"
   ]
  },
  {
   "cell_type": "markdown",
   "metadata": {},
   "source": [
    "<p style=\"color:RGB(65, 105, 225); font-size: 14pt\">* Example 1. Read CSV file</p>"
   ]
  },
  {
   "cell_type": "code",
   "execution_count": null,
   "metadata": {},
   "outputs": [],
   "source": [
    "import csv\n",
    "\n",
    "with open (\"country-capitals.csv\", mode='r') as fs:\n",
    "    data = csv.DictReader(fs, fieldnames=[\"CountryName\", \"CapitalName\", \"CapitalLatitude\", \"CapitalLongitude\", \"CountryCode\",\n",
    "                                         \"ContinentName\"],delimiter=',')\n",
    "\n",
    "    for i in data:\n",
    "        print(i)\n",
    "        print()"
   ]
  },
  {
   "cell_type": "markdown",
   "metadata": {},
   "source": [
    "<p style=\"color:RGB(65, 105, 225); font-size: 14pt\">* Example 2. Get all details from country-capitals.csv file </p>"
   ]
  },
  {
   "cell_type": "code",
   "execution_count": null,
   "metadata": {},
   "outputs": [],
   "source": [
    "import csv\n",
    "\n",
    "with open(\"country-capitals.csv\", mode=\"r\") as fs:\n",
    "    data = csv.reader(fs)\n",
    "    cnt = 1\n",
    "    for i in data:\n",
    "        print(f\"Document-{cnt} \")\n",
    "        print()\n",
    "        print(f\"CountryName: {i[0]}\")\n",
    "        print(f\"CapitalName: {i[1]}\")\n",
    "        print(f\"CapitalLatitude: {i[2]}\")\n",
    "        print(f\"CapitalLongitude: {i[3]}\")\n",
    "        print(f\"CountryCode: {i[4]}\")\n",
    "        print(f\"ContinentName: {i[5]}\")\n",
    "        print(\"-\" * 121)\n",
    "        cnt+=1"
   ]
  },
  {
   "cell_type": "markdown",
   "metadata": {},
   "source": [
    "<p style=\"color:RGB(65, 105, 225); font-size: 14pt\">* Example 3. Get countries and capitals according to Continent Name </p>"
   ]
  },
  {
   "cell_type": "code",
   "execution_count": null,
   "metadata": {},
   "outputs": [],
   "source": [
    "import csv\n",
    "\n",
    "with open(\"country-capitals.csv\", mode=\"r\") as fs:\n",
    "    data = csv.reader(fs)\n",
    "\n",
    "    ContinentName = input(\"Enter ContinentName: \")\n",
    "    [print(i) for i in data if i[5].lower() == ContinentName.lower()]"
   ]
  },
  {
   "cell_type": "markdown",
   "metadata": {},
   "source": [
    "<p style=\"color:RGB(65, 105, 225); font-size: 14pt\">* Example 4. Convert .CSV to DICT </p>"
   ]
  },
  {
   "cell_type": "code",
   "execution_count": 1,
   "metadata": {},
   "outputs": [
    {
     "name": "stdout",
     "output_type": "stream",
     "text": [
      "[{'CountryName': 'Somaliland', 'CapitalName': 'Hargeisa', 'CapitalLatitude': '9.55', 'CapitalLongitude': '44.05', 'CountryCode': 'NULL', 'ContinentName': 'Africa'}, {'CountryName': 'South Georgia and South Sandwich Islands', 'CapitalName': 'King Edward Point', 'CapitalLatitude': '-54.283333', 'CapitalLongitude': '-36.5', 'CountryCode': 'GS', 'ContinentName': 'Antarctica'}, {'CountryName': 'French Southern and Antarctic Lands', 'CapitalName': 'Port-aux-FranÃ§ais', 'CapitalLatitude': '-49.35', 'CapitalLongitude': '70.216667', 'CountryCode': 'TF', 'ContinentName': 'Antarctica'}, {'CountryName': 'Palestine', 'CapitalName': 'Jerusalem', 'CapitalLatitude': '31.76666667', 'CapitalLongitude': '35.233333', 'CountryCode': 'PS', 'ContinentName': 'Asia'}, {'CountryName': 'Aland Islands', 'CapitalName': 'Mariehamn', 'CapitalLatitude': '60.116667', 'CapitalLongitude': '19.9', 'CountryCode': 'AX', 'ContinentName': 'Europe'}, {'CountryName': 'Nauru', 'CapitalName': 'Yaren', 'CapitalLatitude': '-0.5477', 'CapitalLongitude': '166.920867', 'CountryCode': 'NR', 'ContinentName': 'Australia'}, {'CountryName': 'Saint Martin', 'CapitalName': 'Marigot', 'CapitalLatitude': '18.0731', 'CapitalLongitude': '-63.0822', 'CountryCode': 'MF', 'ContinentName': 'North America'}, {'CountryName': 'Tokelau', 'CapitalName': 'Atafu', 'CapitalLatitude': '-9.166667', 'CapitalLongitude': '-171.833333', 'CountryCode': 'TK', 'ContinentName': 'Australia'}, {'CountryName': 'Western Sahara', 'CapitalName': 'El-AaiÃºn', 'CapitalLatitude': '27.153611', 'CapitalLongitude': '-13.203333', 'CountryCode': 'EH', 'ContinentName': 'Africa'}, {'CountryName': 'Afghanistan', 'CapitalName': 'Kabul', 'CapitalLatitude': '34.51666667', 'CapitalLongitude': '69.183333', 'CountryCode': 'AF', 'ContinentName': 'Asia'}, {'CountryName': 'Albania', 'CapitalName': 'Tirana', 'CapitalLatitude': '41.31666667', 'CapitalLongitude': '19.816667', 'CountryCode': 'AL', 'ContinentName': 'Europe'}, {'CountryName': 'Algeria', 'CapitalName': 'Algiers', 'CapitalLatitude': '36.75', 'CapitalLongitude': '3.05', 'CountryCode': 'DZ', 'ContinentName': 'Africa'}, {'CountryName': 'American Samoa', 'CapitalName': 'Pago Pago', 'CapitalLatitude': '-14.26666667', 'CapitalLongitude': '-170.7', 'CountryCode': 'AS', 'ContinentName': 'Australia'}, {'CountryName': 'Andorra', 'CapitalName': 'Andorra la Vella', 'CapitalLatitude': '42.5', 'CapitalLongitude': '1.516667', 'CountryCode': 'AD', 'ContinentName': 'Europe'}, {'CountryName': 'Angola', 'CapitalName': 'Luanda', 'CapitalLatitude': '-8.833333333', 'CapitalLongitude': '13.216667', 'CountryCode': 'AO', 'ContinentName': 'Africa'}, {'CountryName': 'Anguilla', 'CapitalName': 'The Valley', 'CapitalLatitude': '18.21666667', 'CapitalLongitude': '-63.05', 'CountryCode': 'AI', 'ContinentName': 'North America'}, {'CountryName': 'Antigua and Barbuda', 'CapitalName': \"Saint John's\", 'CapitalLatitude': '17.11666667', 'CapitalLongitude': '-61.85', 'CountryCode': 'AG', 'ContinentName': 'North America'}, {'CountryName': 'Argentina', 'CapitalName': 'Buenos Aires', 'CapitalLatitude': '-34.58333333', 'CapitalLongitude': '-58.666667', 'CountryCode': 'AR', 'ContinentName': 'South America'}, {'CountryName': 'Armenia', 'CapitalName': 'Yerevan', 'CapitalLatitude': '40.16666667', 'CapitalLongitude': '44.5', 'CountryCode': 'AM', 'ContinentName': 'Europe'}, {'CountryName': 'Aruba', 'CapitalName': 'Oranjestad', 'CapitalLatitude': '12.51666667', 'CapitalLongitude': '-70.033333', 'CountryCode': 'AW', 'ContinentName': 'North America'}, {'CountryName': 'Australia', 'CapitalName': 'Canberra', 'CapitalLatitude': '-35.26666667', 'CapitalLongitude': '149.133333', 'CountryCode': 'AU', 'ContinentName': 'Australia'}, {'CountryName': 'Austria', 'CapitalName': 'Vienna', 'CapitalLatitude': '48.2', 'CapitalLongitude': '16.366667', 'CountryCode': 'AT', 'ContinentName': 'Europe'}, {'CountryName': 'Azerbaijan', 'CapitalName': 'Baku', 'CapitalLatitude': '40.38333333', 'CapitalLongitude': '49.866667', 'CountryCode': 'AZ', 'ContinentName': 'Europe'}, {'CountryName': 'Bahamas', 'CapitalName': 'Nassau', 'CapitalLatitude': '25.08333333', 'CapitalLongitude': '-77.35', 'CountryCode': 'BS', 'ContinentName': 'North America'}, {'CountryName': 'Bahrain', 'CapitalName': 'Manama', 'CapitalLatitude': '26.23333333', 'CapitalLongitude': '50.566667', 'CountryCode': 'BH', 'ContinentName': 'Asia'}, {'CountryName': 'Bangladesh', 'CapitalName': 'Dhaka', 'CapitalLatitude': '23.71666667', 'CapitalLongitude': '90.4', 'CountryCode': 'BD', 'ContinentName': 'Asia'}, {'CountryName': 'Barbados', 'CapitalName': 'Bridgetown', 'CapitalLatitude': '13.1', 'CapitalLongitude': '-59.616667', 'CountryCode': 'BB', 'ContinentName': 'North America'}, {'CountryName': 'Belarus', 'CapitalName': 'Minsk', 'CapitalLatitude': '53.9', 'CapitalLongitude': '27.566667', 'CountryCode': 'BY', 'ContinentName': 'Europe'}, {'CountryName': 'Belgium', 'CapitalName': 'Brussels', 'CapitalLatitude': '50.83333333', 'CapitalLongitude': '4.333333', 'CountryCode': 'BE', 'ContinentName': 'Europe'}, {'CountryName': 'Belize', 'CapitalName': 'Belmopan', 'CapitalLatitude': '17.25', 'CapitalLongitude': '-88.766667', 'CountryCode': 'BZ', 'ContinentName': 'Central America'}, {'CountryName': 'Benin', 'CapitalName': 'Porto-Novo', 'CapitalLatitude': '6.483333333', 'CapitalLongitude': '2.616667', 'CountryCode': 'BJ', 'ContinentName': 'Africa'}, {'CountryName': 'Bermuda', 'CapitalName': 'Hamilton', 'CapitalLatitude': '32.28333333', 'CapitalLongitude': '-64.783333', 'CountryCode': 'BM', 'ContinentName': 'North America'}, {'CountryName': 'Bhutan', 'CapitalName': 'Thimphu', 'CapitalLatitude': '27.46666667', 'CapitalLongitude': '89.633333', 'CountryCode': 'BT', 'ContinentName': 'Asia'}, {'CountryName': 'Bolivia', 'CapitalName': 'La Paz', 'CapitalLatitude': '-16.5', 'CapitalLongitude': '-68.15', 'CountryCode': 'BO', 'ContinentName': 'South America'}, {'CountryName': 'Bosnia and Herzegovina', 'CapitalName': 'Sarajevo', 'CapitalLatitude': '43.86666667', 'CapitalLongitude': '18.416667', 'CountryCode': 'BA', 'ContinentName': 'Europe'}, {'CountryName': 'Botswana', 'CapitalName': 'Gaborone', 'CapitalLatitude': '-24.63333333', 'CapitalLongitude': '25.9', 'CountryCode': 'BW', 'ContinentName': 'Africa'}, {'CountryName': 'Brazil', 'CapitalName': 'Brasilia', 'CapitalLatitude': '-15.78333333', 'CapitalLongitude': '-47.916667', 'CountryCode': 'BR', 'ContinentName': 'South America'}, {'CountryName': 'British Virgin Islands', 'CapitalName': 'Road Town', 'CapitalLatitude': '18.41666667', 'CapitalLongitude': '-64.616667', 'CountryCode': 'VG', 'ContinentName': 'North America'}, {'CountryName': 'Brunei Darussalam', 'CapitalName': 'Bandar Seri Begawan', 'CapitalLatitude': '4.883333333', 'CapitalLongitude': '114.933333', 'CountryCode': 'BN', 'ContinentName': 'Asia'}, {'CountryName': 'Bulgaria', 'CapitalName': 'Sofia', 'CapitalLatitude': '42.68333333', 'CapitalLongitude': '23.316667', 'CountryCode': 'BG', 'ContinentName': 'Europe'}, {'CountryName': 'Burkina Faso', 'CapitalName': 'Ouagadougou', 'CapitalLatitude': '12.36666667', 'CapitalLongitude': '-1.516667', 'CountryCode': 'BF', 'ContinentName': 'Africa'}, {'CountryName': 'Myanmar', 'CapitalName': 'Rangoon', 'CapitalLatitude': '16.8', 'CapitalLongitude': '96.15', 'CountryCode': 'MM', 'ContinentName': 'Asia'}, {'CountryName': 'Burundi', 'CapitalName': 'Bujumbura', 'CapitalLatitude': '-3.366666667', 'CapitalLongitude': '29.35', 'CountryCode': 'BI', 'ContinentName': 'Africa'}, {'CountryName': 'Cambodia', 'CapitalName': 'Phnom Penh', 'CapitalLatitude': '11.55', 'CapitalLongitude': '104.916667', 'CountryCode': 'KH', 'ContinentName': 'Asia'}, {'CountryName': 'Cameroon', 'CapitalName': 'Yaounde', 'CapitalLatitude': '3.866666667', 'CapitalLongitude': '11.516667', 'CountryCode': 'CM', 'ContinentName': 'Africa'}, {'CountryName': 'Canada', 'CapitalName': 'Ottawa', 'CapitalLatitude': '45.41666667', 'CapitalLongitude': '-75.7', 'CountryCode': 'CA', 'ContinentName': 'Central America'}, {'CountryName': 'Cape Verde', 'CapitalName': 'Praia', 'CapitalLatitude': '14.91666667', 'CapitalLongitude': '-23.516667', 'CountryCode': 'CV', 'ContinentName': 'Africa'}, {'CountryName': 'Cayman Islands', 'CapitalName': 'George Town', 'CapitalLatitude': '19.3', 'CapitalLongitude': '-81.383333', 'CountryCode': 'KY', 'ContinentName': 'North America'}, {'CountryName': 'Central African Republic', 'CapitalName': 'Bangui', 'CapitalLatitude': '4.366666667', 'CapitalLongitude': '18.583333', 'CountryCode': 'CF', 'ContinentName': 'Africa'}, {'CountryName': 'Chad', 'CapitalName': \"N'Djamena\", 'CapitalLatitude': '12.1', 'CapitalLongitude': '15.033333', 'CountryCode': 'TD', 'ContinentName': 'Africa'}, {'CountryName': 'Chile', 'CapitalName': 'Santiago', 'CapitalLatitude': '-33.45', 'CapitalLongitude': '-70.666667', 'CountryCode': 'CL', 'ContinentName': 'South America'}, {'CountryName': 'China', 'CapitalName': 'Beijing', 'CapitalLatitude': '39.91666667', 'CapitalLongitude': '116.383333', 'CountryCode': 'CN', 'ContinentName': 'Asia'}, {'CountryName': 'Christmas Island', 'CapitalName': 'The Settlement', 'CapitalLatitude': '-10.41666667', 'CapitalLongitude': '105.716667', 'CountryCode': 'CX', 'ContinentName': 'Australia'}, {'CountryName': 'Cocos Islands', 'CapitalName': 'West Island', 'CapitalLatitude': '-12.16666667', 'CapitalLongitude': '96.833333', 'CountryCode': 'CC', 'ContinentName': 'Australia'}, {'CountryName': 'Colombia', 'CapitalName': 'Bogota', 'CapitalLatitude': '4.6', 'CapitalLongitude': '-74.083333', 'CountryCode': 'CO', 'ContinentName': 'South America'}, {'CountryName': 'Comoros', 'CapitalName': 'Moroni', 'CapitalLatitude': '-11.7', 'CapitalLongitude': '43.233333', 'CountryCode': 'KM', 'ContinentName': 'Africa'}, {'CountryName': 'Democratic Republic of the Congo', 'CapitalName': 'Kinshasa', 'CapitalLatitude': '-4.316666667', 'CapitalLongitude': '15.3', 'CountryCode': 'CD', 'ContinentName': 'Africa'}, {'CountryName': 'Republic of Congo', 'CapitalName': 'Brazzaville', 'CapitalLatitude': '-4.25', 'CapitalLongitude': '15.283333', 'CountryCode': 'CG', 'ContinentName': 'Africa'}, {'CountryName': 'Cook Islands', 'CapitalName': 'Avarua', 'CapitalLatitude': '-21.2', 'CapitalLongitude': '-159.766667', 'CountryCode': 'CK', 'ContinentName': 'Australia'}, {'CountryName': 'Costa Rica', 'CapitalName': 'San Jose', 'CapitalLatitude': '9.933333333', 'CapitalLongitude': '-84.083333', 'CountryCode': 'CR', 'ContinentName': 'Central America'}, {'CountryName': \"Cote d'Ivoire\", 'CapitalName': 'Yamoussoukro', 'CapitalLatitude': '6.816666667', 'CapitalLongitude': '-5.266667', 'CountryCode': 'CI', 'ContinentName': 'Africa'}, {'CountryName': 'Croatia', 'CapitalName': 'Zagreb', 'CapitalLatitude': '45.8', 'CapitalLongitude': '16', 'CountryCode': 'HR', 'ContinentName': 'Europe'}, {'CountryName': 'Cuba', 'CapitalName': 'Havana', 'CapitalLatitude': '23.11666667', 'CapitalLongitude': '-82.35', 'CountryCode': 'CU', 'ContinentName': 'North America'}, {'CountryName': 'CuraÃ§ao', 'CapitalName': 'Willemstad', 'CapitalLatitude': '12.1', 'CapitalLongitude': '-68.916667', 'CountryCode': 'CW', 'ContinentName': 'North America'}, {'CountryName': 'Cyprus', 'CapitalName': 'Nicosia', 'CapitalLatitude': '35.16666667', 'CapitalLongitude': '33.366667', 'CountryCode': 'CY', 'ContinentName': 'Europe'}, {'CountryName': 'Czech Republic', 'CapitalName': 'Prague', 'CapitalLatitude': '50.08333333', 'CapitalLongitude': '14.466667', 'CountryCode': 'CZ', 'ContinentName': 'Europe'}, {'CountryName': 'Denmark', 'CapitalName': 'Copenhagen', 'CapitalLatitude': '55.66666667', 'CapitalLongitude': '12.583333', 'CountryCode': 'DK', 'ContinentName': 'Europe'}, {'CountryName': 'Djibouti', 'CapitalName': 'Djibouti', 'CapitalLatitude': '11.58333333', 'CapitalLongitude': '43.15', 'CountryCode': 'DJ', 'ContinentName': 'Africa'}, {'CountryName': 'Dominica', 'CapitalName': 'Roseau', 'CapitalLatitude': '15.3', 'CapitalLongitude': '-61.4', 'CountryCode': 'DM', 'ContinentName': 'North America'}, {'CountryName': 'Dominican Republic', 'CapitalName': 'Santo Domingo', 'CapitalLatitude': '18.46666667', 'CapitalLongitude': '-69.9', 'CountryCode': 'DO', 'ContinentName': 'North America'}, {'CountryName': 'Ecuador', 'CapitalName': 'Quito', 'CapitalLatitude': '-0.216666667', 'CapitalLongitude': '-78.5', 'CountryCode': 'EC', 'ContinentName': 'South America'}, {'CountryName': 'Egypt', 'CapitalName': 'Cairo', 'CapitalLatitude': '30.05', 'CapitalLongitude': '31.25', 'CountryCode': 'EG', 'ContinentName': 'Africa'}, {'CountryName': 'El Salvador', 'CapitalName': 'San Salvador', 'CapitalLatitude': '13.7', 'CapitalLongitude': '-89.2', 'CountryCode': 'SV', 'ContinentName': 'Central America'}, {'CountryName': 'Equatorial Guinea', 'CapitalName': 'Malabo', 'CapitalLatitude': '3.75', 'CapitalLongitude': '8.783333', 'CountryCode': 'GQ', 'ContinentName': 'Africa'}, {'CountryName': 'Eritrea', 'CapitalName': 'Asmara', 'CapitalLatitude': '15.33333333', 'CapitalLongitude': '38.933333', 'CountryCode': 'ER', 'ContinentName': 'Africa'}, {'CountryName': 'Estonia', 'CapitalName': 'Tallinn', 'CapitalLatitude': '59.43333333', 'CapitalLongitude': '24.716667', 'CountryCode': 'EE', 'ContinentName': 'Europe'}, {'CountryName': 'Ethiopia', 'CapitalName': 'Addis Ababa', 'CapitalLatitude': '9.033333333', 'CapitalLongitude': '38.7', 'CountryCode': 'ET', 'ContinentName': 'Africa'}, {'CountryName': 'Falkland Islands', 'CapitalName': 'Stanley', 'CapitalLatitude': '-51.7', 'CapitalLongitude': '-57.85', 'CountryCode': 'FK', 'ContinentName': 'South America'}, {'CountryName': 'Faroe Islands', 'CapitalName': 'Torshavn', 'CapitalLatitude': '62', 'CapitalLongitude': '-6.766667', 'CountryCode': 'FO', 'ContinentName': 'Europe'}, {'CountryName': 'Fiji', 'CapitalName': 'Suva', 'CapitalLatitude': '-18.13333333', 'CapitalLongitude': '178.416667', 'CountryCode': 'FJ', 'ContinentName': 'Australia'}, {'CountryName': 'Finland', 'CapitalName': 'Helsinki', 'CapitalLatitude': '60.16666667', 'CapitalLongitude': '24.933333', 'CountryCode': 'FI', 'ContinentName': 'Europe'}, {'CountryName': 'France', 'CapitalName': 'Paris', 'CapitalLatitude': '48.86666667', 'CapitalLongitude': '2.333333', 'CountryCode': 'FR', 'ContinentName': 'Europe'}, {'CountryName': 'French Polynesia', 'CapitalName': 'Papeete', 'CapitalLatitude': '-17.53333333', 'CapitalLongitude': '-149.566667', 'CountryCode': 'PF', 'ContinentName': 'Australia'}, {'CountryName': 'Gabon', 'CapitalName': 'Libreville', 'CapitalLatitude': '0.383333333', 'CapitalLongitude': '9.45', 'CountryCode': 'GA', 'ContinentName': 'Africa'}, {'CountryName': 'The Gambia', 'CapitalName': 'Banjul', 'CapitalLatitude': '13.45', 'CapitalLongitude': '-16.566667', 'CountryCode': 'GM', 'ContinentName': 'Africa'}, {'CountryName': 'Georgia', 'CapitalName': 'Tbilisi', 'CapitalLatitude': '41.68333333', 'CapitalLongitude': '44.833333', 'CountryCode': 'GE', 'ContinentName': 'Europe'}, {'CountryName': 'Germany', 'CapitalName': 'Berlin', 'CapitalLatitude': '52.51666667', 'CapitalLongitude': '13.4', 'CountryCode': 'DE', 'ContinentName': 'Europe'}, {'CountryName': 'Ghana', 'CapitalName': 'Accra', 'CapitalLatitude': '5.55', 'CapitalLongitude': '-0.216667', 'CountryCode': 'GH', 'ContinentName': 'Africa'}, {'CountryName': 'Gibraltar', 'CapitalName': 'Gibraltar', 'CapitalLatitude': '36.13333333', 'CapitalLongitude': '-5.35', 'CountryCode': 'GI', 'ContinentName': 'Europe'}, {'CountryName': 'Greece', 'CapitalName': 'Athens', 'CapitalLatitude': '37.98333333', 'CapitalLongitude': '23.733333', 'CountryCode': 'GR', 'ContinentName': 'Europe'}, {'CountryName': 'Greenland', 'CapitalName': 'Nuuk', 'CapitalLatitude': '64.18333333', 'CapitalLongitude': '-51.75', 'CountryCode': 'GL', 'ContinentName': 'Central America'}, {'CountryName': 'Grenada', 'CapitalName': \"Saint George's\", 'CapitalLatitude': '12.05', 'CapitalLongitude': '-61.75', 'CountryCode': 'GD', 'ContinentName': 'North America'}, {'CountryName': 'Guam', 'CapitalName': 'Hagatna', 'CapitalLatitude': '13.46666667', 'CapitalLongitude': '144.733333', 'CountryCode': 'GU', 'ContinentName': 'Australia'}, {'CountryName': 'Guatemala', 'CapitalName': 'Guatemala City', 'CapitalLatitude': '14.61666667', 'CapitalLongitude': '-90.516667', 'CountryCode': 'GT', 'ContinentName': 'Central America'}, {'CountryName': 'Guernsey', 'CapitalName': 'Saint Peter Port', 'CapitalLatitude': '49.45', 'CapitalLongitude': '-2.533333', 'CountryCode': 'GG', 'ContinentName': 'Europe'}, {'CountryName': 'Guinea', 'CapitalName': 'Conakry', 'CapitalLatitude': '9.5', 'CapitalLongitude': '-13.7', 'CountryCode': 'GN', 'ContinentName': 'Africa'}, {'CountryName': 'Guinea-Bissau', 'CapitalName': 'Bissau', 'CapitalLatitude': '11.85', 'CapitalLongitude': '-15.583333', 'CountryCode': 'GW', 'ContinentName': 'Africa'}, {'CountryName': 'Guyana', 'CapitalName': 'Georgetown', 'CapitalLatitude': '6.8', 'CapitalLongitude': '-58.15', 'CountryCode': 'GY', 'ContinentName': 'South America'}, {'CountryName': 'Haiti', 'CapitalName': 'Port-au-Prince', 'CapitalLatitude': '18.53333333', 'CapitalLongitude': '-72.333333', 'CountryCode': 'HT', 'ContinentName': 'North America'}, {'CountryName': 'Vatican City', 'CapitalName': 'Vatican City', 'CapitalLatitude': '41.9', 'CapitalLongitude': '12.45', 'CountryCode': 'VA', 'ContinentName': 'Europe'}, {'CountryName': 'Honduras', 'CapitalName': 'Tegucigalpa', 'CapitalLatitude': '14.1', 'CapitalLongitude': '-87.216667', 'CountryCode': 'HN', 'ContinentName': 'Central America'}, {'CountryName': 'Hungary', 'CapitalName': 'Budapest', 'CapitalLatitude': '47.5', 'CapitalLongitude': '19.083333', 'CountryCode': 'HU', 'ContinentName': 'Europe'}, {'CountryName': 'Iceland', 'CapitalName': 'Reykjavik', 'CapitalLatitude': '64.15', 'CapitalLongitude': '-21.95', 'CountryCode': 'IS', 'ContinentName': 'Europe'}, {'CountryName': 'India', 'CapitalName': 'New Delhi', 'CapitalLatitude': '28.6', 'CapitalLongitude': '77.2', 'CountryCode': 'IN', 'ContinentName': 'Asia'}, {'CountryName': 'Indonesia', 'CapitalName': 'Jakarta', 'CapitalLatitude': '-6.166666667', 'CapitalLongitude': '106.816667', 'CountryCode': 'ID', 'ContinentName': 'Asia'}, {'CountryName': 'Iran', 'CapitalName': 'Tehran', 'CapitalLatitude': '35.7', 'CapitalLongitude': '51.416667', 'CountryCode': 'IR', 'ContinentName': 'Asia'}, {'CountryName': 'Iraq', 'CapitalName': 'Baghdad', 'CapitalLatitude': '33.33333333', 'CapitalLongitude': '44.4', 'CountryCode': 'IQ', 'ContinentName': 'Asia'}, {'CountryName': 'Ireland', 'CapitalName': 'Dublin', 'CapitalLatitude': '53.31666667', 'CapitalLongitude': '-6.233333', 'CountryCode': 'IE', 'ContinentName': 'Europe'}, {'CountryName': 'Isle of Man', 'CapitalName': 'Douglas', 'CapitalLatitude': '54.15', 'CapitalLongitude': '-4.483333', 'CountryCode': 'IM', 'ContinentName': 'Europe'}, {'CountryName': 'Israel', 'CapitalName': 'Jerusalem', 'CapitalLatitude': '31.76666667', 'CapitalLongitude': '35.233333', 'CountryCode': 'IL', 'ContinentName': 'Asia'}, {'CountryName': 'Italy', 'CapitalName': 'Rome', 'CapitalLatitude': '41.9', 'CapitalLongitude': '12.483333', 'CountryCode': 'IT', 'ContinentName': 'Europe'}, {'CountryName': 'Jamaica', 'CapitalName': 'Kingston', 'CapitalLatitude': '18', 'CapitalLongitude': '-76.8', 'CountryCode': 'JM', 'ContinentName': 'North America'}, {'CountryName': 'Japan', 'CapitalName': 'Tokyo', 'CapitalLatitude': '35.68333333', 'CapitalLongitude': '139.75', 'CountryCode': 'JP', 'ContinentName': 'Asia'}, {'CountryName': 'Jersey', 'CapitalName': 'Saint Helier', 'CapitalLatitude': '49.18333333', 'CapitalLongitude': '-2.1', 'CountryCode': 'JE', 'ContinentName': 'Europe'}, {'CountryName': 'Jordan', 'CapitalName': 'Amman', 'CapitalLatitude': '31.95', 'CapitalLongitude': '35.933333', 'CountryCode': 'JO', 'ContinentName': 'Asia'}, {'CountryName': 'Kazakhstan', 'CapitalName': 'Astana', 'CapitalLatitude': '51.16666667', 'CapitalLongitude': '71.416667', 'CountryCode': 'KZ', 'ContinentName': 'Asia'}, {'CountryName': 'Kenya', 'CapitalName': 'Nairobi', 'CapitalLatitude': '-1.283333333', 'CapitalLongitude': '36.816667', 'CountryCode': 'KE', 'ContinentName': 'Africa'}, {'CountryName': 'Kiribati', 'CapitalName': 'Tarawa', 'CapitalLatitude': '-0.883333333', 'CapitalLongitude': '169.533333', 'CountryCode': 'KI', 'ContinentName': 'Australia'}, {'CountryName': 'North Korea', 'CapitalName': 'Pyongyang', 'CapitalLatitude': '39.01666667', 'CapitalLongitude': '125.75', 'CountryCode': 'KP', 'ContinentName': 'Asia'}, {'CountryName': 'South Korea', 'CapitalName': 'Seoul', 'CapitalLatitude': '37.55', 'CapitalLongitude': '126.983333', 'CountryCode': 'KR', 'ContinentName': 'Asia'}, {'CountryName': 'Kosovo', 'CapitalName': 'Pristina', 'CapitalLatitude': '42.66666667', 'CapitalLongitude': '21.166667', 'CountryCode': 'KO', 'ContinentName': 'Europe'}, {'CountryName': 'Kuwait', 'CapitalName': 'Kuwait City', 'CapitalLatitude': '29.36666667', 'CapitalLongitude': '47.966667', 'CountryCode': 'KW', 'ContinentName': 'Asia'}, {'CountryName': 'Kyrgyzstan', 'CapitalName': 'Bishkek', 'CapitalLatitude': '42.86666667', 'CapitalLongitude': '74.6', 'CountryCode': 'KG', 'ContinentName': 'Asia'}, {'CountryName': 'Laos', 'CapitalName': 'Vientiane', 'CapitalLatitude': '17.96666667', 'CapitalLongitude': '102.6', 'CountryCode': 'LA', 'ContinentName': 'Asia'}, {'CountryName': 'Latvia', 'CapitalName': 'Riga', 'CapitalLatitude': '56.95', 'CapitalLongitude': '24.1', 'CountryCode': 'LV', 'ContinentName': 'Europe'}, {'CountryName': 'Lebanon', 'CapitalName': 'Beirut', 'CapitalLatitude': '33.86666667', 'CapitalLongitude': '35.5', 'CountryCode': 'LB', 'ContinentName': 'Asia'}, {'CountryName': 'Lesotho', 'CapitalName': 'Maseru', 'CapitalLatitude': '-29.31666667', 'CapitalLongitude': '27.483333', 'CountryCode': 'LS', 'ContinentName': 'Africa'}, {'CountryName': 'Liberia', 'CapitalName': 'Monrovia', 'CapitalLatitude': '6.3', 'CapitalLongitude': '-10.8', 'CountryCode': 'LR', 'ContinentName': 'Africa'}, {'CountryName': 'Libya', 'CapitalName': 'Tripoli', 'CapitalLatitude': '32.88333333', 'CapitalLongitude': '13.166667', 'CountryCode': 'LY', 'ContinentName': 'Africa'}, {'CountryName': 'Liechtenstein', 'CapitalName': 'Vaduz', 'CapitalLatitude': '47.13333333', 'CapitalLongitude': '9.516667', 'CountryCode': 'LI', 'ContinentName': 'Europe'}, {'CountryName': 'Lithuania', 'CapitalName': 'Vilnius', 'CapitalLatitude': '54.68333333', 'CapitalLongitude': '25.316667', 'CountryCode': 'LT', 'ContinentName': 'Europe'}, {'CountryName': 'Luxembourg', 'CapitalName': 'Luxembourg', 'CapitalLatitude': '49.6', 'CapitalLongitude': '6.116667', 'CountryCode': 'LU', 'ContinentName': 'Europe'}, {'CountryName': 'Macedonia', 'CapitalName': 'Skopje', 'CapitalLatitude': '42', 'CapitalLongitude': '21.433333', 'CountryCode': 'MK', 'ContinentName': 'Europe'}, {'CountryName': 'Madagascar', 'CapitalName': 'Antananarivo', 'CapitalLatitude': '-18.91666667', 'CapitalLongitude': '47.516667', 'CountryCode': 'MG', 'ContinentName': 'Africa'}, {'CountryName': 'Malawi', 'CapitalName': 'Lilongwe', 'CapitalLatitude': '-13.96666667', 'CapitalLongitude': '33.783333', 'CountryCode': 'MW', 'ContinentName': 'Africa'}, {'CountryName': 'Malaysia', 'CapitalName': 'Kuala Lumpur', 'CapitalLatitude': '3.166666667', 'CapitalLongitude': '101.7', 'CountryCode': 'MY', 'ContinentName': 'Asia'}, {'CountryName': 'Maldives', 'CapitalName': 'Male', 'CapitalLatitude': '4.166666667', 'CapitalLongitude': '73.5', 'CountryCode': 'MV', 'ContinentName': 'Asia'}, {'CountryName': 'Mali', 'CapitalName': 'Bamako', 'CapitalLatitude': '12.65', 'CapitalLongitude': '-8', 'CountryCode': 'ML', 'ContinentName': 'Africa'}, {'CountryName': 'Malta', 'CapitalName': 'Valletta', 'CapitalLatitude': '35.88333333', 'CapitalLongitude': '14.5', 'CountryCode': 'MT', 'ContinentName': 'Europe'}, {'CountryName': 'Marshall Islands', 'CapitalName': 'Majuro', 'CapitalLatitude': '7.1', 'CapitalLongitude': '171.383333', 'CountryCode': 'MH', 'ContinentName': 'Australia'}, {'CountryName': 'Mauritania', 'CapitalName': 'Nouakchott', 'CapitalLatitude': '18.06666667', 'CapitalLongitude': '-15.966667', 'CountryCode': 'MR', 'ContinentName': 'Africa'}, {'CountryName': 'Mauritius', 'CapitalName': 'Port Louis', 'CapitalLatitude': '-20.15', 'CapitalLongitude': '57.483333', 'CountryCode': 'MU', 'ContinentName': 'Africa'}, {'CountryName': 'Mexico', 'CapitalName': 'Mexico City', 'CapitalLatitude': '19.43333333', 'CapitalLongitude': '-99.133333', 'CountryCode': 'MX', 'ContinentName': 'Central America'}, {'CountryName': 'Federated States of Micronesia', 'CapitalName': 'Palikir', 'CapitalLatitude': '6.916666667', 'CapitalLongitude': '158.15', 'CountryCode': 'FM', 'ContinentName': 'Australia'}, {'CountryName': 'Moldova', 'CapitalName': 'Chisinau', 'CapitalLatitude': '47', 'CapitalLongitude': '28.85', 'CountryCode': 'MD', 'ContinentName': 'Europe'}, {'CountryName': 'Monaco', 'CapitalName': 'Monaco', 'CapitalLatitude': '43.73333333', 'CapitalLongitude': '7.416667', 'CountryCode': 'MC', 'ContinentName': 'Europe'}, {'CountryName': 'Mongolia', 'CapitalName': 'Ulaanbaatar', 'CapitalLatitude': '47.91666667', 'CapitalLongitude': '106.916667', 'CountryCode': 'MN', 'ContinentName': 'Asia'}, {'CountryName': 'Montenegro', 'CapitalName': 'Podgorica', 'CapitalLatitude': '42.43333333', 'CapitalLongitude': '19.266667', 'CountryCode': 'ME', 'ContinentName': 'Europe'}, {'CountryName': 'Montserrat', 'CapitalName': 'Plymouth', 'CapitalLatitude': '16.7', 'CapitalLongitude': '-62.216667', 'CountryCode': 'MS', 'ContinentName': 'North America'}, {'CountryName': 'Morocco', 'CapitalName': 'Rabat', 'CapitalLatitude': '34.01666667', 'CapitalLongitude': '-6.816667', 'CountryCode': 'MA', 'ContinentName': 'Africa'}, {'CountryName': 'Mozambique', 'CapitalName': 'Maputo', 'CapitalLatitude': '-25.95', 'CapitalLongitude': '32.583333', 'CountryCode': 'MZ', 'ContinentName': 'Africa'}, {'CountryName': 'Namibia', 'CapitalName': 'Windhoek', 'CapitalLatitude': '-22.56666667', 'CapitalLongitude': '17.083333', 'CountryCode': 'NA', 'ContinentName': 'Africa'}, {'CountryName': 'Nepal', 'CapitalName': 'Kathmandu', 'CapitalLatitude': '27.71666667', 'CapitalLongitude': '85.316667', 'CountryCode': 'NP', 'ContinentName': 'Asia'}, {'CountryName': 'Netherlands', 'CapitalName': 'Amsterdam', 'CapitalLatitude': '52.35', 'CapitalLongitude': '4.916667', 'CountryCode': 'NL', 'ContinentName': 'Europe'}, {'CountryName': 'New Caledonia', 'CapitalName': 'Noumea', 'CapitalLatitude': '-22.26666667', 'CapitalLongitude': '166.45', 'CountryCode': 'NC', 'ContinentName': 'Australia'}, {'CountryName': 'New Zealand', 'CapitalName': 'Wellington', 'CapitalLatitude': '-41.3', 'CapitalLongitude': '174.783333', 'CountryCode': 'NZ', 'ContinentName': 'Australia'}, {'CountryName': 'Nicaragua', 'CapitalName': 'Managua', 'CapitalLatitude': '12.13333333', 'CapitalLongitude': '-86.25', 'CountryCode': 'NI', 'ContinentName': 'Central America'}, {'CountryName': 'Niger', 'CapitalName': 'Niamey', 'CapitalLatitude': '13.51666667', 'CapitalLongitude': '2.116667', 'CountryCode': 'NE', 'ContinentName': 'Africa'}, {'CountryName': 'Nigeria', 'CapitalName': 'Abuja', 'CapitalLatitude': '9.083333333', 'CapitalLongitude': '7.533333', 'CountryCode': 'NG', 'ContinentName': 'Africa'}, {'CountryName': 'Niue', 'CapitalName': 'Alofi', 'CapitalLatitude': '-19.01666667', 'CapitalLongitude': '-169.916667', 'CountryCode': 'NU', 'ContinentName': 'Australia'}, {'CountryName': 'Norfolk Island', 'CapitalName': 'Kingston', 'CapitalLatitude': '-29.05', 'CapitalLongitude': '167.966667', 'CountryCode': 'NF', 'ContinentName': 'Australia'}, {'CountryName': 'Northern Mariana Islands', 'CapitalName': 'Saipan', 'CapitalLatitude': '15.2', 'CapitalLongitude': '145.75', 'CountryCode': 'MP', 'ContinentName': 'Australia'}, {'CountryName': 'Norway', 'CapitalName': 'Oslo', 'CapitalLatitude': '59.91666667', 'CapitalLongitude': '10.75', 'CountryCode': 'NO', 'ContinentName': 'Europe'}, {'CountryName': 'Oman', 'CapitalName': 'Muscat', 'CapitalLatitude': '23.61666667', 'CapitalLongitude': '58.583333', 'CountryCode': 'OM', 'ContinentName': 'Asia'}, {'CountryName': 'Pakistan', 'CapitalName': 'Islamabad', 'CapitalLatitude': '33.68333333', 'CapitalLongitude': '73.05', 'CountryCode': 'PK', 'ContinentName': 'Asia'}, {'CountryName': 'Palau', 'CapitalName': 'Melekeok', 'CapitalLatitude': '7.483333333', 'CapitalLongitude': '134.633333', 'CountryCode': 'PW', 'ContinentName': 'Australia'}, {'CountryName': 'Panama', 'CapitalName': 'Panama City', 'CapitalLatitude': '8.966666667', 'CapitalLongitude': '-79.533333', 'CountryCode': 'PA', 'ContinentName': 'Central America'}, {'CountryName': 'Papua New Guinea', 'CapitalName': 'Port Moresby', 'CapitalLatitude': '-9.45', 'CapitalLongitude': '147.183333', 'CountryCode': 'PG', 'ContinentName': 'Australia'}, {'CountryName': 'Paraguay', 'CapitalName': 'Asuncion', 'CapitalLatitude': '-25.26666667', 'CapitalLongitude': '-57.666667', 'CountryCode': 'PY', 'ContinentName': 'South America'}, {'CountryName': 'Peru', 'CapitalName': 'Lima', 'CapitalLatitude': '-12.05', 'CapitalLongitude': '-77.05', 'CountryCode': 'PE', 'ContinentName': 'South America'}, {'CountryName': 'Philippines', 'CapitalName': 'Manila', 'CapitalLatitude': '14.6', 'CapitalLongitude': '120.966667', 'CountryCode': 'PH', 'ContinentName': 'Asia'}, {'CountryName': 'Pitcairn Islands', 'CapitalName': 'Adamstown', 'CapitalLatitude': '-25.06666667', 'CapitalLongitude': '-130.083333', 'CountryCode': 'PN', 'ContinentName': 'Australia'}, {'CountryName': 'Poland', 'CapitalName': 'Warsaw', 'CapitalLatitude': '52.25', 'CapitalLongitude': '21', 'CountryCode': 'PL', 'ContinentName': 'Europe'}, {'CountryName': 'Portugal', 'CapitalName': 'Lisbon', 'CapitalLatitude': '38.71666667', 'CapitalLongitude': '-9.133333', 'CountryCode': 'PT', 'ContinentName': 'Europe'}, {'CountryName': 'Puerto Rico', 'CapitalName': 'San Juan', 'CapitalLatitude': '18.46666667', 'CapitalLongitude': '-66.116667', 'CountryCode': 'PR', 'ContinentName': 'North America'}, {'CountryName': 'Qatar', 'CapitalName': 'Doha', 'CapitalLatitude': '25.28333333', 'CapitalLongitude': '51.533333', 'CountryCode': 'QA', 'ContinentName': 'Asia'}, {'CountryName': 'Romania', 'CapitalName': 'Bucharest', 'CapitalLatitude': '44.43333333', 'CapitalLongitude': '26.1', 'CountryCode': 'RO', 'ContinentName': 'Europe'}, {'CountryName': 'Russia', 'CapitalName': 'Moscow', 'CapitalLatitude': '55.75', 'CapitalLongitude': '37.6', 'CountryCode': 'RU', 'ContinentName': 'Europe'}, {'CountryName': 'Rwanda', 'CapitalName': 'Kigali', 'CapitalLatitude': '-1.95', 'CapitalLongitude': '30.05', 'CountryCode': 'RW', 'ContinentName': 'Africa'}, {'CountryName': 'Saint Barthelemy', 'CapitalName': 'Gustavia', 'CapitalLatitude': '17.88333333', 'CapitalLongitude': '-62.85', 'CountryCode': 'BL', 'ContinentName': 'North America'}, {'CountryName': 'Saint Helena', 'CapitalName': 'Jamestown', 'CapitalLatitude': '-15.93333333', 'CapitalLongitude': '-5.716667', 'CountryCode': 'SH', 'ContinentName': 'Africa'}, {'CountryName': 'Saint Kitts and Nevis', 'CapitalName': 'Basseterre', 'CapitalLatitude': '17.3', 'CapitalLongitude': '-62.716667', 'CountryCode': 'KN', 'ContinentName': 'North America'}, {'CountryName': 'Saint Lucia', 'CapitalName': 'Castries', 'CapitalLatitude': '14', 'CapitalLongitude': '-61', 'CountryCode': 'LC', 'ContinentName': 'North America'}, {'CountryName': 'Saint Pierre and Miquelon', 'CapitalName': 'Saint-Pierre', 'CapitalLatitude': '46.76666667', 'CapitalLongitude': '-56.183333', 'CountryCode': 'PM', 'ContinentName': 'Central America'}, {'CountryName': 'Saint Vincent and the Grenadines', 'CapitalName': 'Kingstown', 'CapitalLatitude': '13.13333333', 'CapitalLongitude': '-61.216667', 'CountryCode': 'VC', 'ContinentName': 'Central America'}, {'CountryName': 'Samoa', 'CapitalName': 'Apia', 'CapitalLatitude': '-13.81666667', 'CapitalLongitude': '-171.766667', 'CountryCode': 'WS', 'ContinentName': 'Australia'}, {'CountryName': 'San Marino', 'CapitalName': 'San Marino', 'CapitalLatitude': '43.93333333', 'CapitalLongitude': '12.416667', 'CountryCode': 'SM', 'ContinentName': 'Europe'}, {'CountryName': 'Sao Tome and Principe', 'CapitalName': 'Sao Tome', 'CapitalLatitude': '0.333333333', 'CapitalLongitude': '6.733333', 'CountryCode': 'ST', 'ContinentName': 'Africa'}, {'CountryName': 'Saudi Arabia', 'CapitalName': 'Riyadh', 'CapitalLatitude': '24.65', 'CapitalLongitude': '46.7', 'CountryCode': 'SA', 'ContinentName': 'Asia'}, {'CountryName': 'Senegal', 'CapitalName': 'Dakar', 'CapitalLatitude': '14.73333333', 'CapitalLongitude': '-17.633333', 'CountryCode': 'SN', 'ContinentName': 'Africa'}, {'CountryName': 'Serbia', 'CapitalName': 'Belgrade', 'CapitalLatitude': '44.83333333', 'CapitalLongitude': '20.5', 'CountryCode': 'RS', 'ContinentName': 'Europe'}, {'CountryName': 'Seychelles', 'CapitalName': 'Victoria', 'CapitalLatitude': '-4.616666667', 'CapitalLongitude': '55.45', 'CountryCode': 'SC', 'ContinentName': 'Africa'}, {'CountryName': 'Sierra Leone', 'CapitalName': 'Freetown', 'CapitalLatitude': '8.483333333', 'CapitalLongitude': '-13.233333', 'CountryCode': 'SL', 'ContinentName': 'Africa'}, {'CountryName': 'Singapore', 'CapitalName': 'Singapore', 'CapitalLatitude': '1.283333333', 'CapitalLongitude': '103.85', 'CountryCode': 'SG', 'ContinentName': 'Asia'}, {'CountryName': 'Sint Maarten', 'CapitalName': 'Philipsburg', 'CapitalLatitude': '18.01666667', 'CapitalLongitude': '-63.033333', 'CountryCode': 'SX', 'ContinentName': 'North America'}, {'CountryName': 'Slovakia', 'CapitalName': 'Bratislava', 'CapitalLatitude': '48.15', 'CapitalLongitude': '17.116667', 'CountryCode': 'SK', 'ContinentName': 'Europe'}, {'CountryName': 'Slovenia', 'CapitalName': 'Ljubljana', 'CapitalLatitude': '46.05', 'CapitalLongitude': '14.516667', 'CountryCode': 'SI', 'ContinentName': 'Europe'}, {'CountryName': 'Solomon Islands', 'CapitalName': 'Honiara', 'CapitalLatitude': '-9.433333333', 'CapitalLongitude': '159.95', 'CountryCode': 'SB', 'ContinentName': 'Australia'}, {'CountryName': 'Somalia', 'CapitalName': 'Mogadishu', 'CapitalLatitude': '2.066666667', 'CapitalLongitude': '45.333333', 'CountryCode': 'SO', 'ContinentName': 'Africa'}, {'CountryName': 'South Africa', 'CapitalName': 'Pretoria', 'CapitalLatitude': '-25.7', 'CapitalLongitude': '28.216667', 'CountryCode': 'ZA', 'ContinentName': 'Africa'}, {'CountryName': 'South Sudan', 'CapitalName': 'Juba', 'CapitalLatitude': '4.85', 'CapitalLongitude': '31.616667', 'CountryCode': 'SS', 'ContinentName': 'Africa'}, {'CountryName': 'Spain', 'CapitalName': 'Madrid', 'CapitalLatitude': '40.4', 'CapitalLongitude': '-3.683333', 'CountryCode': 'ES', 'ContinentName': 'Europe'}, {'CountryName': 'Sri Lanka', 'CapitalName': 'Colombo', 'CapitalLatitude': '6.916666667', 'CapitalLongitude': '79.833333', 'CountryCode': 'LK', 'ContinentName': 'Asia'}, {'CountryName': 'Sudan', 'CapitalName': 'Khartoum', 'CapitalLatitude': '15.6', 'CapitalLongitude': '32.533333', 'CountryCode': 'SD', 'ContinentName': 'Africa'}, {'CountryName': 'Suriname', 'CapitalName': 'Paramaribo', 'CapitalLatitude': '5.833333333', 'CapitalLongitude': '-55.166667', 'CountryCode': 'SR', 'ContinentName': 'South America'}, {'CountryName': 'Svalbard', 'CapitalName': 'Longyearbyen', 'CapitalLatitude': '78.21666667', 'CapitalLongitude': '15.633333', 'CountryCode': 'SJ', 'ContinentName': 'Europe'}, {'CountryName': 'Swaziland', 'CapitalName': 'Mbabane', 'CapitalLatitude': '-26.31666667', 'CapitalLongitude': '31.133333', 'CountryCode': 'SZ', 'ContinentName': 'Africa'}, {'CountryName': 'Sweden', 'CapitalName': 'Stockholm', 'CapitalLatitude': '59.33333333', 'CapitalLongitude': '18.05', 'CountryCode': 'SE', 'ContinentName': 'Europe'}, {'CountryName': 'Switzerland', 'CapitalName': 'Bern', 'CapitalLatitude': '46.91666667', 'CapitalLongitude': '7.466667', 'CountryCode': 'CH', 'ContinentName': 'Europe'}, {'CountryName': 'Syria', 'CapitalName': 'Damascus', 'CapitalLatitude': '33.5', 'CapitalLongitude': '36.3', 'CountryCode': 'SY', 'ContinentName': 'Asia'}, {'CountryName': 'Taiwan', 'CapitalName': 'Taipei', 'CapitalLatitude': '25.03333333', 'CapitalLongitude': '121.516667', 'CountryCode': 'TW', 'ContinentName': 'Asia'}, {'CountryName': 'Tajikistan', 'CapitalName': 'Dushanbe', 'CapitalLatitude': '38.55', 'CapitalLongitude': '68.766667', 'CountryCode': 'TJ', 'ContinentName': 'Asia'}, {'CountryName': 'Tanzania', 'CapitalName': 'Dar es Salaam', 'CapitalLatitude': '-6.8', 'CapitalLongitude': '39.283333', 'CountryCode': 'TZ', 'ContinentName': 'Africa'}, {'CountryName': 'Thailand', 'CapitalName': 'Bangkok', 'CapitalLatitude': '13.75', 'CapitalLongitude': '100.516667', 'CountryCode': 'TH', 'ContinentName': 'Asia'}, {'CountryName': 'Timor-Leste', 'CapitalName': 'Dili', 'CapitalLatitude': '-8.583333333', 'CapitalLongitude': '125.6', 'CountryCode': 'TL', 'ContinentName': 'Asia'}, {'CountryName': 'Togo', 'CapitalName': 'Lome', 'CapitalLatitude': '6.116666667', 'CapitalLongitude': '1.216667', 'CountryCode': 'TG', 'ContinentName': 'Africa'}, {'CountryName': 'Tonga', 'CapitalName': \"Nuku'alofa\", 'CapitalLatitude': '-21.13333333', 'CapitalLongitude': '-175.2', 'CountryCode': 'TO', 'ContinentName': 'Australia'}, {'CountryName': 'Trinidad and Tobago', 'CapitalName': 'Port of Spain', 'CapitalLatitude': '10.65', 'CapitalLongitude': '-61.516667', 'CountryCode': 'TT', 'ContinentName': 'North America'}, {'CountryName': 'Tunisia', 'CapitalName': 'Tunis', 'CapitalLatitude': '36.8', 'CapitalLongitude': '10.183333', 'CountryCode': 'TN', 'ContinentName': 'Africa'}, {'CountryName': 'Turkey', 'CapitalName': 'Ankara', 'CapitalLatitude': '39.93333333', 'CapitalLongitude': '32.866667', 'CountryCode': 'TR', 'ContinentName': 'Europe'}, {'CountryName': 'Turkmenistan', 'CapitalName': 'Ashgabat', 'CapitalLatitude': '37.95', 'CapitalLongitude': '58.383333', 'CountryCode': 'TM', 'ContinentName': 'Asia'}, {'CountryName': 'Turks and Caicos Islands', 'CapitalName': 'Grand Turk', 'CapitalLatitude': '21.46666667', 'CapitalLongitude': '-71.133333', 'CountryCode': 'TC', 'ContinentName': 'North America'}, {'CountryName': 'Tuvalu', 'CapitalName': 'Funafuti', 'CapitalLatitude': '-8.516666667', 'CapitalLongitude': '179.216667', 'CountryCode': 'TV', 'ContinentName': 'Australia'}, {'CountryName': 'Uganda', 'CapitalName': 'Kampala', 'CapitalLatitude': '0.316666667', 'CapitalLongitude': '32.55', 'CountryCode': 'UG', 'ContinentName': 'Africa'}, {'CountryName': 'Ukraine', 'CapitalName': 'Kyiv', 'CapitalLatitude': '50.43333333', 'CapitalLongitude': '30.516667', 'CountryCode': 'UA', 'ContinentName': 'Europe'}, {'CountryName': 'United Arab Emirates', 'CapitalName': 'Abu Dhabi', 'CapitalLatitude': '24.46666667', 'CapitalLongitude': '54.366667', 'CountryCode': 'AE', 'ContinentName': 'Asia'}, {'CountryName': 'United Kingdom', 'CapitalName': 'London', 'CapitalLatitude': '51.5', 'CapitalLongitude': '-0.083333', 'CountryCode': 'GB', 'ContinentName': 'Europe'}, {'CountryName': 'United States', 'CapitalName': 'Washington', 'CapitalLatitude': ' D.C.', 'CapitalLongitude': '38.883333', 'CountryCode': '-77', 'ContinentName': 'US'}, {'CountryName': 'Uruguay', 'CapitalName': 'Montevideo', 'CapitalLatitude': '-34.85', 'CapitalLongitude': '-56.166667', 'CountryCode': 'UY', 'ContinentName': 'South America'}, {'CountryName': 'Uzbekistan', 'CapitalName': 'Tashkent', 'CapitalLatitude': '41.31666667', 'CapitalLongitude': '69.25', 'CountryCode': 'UZ', 'ContinentName': 'Asia'}, {'CountryName': 'Vanuatu', 'CapitalName': 'Port-Vila', 'CapitalLatitude': '-17.73333333', 'CapitalLongitude': '168.316667', 'CountryCode': 'VU', 'ContinentName': 'Australia'}, {'CountryName': 'Venezuela', 'CapitalName': 'Caracas', 'CapitalLatitude': '10.48333333', 'CapitalLongitude': '-66.866667', 'CountryCode': 'VE', 'ContinentName': 'South America'}, {'CountryName': 'Vietnam', 'CapitalName': 'Hanoi', 'CapitalLatitude': '21.03333333', 'CapitalLongitude': '105.85', 'CountryCode': 'VN', 'ContinentName': 'Asia'}, {'CountryName': 'US Virgin Islands', 'CapitalName': 'Charlotte Amalie', 'CapitalLatitude': '18.35', 'CapitalLongitude': '-64.933333', 'CountryCode': 'VI', 'ContinentName': 'North America'}, {'CountryName': 'Wallis and Futuna', 'CapitalName': 'Mata-Utu', 'CapitalLatitude': '-13.95', 'CapitalLongitude': '-171.933333', 'CountryCode': 'WF', 'ContinentName': 'Australia'}, {'CountryName': 'Yemen', 'CapitalName': 'Sanaa', 'CapitalLatitude': '15.35', 'CapitalLongitude': '44.2', 'CountryCode': 'YE', 'ContinentName': 'Asia'}, {'CountryName': 'Zambia', 'CapitalName': 'Lusaka', 'CapitalLatitude': '-15.41666667', 'CapitalLongitude': '28.283333', 'CountryCode': 'ZM', 'ContinentName': 'Africa'}, {'CountryName': 'Zimbabwe', 'CapitalName': 'Harare', 'CapitalLatitude': '-17.81666667', 'CapitalLongitude': '31.033333', 'CountryCode': 'ZW', 'ContinentName': 'Africa'}, {'CountryName': 'US Minor Outlying Islands', 'CapitalName': 'Washington', 'CapitalLatitude': ' D.C.', 'CapitalLongitude': '38.883333', 'CountryCode': '-77', 'ContinentName': 'UM'}, {'CountryName': 'Antarctica', 'CapitalName': 'N/A', 'CapitalLatitude': '0', 'CapitalLongitude': '0', 'CountryCode': 'AQ', 'ContinentName': 'Antarctica'}, {'CountryName': 'Northern Cyprus', 'CapitalName': 'North Nicosia', 'CapitalLatitude': '35.183333', 'CapitalLongitude': '33.366667', 'CountryCode': 'NULL', 'ContinentName': 'Europe'}, {'CountryName': 'Hong Kong', 'CapitalName': 'N/A', 'CapitalLatitude': '0', 'CapitalLongitude': '0', 'CountryCode': 'HK', 'ContinentName': 'Asia'}, {'CountryName': 'Heard Island and McDonald Islands', 'CapitalName': 'N/A', 'CapitalLatitude': '0', 'CapitalLongitude': '0', 'CountryCode': 'HM', 'ContinentName': 'Antarctica'}, {'CountryName': 'British Indian Ocean Territory', 'CapitalName': 'Diego Garcia', 'CapitalLatitude': '-7.3', 'CapitalLongitude': '72.4', 'CountryCode': 'IO', 'ContinentName': 'Africa'}, {'CountryName': 'Macau', 'CapitalName': 'N/A', 'CapitalLatitude': '0', 'CapitalLongitude': '0', 'CountryCode': 'MO', 'ContinentName': 'Asia'}]\n"
     ]
    }
   ],
   "source": [
    "import csv\n",
    "\n",
    "with open('country-capitals.csv', mode=\"r\") as fs:\n",
    "    data = csv.reader(fs)\n",
    "\n",
    "    country = [{\"CountryName\": i[0], \"CapitalName\": i[1], \"CapitalLatitude\": i[2], \"CapitalLongitude\": i[3], \"CountryCode\": i[\n",
    "        4],  \"ContinentName\": i[5]} for i in data]\n",
    "\n",
    "print(country)"
   ]
  },
  {
   "cell_type": "markdown",
   "metadata": {},
   "source": [
    "<p style=\"color:RGB(65, 105, 225); font-size: 14pt\">* TODO </p>"
   ]
  },
  {
   "cell_type": "code",
   "execution_count": null,
   "metadata": {},
   "outputs": [],
   "source": []
  },
  {
   "cell_type": "markdown",
   "metadata": {},
   "source": [
    "<p style=\"color:RGB(65, 105, 225); font-size: 14pt\">* TODO </p>"
   ]
  },
  {
   "cell_type": "code",
   "execution_count": null,
   "metadata": {},
   "outputs": [],
   "source": []
  },
  {
   "cell_type": "markdown",
   "metadata": {},
   "source": [
    "<p style=\"color:RGB(65, 105, 225); font-size: 14pt\">* TODO </p>"
   ]
  },
  {
   "cell_type": "code",
   "execution_count": null,
   "metadata": {},
   "outputs": [],
   "source": []
  },
  {
   "cell_type": "markdown",
   "metadata": {},
   "source": [
    "<p style=\"color:RGB(65, 105, 225); font-size: 14pt\">* TODO </p>"
   ]
  },
  {
   "cell_type": "code",
   "execution_count": null,
   "metadata": {},
   "outputs": [],
   "source": []
  },
  {
   "cell_type": "markdown",
   "metadata": {},
   "source": [
    "<p style=\"color:RGB(65, 105, 225); font-size: 14pt\">* TODO </p>"
   ]
  },
  {
   "cell_type": "code",
   "execution_count": null,
   "metadata": {},
   "outputs": [],
   "source": []
  },
  {
   "cell_type": "markdown",
   "metadata": {},
   "source": [
    "<p style=\"color:RGB(65, 105, 225); font-size: 14pt\">* TODO </p>"
   ]
  },
  {
   "cell_type": "code",
   "execution_count": null,
   "metadata": {},
   "outputs": [],
   "source": []
  },
  {
   "cell_type": "markdown",
   "metadata": {},
   "source": [
    "<p style=\"color:RGB(65, 105, 225); font-size: 14pt\">* TODO </p>"
   ]
  },
  {
   "cell_type": "code",
   "execution_count": null,
   "metadata": {},
   "outputs": [],
   "source": []
  },
  {
   "cell_type": "markdown",
   "metadata": {},
   "source": [
    "<p style=\"color:RGB(65, 105, 225); font-size: 14pt\">* TODO </p>"
   ]
  },
  {
   "cell_type": "code",
   "execution_count": null,
   "metadata": {},
   "outputs": [],
   "source": []
  },
  {
   "cell_type": "markdown",
   "metadata": {},
   "source": [
    "<p style=\"color:RGB(65, 105, 225); font-size: 14pt\">* TODO </p>"
   ]
  },
  {
   "cell_type": "code",
   "execution_count": null,
   "metadata": {},
   "outputs": [],
   "source": []
  },
  {
   "cell_type": "markdown",
   "metadata": {},
   "source": [
    "<p style=\"color:RGB(65, 105, 225); font-size: 14pt\">* TODO </p>"
   ]
  },
  {
   "cell_type": "code",
   "execution_count": null,
   "metadata": {},
   "outputs": [],
   "source": []
  },
  {
   "cell_type": "markdown",
   "metadata": {},
   "source": [
    "<p style=\"color:RGB(65, 105, 225); font-size: 14pt\">* TODO </p>"
   ]
  },
  {
   "cell_type": "code",
   "execution_count": null,
   "metadata": {},
   "outputs": [],
   "source": []
  },
  {
   "cell_type": "markdown",
   "metadata": {},
   "source": [
    "<p style=\"color:RGB(65, 105, 225); font-size: 14pt\">* TODO </p>"
   ]
  },
  {
   "cell_type": "code",
   "execution_count": null,
   "metadata": {},
   "outputs": [],
   "source": []
  },
  {
   "cell_type": "markdown",
   "metadata": {},
   "source": [
    "<p style=\"color:RGB(65, 105, 225); font-size: 14pt\">* TODO </p>"
   ]
  },
  {
   "cell_type": "code",
   "execution_count": null,
   "metadata": {},
   "outputs": [],
   "source": []
  },
  {
   "cell_type": "markdown",
   "metadata": {},
   "source": [
    "<p style=\"color:RGB(65, 105, 225); font-size: 14pt\">* TODO </p>"
   ]
  },
  {
   "cell_type": "code",
   "execution_count": null,
   "metadata": {},
   "outputs": [],
   "source": []
  },
  {
   "cell_type": "markdown",
   "metadata": {},
   "source": [
    "<p style=\"color:RGB(65, 105, 225); font-size: 14pt\">* TODO </p>"
   ]
  },
  {
   "cell_type": "code",
   "execution_count": null,
   "metadata": {},
   "outputs": [],
   "source": []
  },
  {
   "cell_type": "markdown",
   "metadata": {},
   "source": [
    "<p style=\"color:RGB(65, 105, 225); font-size: 14pt\">* TODO </p>"
   ]
  },
  {
   "cell_type": "code",
   "execution_count": null,
   "metadata": {},
   "outputs": [],
   "source": []
  },
  {
   "cell_type": "markdown",
   "metadata": {},
   "source": [
    "<p style=\"color:RGB(65, 105, 225); font-size: 14pt\">* TODO </p>"
   ]
  },
  {
   "cell_type": "code",
   "execution_count": null,
   "metadata": {},
   "outputs": [],
   "source": []
  },
  {
   "cell_type": "markdown",
   "metadata": {},
   "source": [
    "<p style=\"color:RGB(65, 105, 225); font-size: 14pt\">* TODO </p>"
   ]
  },
  {
   "cell_type": "code",
   "execution_count": null,
   "metadata": {},
   "outputs": [],
   "source": []
  },
  {
   "cell_type": "markdown",
   "metadata": {},
   "source": [
    "<p style=\"color:RGB(65, 105, 225); font-size: 14pt\">* TODO </p>"
   ]
  },
  {
   "cell_type": "code",
   "execution_count": null,
   "metadata": {},
   "outputs": [],
   "source": []
  },
  {
   "cell_type": "markdown",
   "metadata": {},
   "source": [
    "<p style=\"color:RGB(65, 105, 225); font-size: 14pt\">* TODO </p>"
   ]
  },
  {
   "cell_type": "code",
   "execution_count": null,
   "metadata": {},
   "outputs": [],
   "source": []
  },
  {
   "cell_type": "markdown",
   "metadata": {},
   "source": [
    "<p style=\"color:RGB(65, 105, 225); font-size: 14pt\">* TODO </p>"
   ]
  },
  {
   "cell_type": "code",
   "execution_count": null,
   "metadata": {},
   "outputs": [],
   "source": []
  },
  {
   "cell_type": "markdown",
   "metadata": {},
   "source": [
    "<p style=\"color:RGB(65, 105, 225); font-size: 14pt\">* TODO </p>"
   ]
  },
  {
   "cell_type": "code",
   "execution_count": null,
   "metadata": {},
   "outputs": [],
   "source": []
  },
  {
   "cell_type": "markdown",
   "metadata": {},
   "source": [
    "<p style=\"color:RGB(65, 105, 225); font-size: 14pt\">* TODO </p>"
   ]
  },
  {
   "cell_type": "code",
   "execution_count": null,
   "metadata": {},
   "outputs": [],
   "source": []
  },
  {
   "cell_type": "markdown",
   "metadata": {},
   "source": [
    "<p style=\"color:RGB(65, 105, 225); font-size: 14pt\">* TODO </p>"
   ]
  },
  {
   "cell_type": "code",
   "execution_count": null,
   "metadata": {},
   "outputs": [],
   "source": []
  },
  {
   "cell_type": "markdown",
   "metadata": {},
   "source": [
    "<p style=\"color:RGB(65, 105, 225); font-size: 14pt\">* TODO </p>"
   ]
  },
  {
   "cell_type": "code",
   "execution_count": null,
   "metadata": {},
   "outputs": [],
   "source": []
  },
  {
   "cell_type": "markdown",
   "metadata": {},
   "source": [
    "<p style=\"color:RGB(65, 105, 225); font-size: 14pt\">* TODO </p>"
   ]
  },
  {
   "cell_type": "code",
   "execution_count": null,
   "metadata": {},
   "outputs": [],
   "source": []
  },
  {
   "cell_type": "markdown",
   "metadata": {},
   "source": [
    "<p style=\"color:RGB(65, 105, 225); font-size: 14pt\">* TODO </p>"
   ]
  },
  {
   "cell_type": "code",
   "execution_count": null,
   "metadata": {},
   "outputs": [],
   "source": []
  },
  {
   "cell_type": "markdown",
   "metadata": {},
   "source": [
    "<p style=\"color:RGB(65, 105, 225); font-size: 14pt\">* TODO </p>"
   ]
  },
  {
   "cell_type": "code",
   "execution_count": null,
   "metadata": {},
   "outputs": [],
   "source": []
  },
  {
   "cell_type": "markdown",
   "metadata": {},
   "source": [
    "<p style=\"color:RGB(65, 105, 225); font-size: 14pt\">* TODO </p>"
   ]
  },
  {
   "cell_type": "code",
   "execution_count": null,
   "metadata": {},
   "outputs": [],
   "source": []
  },
  {
   "cell_type": "markdown",
   "metadata": {},
   "source": [
    "<p style=\"color:RGB(65, 105, 225); font-size: 14pt\">* TODO </p>"
   ]
  },
  {
   "cell_type": "code",
   "execution_count": null,
   "metadata": {},
   "outputs": [],
   "source": []
  },
  {
   "cell_type": "markdown",
   "metadata": {},
   "source": [
    "<p style=\"color:RGB(65, 105, 225); font-size: 14pt\">* TODO </p>"
   ]
  },
  {
   "cell_type": "code",
   "execution_count": null,
   "metadata": {},
   "outputs": [],
   "source": []
  },
  {
   "cell_type": "markdown",
   "metadata": {},
   "source": [
    "<p style=\"color:RGB(65, 105, 225); font-size: 14pt\">* TODO </p>"
   ]
  },
  {
   "cell_type": "code",
   "execution_count": null,
   "metadata": {},
   "outputs": [],
   "source": []
  },
  {
   "cell_type": "markdown",
   "metadata": {},
   "source": [
    "<p style=\"color:RGB(65, 105, 225); font-size: 14pt\">* TODO </p>"
   ]
  },
  {
   "cell_type": "code",
   "execution_count": null,
   "metadata": {},
   "outputs": [],
   "source": []
  },
  {
   "cell_type": "markdown",
   "metadata": {},
   "source": [
    "<p style=\"color:RGB(65, 105, 225); font-size: 14pt\">* TODO </p>"
   ]
  },
  {
   "cell_type": "code",
   "execution_count": null,
   "metadata": {},
   "outputs": [],
   "source": []
  },
  {
   "cell_type": "markdown",
   "metadata": {},
   "source": [
    "<p style=\"color:RGB(65, 105, 225); font-size: 14pt\">* TODO </p>"
   ]
  },
  {
   "cell_type": "code",
   "execution_count": null,
   "metadata": {},
   "outputs": [],
   "source": []
  },
  {
   "cell_type": "markdown",
   "metadata": {},
   "source": [
    "<p style=\"color:RGB(65, 105, 225); font-size: 14pt\">* TODO </p>"
   ]
  },
  {
   "cell_type": "code",
   "execution_count": null,
   "metadata": {},
   "outputs": [],
   "source": []
  },
  {
   "cell_type": "markdown",
   "metadata": {},
   "source": [
    "<p style=\"color:RGB(65, 105, 225); font-size: 14pt\">* TODO </p>"
   ]
  },
  {
   "cell_type": "code",
   "execution_count": null,
   "metadata": {},
   "outputs": [],
   "source": []
  },
  {
   "cell_type": "markdown",
   "metadata": {},
   "source": [
    "<p style=\"color:RGB(65, 105, 225); font-size: 14pt\">* TODO </p>"
   ]
  },
  {
   "cell_type": "code",
   "execution_count": null,
   "metadata": {},
   "outputs": [],
   "source": []
  }
 ],
 "metadata": {
  "kernelspec": {
   "display_name": "Python 3",
   "language": "python",
   "name": "python3"
  },
  "language_info": {
   "codemirror_mode": {
    "name": "ipython",
    "version": 3
   },
   "file_extension": ".py",
   "mimetype": "text/x-python",
   "name": "python",
   "nbconvert_exporter": "python",
   "pygments_lexer": "ipython3",
   "version": "3.8.5"
  },
  "widgets": {
   "application/vnd.jupyter.widget-state+json": {
    "state": {},
    "version_major": 2,
    "version_minor": 0
   }
  }
 },
 "nbformat": 4,
 "nbformat_minor": 4
}
