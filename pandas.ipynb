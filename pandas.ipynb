{
 "cells": [
  {
   "cell_type": "markdown",
   "metadata": {},
   "source": [
    "<h1 style=\"color:rgb(199, 0, 57)\"> Working with Panda </h1>\n",
    "\n",
    "<b> Author: ***** </b> <br>\n",
    "Language: Python/Panda <br>\n",
    "Version: 1.0.0 <br>\n",
    "Date: 09-Sept-2020<br>"
   ]
  },
  {
   "cell_type": "markdown",
   "metadata": {},
   "source": [
    "<p style=\"color:RGB(65, 105, 225); font-size: 14pt\">* TODO </p>"
   ]
  },
  {
   "cell_type": "code",
   "execution_count": null,
   "metadata": {},
   "outputs": [],
   "source": [
    "import pandas as pd\n",
    "import numpy as np\n",
    "\n",
    "pd.set_option('display.max_rows', None)\n",
    "pd.set_option('display.max_columns', None)\n",
    "pd.set_option('display.width', 2000)\n"
   ]
  },
  {
   "cell_type": "markdown",
   "metadata": {},
   "source": [
    "<p style=\"color:RGB(65, 105, 225); font-size: 14pt\">* TODO </p>"
   ]
  },
  {
   "cell_type": "code",
   "execution_count": null,
   "metadata": {},
   "outputs": [],
   "source": [
    "import pandas as pd\n",
    "import numpy as np\n",
    "\n",
    "country = { \"CountryName\" :[\"Somaliland\", \"South Georgia and South Sandwich Islands\", \"French Southern and Antarctic Lands\", \n",
    "                            \"Palestine\"],\n",
    "            \"CapitalName\":[\"Hargeisa\", \"King Edward Point\", \"Port-aux-Français\", \"Jerusalem\"],\n",
    "            \"CapitalLatitude\":[9.55, -54.283333, -49.35, 31.76666667],\n",
    "            \"CapitalLongitude\":[44.05, -36.5, 70.216667, 35.233333],\n",
    "            \"CountryCode\":[None, \"GS\", \"TF\", \"PS\"],\n",
    "            \"ContinentName\":[\"Africa\", \"Antarctica\", \"Antarctica\", \"Asia\"],\n",
    "\n",
    "}\n",
    "\n",
    "df = pd.DataFrame(country)\n",
    "print(df)"
   ]
  },
  {
   "cell_type": "markdown",
   "metadata": {},
   "source": [
    "<p style=\"color:RGB(65, 105, 225); font-size: 14pt\">* TODO </p>"
   ]
  },
  {
   "cell_type": "code",
   "execution_count": null,
   "metadata": {},
   "outputs": [],
   "source": [
    "import pandas as pd\n",
    "import numpy as np\n",
    "\n",
    "person = {\"_id\": [1001, 1002, 1003, 1004, 1005, 1006, 1007],\n",
    "          \"firstName\" :[\"amit\", \"pankaj\", \"boy\", \"ruhan\", \"saleel\", \"anoop\",\"rajan\"],\n",
    "          \"Job\": [\"manager\", \"salesman\", \"manager\", \"salesman\", \"salesman\", \"accountant\", \"purchase\"],\n",
    "          \"canVote\":[True, False, True, False, True, True, False],\n",
    "          \"canDrive\":[True, True, True, True, True, True, True],\n",
    "          \"Salary\": [2500, 5000, 3200, 800, 7400,5500,3410]\n",
    "          }\n",
    "\n",
    "df = pd.DataFrame(person, columns=[\"_id\", \"firstName\", \"Job\", \"canVote\", \"canDrive\", \"Salary\", \"DoB\"])\n",
    "\n",
    "print(df)"
   ]
  },
  {
   "cell_type": "markdown",
   "metadata": {},
   "source": [
    "<p style=\"color:RGB(65, 105, 225); font-size: 14pt\">e.g.1. Data Filter </p>"
   ]
  },
  {
   "cell_type": "code",
   "execution_count": 4,
   "metadata": {},
   "outputs": [
    {
     "name": "stdout",
     "output_type": "stream",
     "text": [
      "                    City Colors Reported Shape Reported State              Time  How Many UFO\n",
      "0            Willingboro             NaN          OTHER    NJ   6/30/1930 20:00             3\n",
      "1                Holyoke             NaN           OVAL    CO   2/15/1931 14:00             3\n",
      "2                Abilene             NaN           DISK    KS  06-01-1931 13.00             1\n",
      "3   New York Worlds Fair             NaN          LIGHT    NY   4/18/1933 19:00             2\n",
      "4            Valley City             NaN           DISK    ND   9/15/1934 15:30             2\n",
      "5            Crater Lake             NaN         CIRCLE    CA    6/15/1935 0:00             1\n",
      "6                   Alma             NaN           DISK    MI    7/15/1936 0:00             3\n",
      "7                Eklutna             NaN          CIGAR    AK  10/15/1936 17:00             3\n",
      "8                Hubbard             NaN       CYLINDER    OR    6/15/1937 0:00             3\n",
      "9                Fontana             NaN          LIGHT    CA   8/15/1937 21:00             2\n",
      "10              Waterloo             NaN       FIREBALL    AL  06-01-1939 20.00             2\n",
      "11                Belton             RED         SPHERE    SC   6/30/1939 20:00             1\n",
      "12                Keokuk             NaN           OVAL    IA   07-07-1939 2.00             1\n",
      "13             Ludington             NaN           DISK    MI  06-01-1941 13.00             1\n",
      "14           Forest Home             NaN         CIRCLE    CA  07-02-1941 11.30             2\n",
      "15           Los Angeles             NaN            NaN    CA    2/25/1942 0:00             3\n",
      "16             Hapeville             NaN            NaN    GA  06-01-1942 22.30             1\n",
      "17                Oneida             NaN      RECTANGLE    TN    7/15/1942 1:00             3\n",
      "18            Bering Sea             RED          OTHER    AK   4/30/1943 23:00             3\n",
      "19              Nebraska             NaN           DISK    NE  06-01-1943 15.00             3\n",
      "20                   NaN             NaN            NaN    LA    8/15/1943 0:00             2\n",
      "21                   NaN             NaN          LIGHT    LA    8/15/1943 0:00             2\n",
      "22             Owensboro             NaN      RECTANGLE    KY  10/15/1943 11:00             1\n",
      "23            Wilderness             NaN           DISK    WV  01-01-1944 10.00             1\n",
      "24             San Diego             NaN          CIGAR    CA  01-01-1944 12.00             1\n",
      "25            Wilderness             NaN           DISK    WV  01-01-1944 12.00             3\n",
      "26                Clovis             NaN           DISK    NM  04-02-1944 11.00             1\n",
      "27            Los Alamos             NaN           DISK    NM  06-01-1944 12.00             3\n",
      "28          Ft. Duschene             NaN           DISK    UT   6/30/1944 10:00             1\n",
      "29       South Kingstown             NaN         SPHERE    RI  07-01-1944 20.00             1\n",
      "30           North Tampa             NaN       CYLINDER    FL   7/15/1944 13:00             2\n",
      "31               Ft. Lee             NaN          CIGAR    VA  01-01-1945 12.00             1\n",
      "32           Salinas AFB             NaN           DISK    CA  06-01-1945 12.00             2\n",
      "33                Jasper             NaN       FIREBALL    FL  06-01-1945 13.30             2\n",
      "34         Winston-Salem             NaN           DISK    NC   06-07-1945 7.00             1\n",
      "35            Portsmouth             RED      FORMATION    VA   07-10-1945 1.30             1\n",
      "36                Dallas             NaN         SPHERE    TX   7/15/1945 14:00             1\n",
      "37      Huntington Beach             NaN           DISK    CA  08-08-1945 12.00             3\n"
     ]
    }
   ],
   "source": [
    "import pandas as pd\n",
    "import numpy as np\n",
    "\n",
    "pd.set_option('display.max_rows', None)\n",
    "pd.set_option('display.max_columns', None)\n",
    "pd.set_option('display.max_colwidth', 140)\n",
    "pd.set_option('display.width', 240)\n",
    "\n",
    "df = pd.read_csv(\"ufo.csv\", names=[\"City\", \"Colors Reported\", \"Shape Reported\", \"State\", \"Time\"], nrows=38,\n",
    "                 header=1)\n",
    "\n",
    "df[\"How Many UFO\"] = [np.random.randint(1, 4) for i in np.arange(1, max(df.count() + 1))]\n",
    "\n",
    "# df.fillna(value={\"Colors Reported\" : 'color not defined'},inplace=True)\n",
    "\n",
    "# print(df [df[\"Colors Reported\"] == 'color not defined' ])\n",
    "print(df)\n"
   ]
  },
  {
   "cell_type": "markdown",
   "metadata": {},
   "source": [
    "<p style=\"color:RGB(65, 105, 225); font-size: 14pt\">* DateTime Functions </p>"
   ]
  },
  {
   "cell_type": "code",
   "execution_count": null,
   "metadata": {},
   "outputs": [],
   "source": []
  },
  {
   "cell_type": "markdown",
   "metadata": {},
   "source": [
    "<p style=\"color:RGB(65, 105, 225); font-size: 14pt\">* Add new column (\"How Many UFO\") with data in pandas.DataFrame </p>"
   ]
  },
  {
   "cell_type": "code",
   "execution_count": 5,
   "metadata": {},
   "outputs": [
    {
     "name": "stdout",
     "output_type": "stream",
     "text": [
      "                    City    Colors Reported Shape Reported State              Time  How Many UFO\n",
      "0            Willingboro  color not defined          OTHER    NJ   6/30/1930 20:00             1\n",
      "1                Holyoke  color not defined           OVAL    CO   2/15/1931 14:00             3\n",
      "2                Abilene  color not defined           DISK    KS  06-01-1931 13.00             3\n",
      "3   New York Worlds Fair  color not defined          LIGHT    NY   4/18/1933 19:00             3\n",
      "4            Valley City  color not defined           DISK    ND   9/15/1934 15:30             2\n",
      "5            Crater Lake  color not defined         CIRCLE    CA    6/15/1935 0:00             2\n",
      "6                   Alma  color not defined           DISK    MI    7/15/1936 0:00             3\n",
      "7                Eklutna  color not defined          CIGAR    AK  10/15/1936 17:00             2\n",
      "8                Hubbard  color not defined       CYLINDER    OR    6/15/1937 0:00             2\n",
      "9                Fontana  color not defined          LIGHT    CA   8/15/1937 21:00             1\n",
      "10              Waterloo  color not defined       FIREBALL    AL  06-01-1939 20.00             1\n",
      "11                Belton                RED         SPHERE    SC   6/30/1939 20:00             1\n",
      "12                Keokuk  color not defined           OVAL    IA   07-07-1939 2.00             2\n",
      "13             Ludington  color not defined           DISK    MI  06-01-1941 13.00             1\n",
      "14           Forest Home  color not defined         CIRCLE    CA  07-02-1941 11.30             3\n",
      "15           Los Angeles  color not defined            NaN    CA    2/25/1942 0:00             3\n",
      "16             Hapeville  color not defined            NaN    GA  06-01-1942 22.30             3\n",
      "17                Oneida  color not defined      RECTANGLE    TN    7/15/1942 1:00             2\n",
      "18            Bering Sea                RED          OTHER    AK   4/30/1943 23:00             2\n",
      "19              Nebraska  color not defined           DISK    NE  06-01-1943 15.00             3\n",
      "20                   NaN  color not defined            NaN    LA    8/15/1943 0:00             1\n",
      "21                   NaN  color not defined          LIGHT    LA    8/15/1943 0:00             2\n",
      "22             Owensboro  color not defined      RECTANGLE    KY  10/15/1943 11:00             2\n",
      "23            Wilderness  color not defined           DISK    WV  01-01-1944 10.00             2\n",
      "24             San Diego  color not defined          CIGAR    CA  01-01-1944 12.00             1\n",
      "25            Wilderness  color not defined           DISK    WV  01-01-1944 12.00             1\n",
      "26                Clovis  color not defined           DISK    NM  04-02-1944 11.00             1\n",
      "27            Los Alamos  color not defined           DISK    NM  06-01-1944 12.00             2\n",
      "28          Ft. Duschene  color not defined           DISK    UT   6/30/1944 10:00             2\n",
      "29       South Kingstown  color not defined         SPHERE    RI  07-01-1944 20.00             2\n",
      "30           North Tampa  color not defined       CYLINDER    FL   7/15/1944 13:00             1\n",
      "31               Ft. Lee  color not defined          CIGAR    VA  01-01-1945 12.00             2\n",
      "32           Salinas AFB  color not defined           DISK    CA  06-01-1945 12.00             3\n",
      "33                Jasper  color not defined       FIREBALL    FL  06-01-1945 13.30             2\n",
      "34         Winston-Salem  color not defined           DISK    NC   06-07-1945 7.00             2\n",
      "35            Portsmouth                RED      FORMATION    VA   07-10-1945 1.30             1\n",
      "36                Dallas  color not defined         SPHERE    TX   7/15/1945 14:00             3\n",
      "37      Huntington Beach  color not defined           DISK    CA  08-08-1945 12.00             1\n"
     ]
    }
   ],
   "source": [
    "import pandas as pd\n",
    "import numpy as np\n",
    "\n",
    "pd.set_option('display.max_rows', None)\n",
    "pd.set_option('display.max_columns', None)\n",
    "pd.set_option('display.max_colwidth', 140)\n",
    "pd.set_option('display.width', 240)\n",
    "\n",
    "df = pd.read_csv(\"ufo.csv\", names=[\"City\", \"Colors Reported\", \"Shape Reported\", \"State\", \"Time\"], nrows=38,\n",
    "                 header=1)\n",
    "\n",
    "df[\"How Many UFO\"] = [np.random.randint(1, 4) for i in np.arange(1, max(df.count() + 1))]\n",
    "df.fillna(value={\"Colors Reported\" : 'color not defined'},inplace=True)\n",
    "print(df)"
   ]
  },
  {
   "cell_type": "markdown",
   "metadata": {},
   "source": [
    "<p style=\"color:RGB(65, 105, 225); font-size: 14pt\">* TODO </p>"
   ]
  },
  {
   "cell_type": "code",
   "execution_count": 7,
   "metadata": {},
   "outputs": [
    {
     "name": "stdout",
     "output_type": "stream",
     "text": [
      "                     Colors Reported Shape Reported State              Time\n",
      "City                                                                       \n",
      "Willingboro                      NaN          OTHER    NJ   6/30/1930 20:00\n",
      "Holyoke                          NaN           OVAL    CO   2/15/1931 14:00\n",
      "Abilene                          NaN           DISK    KS  06-01-1931 13.00\n",
      "New York Worlds Fair             NaN          LIGHT    NY   4/18/1933 19:00\n",
      "Valley City                      NaN           DISK    ND   9/15/1934 15:30\n",
      "Crater Lake                      NaN         CIRCLE    CA    6/15/1935 0:00\n",
      "Alma                             NaN           DISK    MI    7/15/1936 0:00\n",
      "Eklutna                          NaN          CIGAR    AK  10/15/1936 17:00\n",
      "Hubbard                          NaN       CYLINDER    OR    6/15/1937 0:00\n",
      "Fontana                          NaN          LIGHT    CA   8/15/1937 21:00\n",
      "Waterloo                         NaN       FIREBALL    AL  06-01-1939 20.00\n",
      "Belton                           RED         SPHERE    SC   6/30/1939 20:00\n",
      "Keokuk                           NaN           OVAL    IA   07-07-1939 2.00\n",
      "Ludington                        NaN           DISK    MI  06-01-1941 13.00\n",
      "Forest Home                      NaN         CIRCLE    CA  07-02-1941 11.30\n",
      "Los Angeles                      NaN            NaN    CA    2/25/1942 0:00\n",
      "Hapeville                        NaN            NaN    GA  06-01-1942 22.30\n",
      "Oneida                           NaN      RECTANGLE    TN    7/15/1942 1:00\n",
      "Bering Sea                       RED          OTHER    AK   4/30/1943 23:00\n",
      "Nebraska                         NaN           DISK    NE  06-01-1943 15.00\n",
      "NaN                              NaN            NaN    LA    8/15/1943 0:00\n",
      "NaN                              NaN          LIGHT    LA    8/15/1943 0:00\n",
      "Owensboro                        NaN      RECTANGLE    KY  10/15/1943 11:00\n",
      "Wilderness                       NaN           DISK    WV  01-01-1944 10.00\n",
      "San Diego                        NaN          CIGAR    CA  01-01-1944 12.00\n",
      "Wilderness                       NaN           DISK    WV  01-01-1944 12.00\n",
      "Clovis                           NaN           DISK    NM  04-02-1944 11.00\n",
      "Los Alamos                       NaN           DISK    NM  06-01-1944 12.00\n",
      "Ft. Duschene                     NaN           DISK    UT   6/30/1944 10:00\n",
      "South Kingstown                  NaN         SPHERE    RI  07-01-1944 20.00\n",
      "North Tampa                      NaN       CYLINDER    FL   7/15/1944 13:00\n",
      "Ft. Lee                          NaN          CIGAR    VA  01-01-1945 12.00\n",
      "Salinas AFB                      NaN           DISK    CA  06-01-1945 12.00\n",
      "Jasper                           NaN       FIREBALL    FL  06-01-1945 13.30\n",
      "Winston-Salem                    NaN           DISK    NC   06-07-1945 7.00\n",
      "Portsmouth                       RED      FORMATION    VA   07-10-1945 1.30\n",
      "Dallas                           NaN         SPHERE    TX   7/15/1945 14:00\n",
      "Huntington Beach                 NaN           DISK    CA  08-08-1945 12.00\n"
     ]
    }
   ],
   "source": [
    "import pandas as pd\n",
    "import numpy as np\n",
    "\n",
    "pd.set_option('display.max_rows', None)\n",
    "pd.set_option('display.max_columns', None)\n",
    "pd.set_option('display.max_colwidth', 140)\n",
    "pd.set_option('display.width', 240)\n",
    "\n",
    "df = pd.read_csv(\"ufo.csv\", names=[\"City\", \"Colors Reported\", \"Shape Reported\", \"State\", \"Time\"], nrows=38,\n",
    "                 header=1, index_col=\"City\")\n",
    "print(df)"
   ]
  },
  {
   "cell_type": "markdown",
   "metadata": {},
   "source": [
    "<p style=\"color:RGB(65, 105, 225); font-size: 14pt\">* TODO </p>"
   ]
  },
  {
   "cell_type": "code",
   "execution_count": null,
   "metadata": {},
   "outputs": [],
   "source": []
  },
  {
   "cell_type": "markdown",
   "metadata": {},
   "source": [
    "<p style=\"color:RGB(65, 105, 225); font-size: 14pt\">* TODO </p>"
   ]
  },
  {
   "cell_type": "code",
   "execution_count": null,
   "metadata": {},
   "outputs": [],
   "source": []
  },
  {
   "cell_type": "markdown",
   "metadata": {},
   "source": [
    "<p style=\"color:RGB(65, 105, 225); font-size: 14pt\">* TODO </p>"
   ]
  },
  {
   "cell_type": "code",
   "execution_count": null,
   "metadata": {},
   "outputs": [],
   "source": []
  },
  {
   "cell_type": "markdown",
   "metadata": {},
   "source": [
    "<p style=\"color:RGB(65, 105, 225); font-size: 14pt\">* TODO </p>"
   ]
  },
  {
   "cell_type": "code",
   "execution_count": null,
   "metadata": {},
   "outputs": [],
   "source": []
  },
  {
   "cell_type": "markdown",
   "metadata": {},
   "source": [
    "<p style=\"color:RGB(65, 105, 225); font-size: 14pt\">* TODO </p>"
   ]
  },
  {
   "cell_type": "code",
   "execution_count": null,
   "metadata": {},
   "outputs": [],
   "source": []
  },
  {
   "cell_type": "markdown",
   "metadata": {},
   "source": [
    "<p style=\"color:RGB(65, 105, 225); font-size: 14pt\">* TODO </p>"
   ]
  },
  {
   "cell_type": "code",
   "execution_count": null,
   "metadata": {},
   "outputs": [],
   "source": []
  },
  {
   "cell_type": "markdown",
   "metadata": {},
   "source": [
    "<p style=\"color:RGB(65, 105, 225); font-size: 14pt\">* TODO </p>"
   ]
  },
  {
   "cell_type": "code",
   "execution_count": null,
   "metadata": {},
   "outputs": [],
   "source": []
  },
  {
   "cell_type": "markdown",
   "metadata": {},
   "source": [
    "<p style=\"color:RGB(65, 105, 225); font-size: 14pt\">* TODO </p>"
   ]
  },
  {
   "cell_type": "code",
   "execution_count": null,
   "metadata": {},
   "outputs": [],
   "source": []
  },
  {
   "cell_type": "markdown",
   "metadata": {},
   "source": [
    "<p style=\"color:RGB(65, 105, 225); font-size: 14pt\">* TODO </p>"
   ]
  },
  {
   "cell_type": "code",
   "execution_count": null,
   "metadata": {},
   "outputs": [],
   "source": []
  },
  {
   "cell_type": "markdown",
   "metadata": {},
   "source": [
    "<p style=\"color:RGB(65, 105, 225); font-size: 14pt\">* TODO </p>"
   ]
  },
  {
   "cell_type": "code",
   "execution_count": null,
   "metadata": {},
   "outputs": [],
   "source": []
  },
  {
   "cell_type": "markdown",
   "metadata": {},
   "source": [
    "<p style=\"color:RGB(65, 105, 225); font-size: 14pt\">* TODO </p>"
   ]
  },
  {
   "cell_type": "code",
   "execution_count": null,
   "metadata": {},
   "outputs": [],
   "source": []
  },
  {
   "cell_type": "markdown",
   "metadata": {},
   "source": [
    "<p style=\"color:RGB(65, 105, 225); font-size: 14pt\">* TODO </p>"
   ]
  },
  {
   "cell_type": "code",
   "execution_count": null,
   "metadata": {},
   "outputs": [],
   "source": []
  },
  {
   "cell_type": "markdown",
   "metadata": {},
   "source": [
    "<p style=\"color:RGB(65, 105, 225); font-size: 14pt\">* TODO </p>"
   ]
  },
  {
   "cell_type": "code",
   "execution_count": null,
   "metadata": {},
   "outputs": [],
   "source": []
  },
  {
   "cell_type": "markdown",
   "metadata": {},
   "source": [
    "<p style=\"color:RGB(65, 105, 225); font-size: 14pt\">* TODO </p>"
   ]
  },
  {
   "cell_type": "code",
   "execution_count": null,
   "metadata": {},
   "outputs": [],
   "source": []
  },
  {
   "cell_type": "markdown",
   "metadata": {},
   "source": [
    "<p style=\"color:RGB(65, 105, 225); font-size: 14pt\">* TODO </p>"
   ]
  },
  {
   "cell_type": "code",
   "execution_count": null,
   "metadata": {},
   "outputs": [],
   "source": []
  },
  {
   "cell_type": "markdown",
   "metadata": {},
   "source": [
    "<p style=\"color:RGB(65, 105, 225); font-size: 14pt\">* TODO </p>"
   ]
  },
  {
   "cell_type": "code",
   "execution_count": null,
   "metadata": {},
   "outputs": [],
   "source": []
  },
  {
   "cell_type": "markdown",
   "metadata": {},
   "source": [
    "<p style=\"color:RGB(65, 105, 225); font-size: 14pt\">* TODO </p>"
   ]
  },
  {
   "cell_type": "code",
   "execution_count": null,
   "metadata": {},
   "outputs": [],
   "source": []
  },
  {
   "cell_type": "markdown",
   "metadata": {},
   "source": [
    "<p style=\"color:RGB(65, 105, 225); font-size: 14pt\">* TODO </p>"
   ]
  },
  {
   "cell_type": "code",
   "execution_count": null,
   "metadata": {},
   "outputs": [],
   "source": []
  },
  {
   "cell_type": "markdown",
   "metadata": {},
   "source": [
    "<p style=\"color:RGB(65, 105, 225); font-size: 14pt\">* TODO </p>"
   ]
  },
  {
   "cell_type": "code",
   "execution_count": null,
   "metadata": {},
   "outputs": [],
   "source": []
  },
  {
   "cell_type": "markdown",
   "metadata": {},
   "source": [
    "<p style=\"color:RGB(65, 105, 225); font-size: 14pt\">* TODO </p>"
   ]
  },
  {
   "cell_type": "code",
   "execution_count": null,
   "metadata": {},
   "outputs": [],
   "source": []
  },
  {
   "cell_type": "markdown",
   "metadata": {},
   "source": [
    "<p style=\"color:RGB(65, 105, 225); font-size: 14pt\">* TODO </p>"
   ]
  },
  {
   "cell_type": "code",
   "execution_count": null,
   "metadata": {},
   "outputs": [],
   "source": []
  },
  {
   "cell_type": "markdown",
   "metadata": {},
   "source": [
    "<p style=\"color:RGB(65, 105, 225); font-size: 14pt\">* TODO </p>"
   ]
  },
  {
   "cell_type": "code",
   "execution_count": null,
   "metadata": {},
   "outputs": [],
   "source": []
  },
  {
   "cell_type": "markdown",
   "metadata": {},
   "source": [
    "<p style=\"color:RGB(65, 105, 225); font-size: 14pt\">* TODO </p>"
   ]
  },
  {
   "cell_type": "code",
   "execution_count": null,
   "metadata": {},
   "outputs": [],
   "source": []
  },
  {
   "cell_type": "markdown",
   "metadata": {},
   "source": [
    "<p style=\"color:RGB(65, 105, 225); font-size: 14pt\">* TODO </p>"
   ]
  },
  {
   "cell_type": "code",
   "execution_count": null,
   "metadata": {},
   "outputs": [],
   "source": []
  },
  {
   "cell_type": "markdown",
   "metadata": {},
   "source": [
    "<p style=\"color:RGB(65, 105, 225); font-size: 14pt\">* TODO </p>"
   ]
  },
  {
   "cell_type": "code",
   "execution_count": null,
   "metadata": {},
   "outputs": [],
   "source": []
  },
  {
   "cell_type": "markdown",
   "metadata": {},
   "source": [
    "<p style=\"color:RGB(65, 105, 225); font-size: 14pt\">* TODO </p>"
   ]
  },
  {
   "cell_type": "code",
   "execution_count": null,
   "metadata": {},
   "outputs": [],
   "source": []
  },
  {
   "cell_type": "markdown",
   "metadata": {},
   "source": [
    "<p style=\"color:RGB(65, 105, 225); font-size: 14pt\">* TODO </p>"
   ]
  },
  {
   "cell_type": "code",
   "execution_count": null,
   "metadata": {},
   "outputs": [],
   "source": []
  },
  {
   "cell_type": "markdown",
   "metadata": {},
   "source": [
    "<p style=\"color:RGB(65, 105, 225); font-size: 14pt\">* TODO </p>"
   ]
  },
  {
   "cell_type": "code",
   "execution_count": null,
   "metadata": {},
   "outputs": [],
   "source": []
  },
  {
   "cell_type": "markdown",
   "metadata": {},
   "source": [
    "<p style=\"color:RGB(65, 105, 225); font-size: 14pt\">* TODO </p>"
   ]
  },
  {
   "cell_type": "code",
   "execution_count": null,
   "metadata": {},
   "outputs": [],
   "source": []
  },
  {
   "cell_type": "markdown",
   "metadata": {},
   "source": [
    "<p style=\"color:RGB(65, 105, 225); font-size: 14pt\">* TODO </p>"
   ]
  },
  {
   "cell_type": "code",
   "execution_count": null,
   "metadata": {},
   "outputs": [],
   "source": []
  },
  {
   "cell_type": "markdown",
   "metadata": {},
   "source": [
    "<p style=\"color:RGB(65, 105, 225); font-size: 14pt\">* TODO </p>"
   ]
  },
  {
   "cell_type": "code",
   "execution_count": null,
   "metadata": {},
   "outputs": [],
   "source": []
  },
  {
   "cell_type": "markdown",
   "metadata": {},
   "source": [
    "<p style=\"color:RGB(65, 105, 225); font-size: 14pt\">* TODO </p>"
   ]
  },
  {
   "cell_type": "code",
   "execution_count": null,
   "metadata": {},
   "outputs": [],
   "source": []
  },
  {
   "cell_type": "markdown",
   "metadata": {},
   "source": [
    "<p style=\"color:RGB(65, 105, 225); font-size: 14pt\">* TODO </p>"
   ]
  },
  {
   "cell_type": "code",
   "execution_count": null,
   "metadata": {},
   "outputs": [],
   "source": []
  },
  {
   "cell_type": "markdown",
   "metadata": {},
   "source": [
    "<p style=\"color:RGB(65, 105, 225); font-size: 14pt\">* TODO </p>"
   ]
  },
  {
   "cell_type": "code",
   "execution_count": null,
   "metadata": {},
   "outputs": [],
   "source": []
  },
  {
   "cell_type": "markdown",
   "metadata": {},
   "source": [
    "<p style=\"color:RGB(65, 105, 225); font-size: 14pt\">* TODO </p>"
   ]
  },
  {
   "cell_type": "code",
   "execution_count": null,
   "metadata": {},
   "outputs": [],
   "source": []
  },
  {
   "cell_type": "markdown",
   "metadata": {},
   "source": [
    "<p style=\"color:RGB(65, 105, 225); font-size: 14pt\">* TODO </p>"
   ]
  },
  {
   "cell_type": "code",
   "execution_count": null,
   "metadata": {},
   "outputs": [],
   "source": []
  },
  {
   "cell_type": "markdown",
   "metadata": {},
   "source": [
    "<p style=\"color:RGB(65, 105, 225); font-size: 14pt\">* TODO </p>"
   ]
  },
  {
   "cell_type": "code",
   "execution_count": null,
   "metadata": {},
   "outputs": [],
   "source": []
  },
  {
   "cell_type": "markdown",
   "metadata": {},
   "source": [
    "<p style=\"color:RGB(65, 105, 225); font-size: 14pt\">* TODO </p>"
   ]
  },
  {
   "cell_type": "code",
   "execution_count": null,
   "metadata": {},
   "outputs": [],
   "source": []
  },
  {
   "cell_type": "markdown",
   "metadata": {},
   "source": [
    "<p style=\"color:RGB(65, 105, 225); font-size: 14pt\">* TODO </p>"
   ]
  },
  {
   "cell_type": "code",
   "execution_count": null,
   "metadata": {},
   "outputs": [],
   "source": []
  },
  {
   "cell_type": "markdown",
   "metadata": {},
   "source": [
    "<p style=\"color:RGB(65, 105, 225); font-size: 14pt\">* TODO </p>"
   ]
  },
  {
   "cell_type": "code",
   "execution_count": null,
   "metadata": {},
   "outputs": [],
   "source": []
  },
  {
   "cell_type": "markdown",
   "metadata": {},
   "source": [
    "<p style=\"color:RGB(65, 105, 225); font-size: 14pt\">* TODO </p>"
   ]
  },
  {
   "cell_type": "code",
   "execution_count": null,
   "metadata": {},
   "outputs": [],
   "source": []
  },
  {
   "cell_type": "markdown",
   "metadata": {},
   "source": [
    "<p style=\"color:RGB(65, 105, 225); font-size: 14pt\">* TODO </p>"
   ]
  },
  {
   "cell_type": "code",
   "execution_count": null,
   "metadata": {},
   "outputs": [],
   "source": []
  },
  {
   "cell_type": "markdown",
   "metadata": {},
   "source": [
    "<p style=\"color:RGB(65, 105, 225); font-size: 14pt\">* TODO </p>"
   ]
  },
  {
   "cell_type": "code",
   "execution_count": null,
   "metadata": {},
   "outputs": [],
   "source": []
  }
 ],
 "metadata": {
  "kernelspec": {
   "display_name": "Python 3",
   "language": "python",
   "name": "python3"
  },
  "language_info": {
   "codemirror_mode": {
    "name": "ipython",
    "version": 3
   },
   "file_extension": ".py",
   "mimetype": "text/x-python",
   "name": "python",
   "nbconvert_exporter": "python",
   "pygments_lexer": "ipython3",
   "version": "3.8.5"
  }
 },
 "nbformat": 4,
 "nbformat_minor": 4
}
